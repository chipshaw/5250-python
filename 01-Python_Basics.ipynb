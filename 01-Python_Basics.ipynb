{
 "cells": [
  {
   "cell_type": "markdown",
   "metadata": {
    "colab_type": "text",
    "id": "tW_J7AXyvihB",
    "tags": []
   },
   "source": [
    "# Module 01 \n"
   ]
  },
  {
   "cell_type": "markdown",
   "metadata": {
    "colab_type": "text",
    "id": "tW_J7AXyvihB",
    "tags": []
   },
   "source": [
    "# 1.00 Computers, Algorithms and Programs\n"
   ]
  },
  {
   "cell_type": "markdown",
   "metadata": {
    "colab_type": "text",
    "id": "w7857I20jvwB",
    "tags": []
   },
   "source": [
    "## Goals\n",
    "\n",
    "\n",
    "By the end of section 1, the student should be able to:\n",
    "\n",
    "- Define Computational Thinking\n",
    "- Describe introductory concepts on Problem solving, Algorithms and Programming Languages \n"
   ]
  },
  {
   "cell_type": "markdown",
   "metadata": {
    "colab_type": "text",
    "id": "SkWLiSnxv6vD"
   },
   "source": [
    "## Computer Scientists\n",
    "\n",
    "\n",
    "- Like **mathematicians**, computer scientists use formal languages to denote ideas (specifically computations). \n",
    "\n",
    "- Like **engineers**, they design things, assembling components into systems and evaluating tradeoffs among alternatives. \n",
    "\n",
    "- Like **scientists**, they observe the behavior of complex systems, form hypotheses, and test predictions.\n",
    "    "
   ]
  },
  {
   "cell_type": "markdown",
   "metadata": {
    "colab_type": "text",
    "id": "3MHNy0jmv-nt"
   },
   "source": [
    "## Computational thinking\n",
    "\n",
    "\n",
    "![Computational thinking](images/01/comp-thinking.png)\n",
    "\n",
    "The four cornerstones of computational thinking\n",
    "There are four key techniques (cornerstones) to computational thinking:\n",
    "\n",
    "- **decomposition** - breaking down a complex problem or system into smaller, more manageable parts\n",
    "\n",
    "- **pattern recognition** – looking for similarities among and within problems\n",
    "\n",
    "- **abstraction** – focusing on the important information only, ignoring irrelevant detail\n",
    "\n",
    "- **algorithms** - developing a step-by-step solution to the problem, or the rules to follow to solve the problem\n",
    "\n",
    "\n"
   ]
  },
  {
   "cell_type": "markdown",
   "metadata": {
    "colab_type": "text",
    "id": "4rp6P30kvxtU"
   },
   "source": [
    "## Problem solving\n",
    "\n",
    "\n",
    "The single most important skill for a computer scientist is **problem solving**.\n",
    "\n",
    "* Problem solving means the ability to formulate problems, think creatively about solutions, and express a solution clearly and accurately\n",
    "\n",
    "* The process of learning to program is an excellent opportunity to practice problem-solving skills.\n",
    "\n"
   ]
  },
  {
   "cell_type": "markdown",
   "metadata": {
    "colab_type": "text",
    "id": "hv3EiREtzX9z"
   },
   "source": [
    "## Algorithm\n",
    "\n",
    "If problem solving is a central part of computer science, then the solutions that you create through the problem solving process are also important. \n",
    "In computer science, we refer to these solutions as algorithms.\n",
    "\n",
    "- A set of specific steps for solving a category of problems\n",
    "\n",
    "- **steps + flow + stop decision**"
   ]
  },
  {
   "cell_type": "markdown",
   "metadata": {
    "colab_type": "text",
    "id": "skAwoFxG0TBE"
   },
   "source": [
    "## High-level languages\n",
    "\n",
    "- Low-level languages (machine languages or assembly languages),\n",
    "    are the only languages a computer executes; \n",
    "    \n",
    "- Thus, programs written in a high-level language have to be\n",
    "    translated into something *more suitable* before they can run;\n",
    "    \n",
    "- Python is an example of a high-level language; \n",
    "\n",
    "- Other high-level languages you might have heard of are C++,\n",
    "    JavaScript, PHP, Pascal, C# or Java.\n",
    "    \n",
    " "
   ]
  },
  {
   "cell_type": "markdown",
   "metadata": {
    "colab_type": "text",
    "id": "hiwgjkBw0pDm"
   },
   "source": [
    "## Python Interpreter\n",
    "\n",
    "\n",
    "There are two ways to use it: \n",
    "\n",
    "- In *immediate mode* (or *Shell mode*), you type Python expressions into the Python\n",
    "    Interpreter window, and the interpreter immediately shows the result;\n",
    "\n",
    "- In *script mode* (or *program mode*), you can write a program in a file and use the\n",
    "    interpreter to execute the contents of the file.\n",
    "\n",
    "![Interpreter](images/01/interpreter.png)\n",
    "\n"
   ]
  },
  {
   "cell_type": "code",
   "execution_count": null,
   "metadata": {
    "colab": {},
    "colab_type": "code",
    "id": "5d4gVzvr50fC"
   },
   "outputs": [],
   "source": [
    "6 + 3"
   ]
  },
  {
   "cell_type": "markdown",
   "metadata": {
    "colab_type": "text",
    "id": "x7U4vcrm5IWq"
   },
   "source": [
    "### Compilers\n",
    "\n",
    "\n",
    "Note that some languages are compiled (e.g. C++)\n",
    "\n",
    "![compiler](images/01/compiler.png)\n",
    "\n",
    "\n"
   ]
  },
  {
   "cell_type": "markdown",
   "metadata": {
    "colab_type": "text",
    "id": "w2FffcLZ59Eg"
   },
   "source": [
    "### Virtual machines\n",
    "\n",
    "\n",
    "- Many modern languages use both processes\n",
    "  * They are first compiled into a lower level language, called **byte code**, \n",
    "  * and then interpreted by a program called a virtual machine\n",
    "- Python uses both processes, but because of the way programmers interact with it, it is usually considered an interpreted language\n"
   ]
  },
  {
   "cell_type": "markdown",
   "metadata": {
    "colab_type": "text",
    "id": "Eo3uP8Je1eoT"
   },
   "source": [
    "## Python\n",
    "\n",
    "- Python is everywhere and is quite popular among data scientists and startups.\n",
    "\n",
    "- Python has the added benefit of being a clean and simple syntax with massive community run library (NumPy, Pandas, SciPy, etc.).\n",
    "\n",
    "- Later, there's lots you can do with Python:\n",
    "  * Web Development\n",
    "  * Scientific and Numeric Computing\n",
    "  * Machine Learning (neural networks)\n",
    "  * Chat bots\n",
    "  * Automate the Boring Stuff\n",
    "  * Write your own games\n"
   ]
  },
  {
   "cell_type": "markdown",
   "metadata": {
    "colab_type": "text",
    "id": "WE_n05hV5wG-"
   },
   "source": [
    "Execute an example of Python code:"
   ]
  },
  {
   "cell_type": "code",
   "execution_count": null,
   "metadata": {
    "colab": {},
    "colab_type": "code",
    "id": "62hKQ1Au4YKu"
   },
   "outputs": [],
   "source": [
    "\n",
    "import datetime\n",
    "now = datetime.datetime.now()\n",
    "\n",
    "print()\n",
    "print(\"Current date and time using str method of datetime object:\")\n",
    "print()\n",
    "print(str(now))\n",
    "\n",
    "print()\n",
    "print(\"Current date and time using instance attributes:\")\n",
    "print()\n",
    "print(\"Current year: %d\" % now.year)\n",
    "print(\"Current month: %d\" % now.month)\n",
    "print(\"Current day: %d\" % now.day)\n",
    "print(\"Current hour: %d\" % now.hour)\n",
    "print(\"Current minute: %d\" % now.minute)\n",
    "print(\"Current second: %d\" % now.second)\n",
    "print(\"Current microsecond: %d\" % now.microsecond)\n",
    "\n",
    "print()\n",
    "print(\"Current date and time using strftime:\")\n",
    "print(now.strftime(\"%Y-%m-%d %H:%M\"))"
   ]
  },
  {
   "cell_type": "markdown",
   "metadata": {
    "colab_type": "text",
    "id": "QB3dx-Jo3L80"
   },
   "source": [
    "## 1.01 The Python programming language\n",
    "\n",
    "\n",
    "- Python is an interpreted high-level programming language for\n",
    "    general-purpose programming\n",
    "\n",
    "- Created by Guido van Rossum and first released in 1991\n",
    "\n",
    "- Named after Monty Python's Flying Circus\n",
    "\n",
    "- Python has a design philosophy that emphasizes code\n",
    "    readability, notably using significant whitespace.\n",
    "\n",
    "- It provides constructs that enable clear programming on both\n",
    "    small and large scales\n",
    "\n",
    "- Python features a dynamic type system and automatic memory\n",
    "    management\n",
    "\n",
    "- It supports multiple programming paradigms, including\n",
    "    imperative, functional, procedural and object-oriented\n",
    "- It has a large and comprehensive standard library\n"
   ]
  },
  {
   "cell_type": "markdown",
   "metadata": {
    "colab_type": "text",
    "id": "YNKNDIZm3rTg"
   },
   "source": [
    "## 1.02 What is a program?\n",
    "\n",
    "\n",
    "- A program is a sequence of instructions that specifies how to\n",
    "    perform a computation\n",
    "\n",
    "- A few basic instructions appear in just about every language:\n",
    "\n",
    "  * **input**: Get data from the keyboard, a file, or some other\n",
    "      device (such as a sensor) \n",
    "\n",
    "  * **output**: Display data on the screen or send data to a file\n",
    "      or other device (such as a motor)\n",
    "\n",
    "  * **math**: Perform basic mathematical operations like addition\n",
    "      and multiplication \n",
    "\n",
    "  * **conditional execution**: Check for certain conditions and\n",
    "      execute the appropriate sequence of statements \n",
    "\n",
    "  * **repetition**: Perform some action repeatedly, usually with\n",
    "      some variation "
   ]
  },
  {
   "cell_type": "markdown",
   "metadata": {
    "colab_type": "text",
    "id": "8z5cONg8rUrX",
    "tags": []
   },
   "source": [
    "# 2.00 Variables, expressions and statements\n"
   ]
  },
  {
   "cell_type": "markdown",
   "metadata": {},
   "source": [
    "## Goals\n",
    "\n",
    "\n",
    "By the end of section 2, the student should be able to:\n",
    "\n",
    "- Describe and distinguish the concepts of variable, location, value, type\n",
    "\n",
    "- Identify the Python reserved words\n",
    "\n",
    "- Describe the concepts of statement and expression\n",
    "\n",
    "- Identify some of the Python operands and their precedence\n",
    "\n",
    "- Use operators with suitable operands\n",
    "\n",
    "- Describe the Python type conversion operations and use them\n",
    "\n",
    "- Describe how to get input, at runtime, from an user of the program"
   ]
  },
  {
   "cell_type": "markdown",
   "metadata": {
    "colab_type": "text",
    "id": "pPfDMznP1B1k",
    "tags": []
   },
   "source": [
    "# Simple Python Data\n"
   ]
  },
  {
   "cell_type": "markdown",
   "metadata": {
    "colab_type": "text",
    "id": "MagKTtyv1QlU"
   },
   "source": [
    "## 2.01 Values and data types\n",
    "\n",
    "\n",
    "- A **value** is one of the fundamental things that a program\n",
    "    manipulates (like `5` or `\"Hello world!\"`)\n",
    "\n",
    "- The values are refered to as **objects** in Python\n",
    "\n",
    "- Values are classified into different classes, or **data types** (`5` is an integer and `\"Hello world!\"` is a string)\n",
    "\n",
    "- **type()** is a function that tell us the type of a value\n",
    "\n",
    "\n",
    "Try running the following code and think about the results you get:"
   ]
  },
  {
   "cell_type": "code",
   "execution_count": null,
   "metadata": {
    "colab": {},
    "colab_type": "code",
    "id": "hobcz42boLn6"
   },
   "outputs": [],
   "source": [
    "print(type(\"Hello, World!\"))\n",
    "print(type(5))\n",
    "type(5)\n",
    "print(\"Hello, world\")"
   ]
  },
  {
   "cell_type": "code",
   "execution_count": null,
   "metadata": {
    "colab": {},
    "colab_type": "code",
    "id": "4ggrLK_WpR15"
   },
   "outputs": [],
   "source": [
    "print(type(\"3.2\"))\n",
    "print(type(3.2))"
   ]
  },
  {
   "cell_type": "code",
   "execution_count": null,
   "metadata": {
    "colab": {},
    "colab_type": "code",
    "id": "me-eKXqK89nX"
   },
   "outputs": [],
   "source": [
    "print(\"Hello, 'Chip' World\")\n",
    "type('Hello, World!')"
   ]
  },
  {
   "cell_type": "code",
   "execution_count": null,
   "metadata": {
    "colab": {},
    "colab_type": "code",
    "id": "Twkb-b6BqBZk"
   },
   "outputs": [],
   "source": [
    "print(42000)\n",
    "print(42,000)\n",
    "print(\"aaa\",\"bbb\")\n",
    "print(\"aaa\"+\"bbb\")"
   ]
  },
  {
   "cell_type": "code",
   "execution_count": null,
   "metadata": {
    "colab": {},
    "colab_type": "code",
    "id": "KPbwopsmp0pm"
   },
   "outputs": [],
   "source": [
    "print(42, 17, 56, 34, 11, 4.35, 32)\n",
    "print(3.4, \"hello\", 45)"
   ]
  },
  {
   "cell_type": "markdown",
   "metadata": {
    "colab_type": "text",
    "id": "ez_5o9ir2oDq"
   },
   "source": [
    "## 2.02 Variables\n",
    "\n",
    "\n",
    "- A variable is a **name** that refers to a **value**\n",
    "\n",
    "- **Assignment** gives a value to a variable\n",
    "\n",
    "- The assignment statement binds a *name*, on the left-hand side of\n",
    "    the operator, to a *value*, on the right-hand side\n",
    "\n",
    "- Later, one can assign a different value to the same variable (this\n",
    "    is different from maths!)\n",
    "\n",
    "- The assignment token, `=`, should not be confused with the equals\n",
    "    token, `==`\n",
    "\n"
   ]
  },
  {
   "cell_type": "code",
   "execution_count": null,
   "metadata": {
    "colab": {},
    "colab_type": "code",
    "id": "sEgRXRafZJPZ"
   },
   "outputs": [],
   "source": [
    "message = \"What's up, Doc?\" #Assignment of variable - message\n",
    "n = 17\n",
    "pi = 3.14159\n",
    "print(message)\n",
    "message = \"For something completely different.\" #Reassignment of variable - message\n",
    "\n",
    "print(message)\n",
    "print(n)\n",
    "print(pi)\n",
    "\n",
    "print(type(message))\n",
    "print(type(n))\n",
    "print(type(pi))"
   ]
  },
  {
   "cell_type": "markdown",
   "metadata": {
    "colab_type": "text",
    "id": "GF1tOcZFZKmM"
   },
   "source": [
    "Run the next cell to visualize the code"
   ]
  },
  {
   "cell_type": "code",
   "execution_count": null,
   "metadata": {},
   "outputs": [],
   "source": [
    "%%html\n",
    "<iframe width=\"800\" height=\"500\" frameborder=\"0\" src=\"http://pythontutor.com/iframe-embed.html#code=message%20%3D%20%22What's%20up,%20Doc%3F%22%0An%20%3D%2017%0Api%20%3D%203.14159%0Aprint%28message%29%0Amessage%20%3D%20%22For%20something%20completely%20different.%22%0A%0Aprint%28message%29%0Aprint%28n%29%0Aprint%28pi%29%0A&codeDivHeight=400&codeDivWidth=350&cumulative=false&curInstr=0&heapPrimitives=nevernest&origin=opt-frontend.js&py=3&rawInputLstJSON=%5B%5D&textReferences=false\"> </iframe>"
   ]
  },
  {
   "cell_type": "markdown",
   "metadata": {
    "colab_type": "text",
    "id": "jrr9ZZgwEr04"
   },
   "source": [
    "### Equality\n",
    "\n",
    "- It is important to note that in mathematics, a statement of equality is always true. \n",
    "  * If a is equal to b now, then a will always equal to b.\n",
    "  \n",
    "- In Python, an assignment statement can make two variables refer to the same object and therefore have the same value. \n",
    "\n",
    "- They appear to be equal. \n",
    "\n",
    "- However, because of the possibility of reassignment, they don’t have to stay that way:"
   ]
  },
  {
   "cell_type": "code",
   "execution_count": null,
   "metadata": {
    "colab": {},
    "colab_type": "code",
    "id": "XDhnh5mYFCFE"
   },
   "outputs": [],
   "source": [
    "a = 5\n",
    "b = a      # after executing this line, a and b are now equal\n",
    "print(a, b)\n",
    "a = 3      # after executing this line, a and b are no longer equal\n",
    "print(a, b)\n",
    "\n",
    "a = a + 1  # update with a new value \n",
    "print(a)"
   ]
  },
  {
   "cell_type": "markdown",
   "metadata": {},
   "source": [
    " Run the next cell to visualize the code"
   ]
  },
  {
   "cell_type": "code",
   "execution_count": null,
   "metadata": {
    "colab_type": "text",
    "id": "GF1tOcZFZKmM"
   },
   "outputs": [],
   "source": [
    "%%html\n",
    "<iframe width=\"800\" height=\"500\" frameborder=\"1\" src=\"https://pythontutor.com/iframe-embed.html#code=a%20%3D%205%0Ab%20%3D%20a%20%20%20%20%20%20%23%20after%20executing%20this%20line,%20a%20and%20b%20are%20now%20equal%0Aprint%28a,%20b%29%0Aa%20%3D%203%20%20%20%20%20%20%23%20after%20executing%20this%20line,%20a%20and%20b%20are%20no%20longer%20equal%0Aprint%28a,%20b%29%0A%0Aa%20%3D%20a%20%2B%201%20%20%23%20update%20with%20a%20new%20value%20%0Aprint%28a%29&codeDivHeight=400&codeDivWidth=350&cumulative=false&curInstr=0&heapPrimitives=nevernest&origin=opt-frontend.js&py=3&rawInputLstJSON=%5B%5D&textReferences=false\"> </iframe>"
   ]
  },
  {
   "cell_type": "markdown",
   "metadata": {
    "colab_type": "text",
    "id": "lEU7DVfQ3Dcr"
   },
   "source": [
    "## 2.03 Variable names and keywords\n",
    "\n",
    "\n",
    "### Variable names\n",
    "\n",
    "- **Variable names** can be arbitrarily long\n",
    "\n",
    "- They can contain both letters and digits, but they have to begin\n",
    "    with a letter or an underscore\n",
    "\n",
    "- It is legal to use uppercase letters, but it is not done (by\n",
    "    convention)\n",
    "\n",
    "- Names should be \"meaningful to the human readers\" (not to be\n",
    "    confused with \"meaningful to the computer\")\n"
   ]
  },
  {
   "cell_type": "markdown",
   "metadata": {
    "colab_type": "text",
    "id": "Ndal8aHn3Lej"
   },
   "source": [
    "### Keywords\n",
    "\n",
    "- Keywords define the language's syntax rules and structure\n",
    "\n",
    "- They cannot be used as variable names\n",
    "\n",
    "| and     | as    | assert | break    | class  | continue |\n",
    "|:--------|:------|:-------|:---------|:-------|:---------|\n",
    "| def     | del   | elif   | else     | except | exec     |\n",
    "| finally | for   | from   | global   | if     | import   |\n",
    "| in      | is    | lambda | nonlocal | not    | or       |\n",
    "| pass    | raise | return | try      | while  | with     |\n",
    "| yield   | True  | False  | None     |        |          |\n",
    "          "
   ]
  },
  {
   "cell_type": "code",
   "execution_count": null,
   "metadata": {
    "colab": {},
    "colab_type": "code",
    "id": "YBNnVF7EaZKu"
   },
   "outputs": [],
   "source": [
    "True = \"true\""
   ]
  },
  {
   "cell_type": "code",
   "execution_count": null,
   "metadata": {
    "colab": {},
    "colab_type": "code",
    "id": "nSKeZN4OakEZ"
   },
   "outputs": [],
   "source": [
    "true = False\n",
    "print(true)\n",
    "print(type(true))\n",
    "\n",
    "true = 'False'\n",
    "print(true)\n",
    "print(type(true))"
   ]
  },
  {
   "cell_type": "markdown",
   "metadata": {
    "colab_type": "text",
    "id": "GzAzTYG63qTF"
   },
   "source": [
    "## 2.04 Statements\n",
    "\n",
    "\n",
    "- A **statement** is an instruction that the Python interpreter can\n",
    "    execute\n",
    "\n",
    "- Statements don't produce any result\n",
    "\n",
    "- Further to the assignment statement, there are others (`while`\n",
    "    statements, `for` statements, `if` statements, `import` statements)\n",
    "\n",
    "- (There are other kinds too!)\n"
   ]
  },
  {
   "cell_type": "markdown",
   "metadata": {
    "colab_type": "text",
    "id": "1vWbvpEA3yxE"
   },
   "source": [
    "## 2.05 Evaluating expressions\n",
    "\n",
    "\n",
    "- An **expression** is a combination of values, variables, operators,\n",
    "    and calls to functions\n",
    "\n",
    "- The Python interpreter evaluates expressions and displays its result\n",
    "    (a value)\n",
    "\n",
    "- A value all by itself is a simple expression, and so is a variable\n"
   ]
  },
  {
   "cell_type": "code",
   "execution_count": null,
   "metadata": {
    "colab": {},
    "colab_type": "code",
    "id": "aXxPbVzSbQ6z"
   },
   "outputs": [],
   "source": [
    "print(1 + 1)\n",
    "print(len(\"hello\"))"
   ]
  },
  {
   "cell_type": "code",
   "execution_count": null,
   "metadata": {
    "colab": {},
    "colab_type": "code",
    "id": "domY3_rBbYMB"
   },
   "outputs": [],
   "source": [
    "y = 3.14\n",
    "x = len(\"hello\")\n",
    "print(x)\n",
    "print(y)"
   ]
  },
  {
   "cell_type": "markdown",
   "metadata": {
    "colab_type": "text",
    "id": "CjmNjO7K38mG"
   },
   "source": [
    "## 2.06 Operators and operands\n",
    "\n",
    "\n",
    "- **Operators** are special tokens that represent computations like\n",
    "    addition, multiplication and division\n",
    "\n",
    "- The values the operator uses are called **operands**\n",
    "\n",
    "- Operations in Python (`+`, `-`, `/`) mean what they mean in\n",
    "    mathematics\n",
    "\n",
    "- Asterisk ( `*` ) is the token for multiplication, and `**` is the\n",
    "    token for exponentiation"
   ]
  },
  {
   "cell_type": "code",
   "execution_count": null,
   "metadata": {
    "colab": {},
    "colab_type": "code",
    "id": "eH_9OmPC6NiF"
   },
   "outputs": [],
   "source": [
    "print(2 + 3)\n",
    "print(2 - 3)\n",
    "print(2 * 3)\n",
    "print(2 ** 3)\n",
    "print(3 ** 2)"
   ]
  },
  {
   "cell_type": "markdown",
   "metadata": {
    "colab_type": "text",
    "id": "UYucGUm16iYs"
   },
   "source": [
    " When a variable name appears in the place of an operand, it is\n",
    "    replaced with its value before the operation is performed"
   ]
  },
  {
   "cell_type": "code",
   "execution_count": null,
   "metadata": {
    "colab": {},
    "colab_type": "code",
    "id": "QcZxxJN46pXo"
   },
   "outputs": [],
   "source": [
    "minutes = 645\n",
    "hours = minutes/ 60\n",
    "print(hours)"
   ]
  },
  {
   "cell_type": "markdown",
   "metadata": {
    "colab_type": "text",
    "id": "3xse6J8l4E5J"
   },
   "source": [
    "## 2.07 Type conversion functions\n",
    "\n",
    "\n",
    "- Type conversion functions `int()`, `float()` and `str()`\n",
    "\n",
    "- will (attempt to) convert their arguments into types `int`, `float`\n",
    "    and `str` respectively\n"
   ]
  },
  {
   "cell_type": "code",
   "execution_count": null,
   "metadata": {
    "colab": {},
    "colab_type": "code",
    "id": "R-Rx9_4kYKcT"
   },
   "outputs": [],
   "source": [
    "print(3.14, int(3.14))\n",
    "print(3.9999, int(3.9999))        # This doesn't round to the closest int!\n",
    "print(3.0, int(3.0))\n",
    "print(-3.999, int(-3.999))        # Note that the result is closer to zero\n",
    "\n",
    "print(\"2345\", int(\"2345\"))        # parse a string to produce an int\n",
    "print(17, int(17))                # int even works on integers\n",
    "print(int(\"23bottles\"))"
   ]
  },
  {
   "cell_type": "markdown",
   "metadata": {
    "colab_type": "text",
    "id": "M6IJ_posYYm3"
   },
   "source": [
    "The type converter `float` can turn an integer, a float, or a syntactically legal string into a float."
   ]
  },
  {
   "cell_type": "code",
   "execution_count": null,
   "metadata": {
    "colab": {},
    "colab_type": "code",
    "id": "o5JyTBPxYXwZ"
   },
   "outputs": [],
   "source": [
    "print(float(\"123\"))\n",
    "print(type(float(\"123\")))"
   ]
  },
  {
   "cell_type": "markdown",
   "metadata": {
    "colab_type": "text",
    "id": "HrRrrM3iYooN"
   },
   "source": [
    "The type converter `str` turns its argument into a string. Remember that when we print a string, the quotes are removed. "
   ]
  },
  {
   "cell_type": "code",
   "execution_count": null,
   "metadata": {
    "colab": {},
    "colab_type": "code",
    "id": "jQYahc_aYsuF"
   },
   "outputs": [],
   "source": [
    "print(str(17))\n",
    "print(str(123.45))\n",
    "print(type(str(123.45)))"
   ]
  },
  {
   "cell_type": "code",
   "execution_count": null,
   "metadata": {
    "colab": {},
    "colab_type": "code",
    "id": "cZRuyrE79AlC"
   },
   "outputs": [],
   "source": [
    "print(7 / 4)     # division\n",
    "print(7 // 4)    # integer division"
   ]
  },
  {
   "cell_type": "markdown",
   "metadata": {
    "colab_type": "text",
    "id": "NLkBO8bl4MtV"
   },
   "source": [
    "## 2.08 Order of operations\n",
    "\n",
    "\n",
    "- When more than one operator appears in an expression, the order of\n",
    "    evaluation depends on the **rules of precedence**\n",
    "\n",
    "- Python follows the same precedence rules for its mathematical\n",
    "    operators that mathematics does\n",
    "    * PEMDAS =  Parentheses, Exponents, Multiplication/Division, Addition/Subtraction\n",
    "\n",
    "- Operators with the same precedence are evaluated from left-to-right\n",
    "    (*left-associative*)\n",
    "\n",
    "- An exception to the left-to-right left-associative rule is the\n",
    "    exponentiation operator `**`"
   ]
  },
  {
   "cell_type": "code",
   "execution_count": null,
   "metadata": {
    "colab": {},
    "colab_type": "code",
    "id": "Ivlxb-m__hnk"
   },
   "outputs": [],
   "source": [
    "print(2 * 3 - 1)\n",
    "print(2 * (3-1))   #  force the evaluation order"
   ]
  },
  {
   "cell_type": "code",
   "execution_count": null,
   "metadata": {
    "colab": {},
    "colab_type": "code",
    "id": "mUCLiQlV_QUP"
   },
   "outputs": [],
   "source": [
    "print(2 ** 3 ** 2)     # the right-most ** operator gets done first!\n",
    "print((2 ** 3) ** 2)   # use parentheses to force the order you want!"
   ]
  },
  {
   "cell_type": "markdown",
   "metadata": {
    "colab_type": "text",
    "id": "4S79Tply4SCl"
   },
   "source": [
    "## 2.09 Operations on strings\n",
    "\n",
    "\n",
    "- One cannot perform mathematical operations on strings, even if the\n",
    "    strings look like numbers\n",
    "\n",
    "- The `+` operator represents concatenation, not addition\n",
    "\n",
    "- The `*` operator also works on strings; it performs repetition\n"
   ]
  },
  {
   "cell_type": "code",
   "execution_count": null,
   "metadata": {
    "colab": {},
    "colab_type": "code",
    "id": "2fuIPQXsHufZ"
   },
   "outputs": [],
   "source": [
    "message = \"Hi\"\n",
    "message - 1"
   ]
  },
  {
   "cell_type": "code",
   "execution_count": null,
   "metadata": {
    "colab": {},
    "colab_type": "code",
    "id": "hk23U3RMH5Yp"
   },
   "outputs": [],
   "source": [
    "print(message + \" \" + \"John Doe\")\n",
    "print(message * 3)"
   ]
  },
  {
   "cell_type": "markdown",
   "metadata": {
    "colab_type": "text",
    "id": "LuWB8wa16xHw",
    "tags": []
   },
   "source": [
    "## 2.10 The modulus operator\n",
    "\n",
    "\n",
    "- The **modulus operator** works on integers (and integer expressions)\n",
    "\n",
    "  - and gives the remainder when the first number is divided by the\n",
    "    second\n",
    "\n",
    "- In Python, the modulus operator is a percent sign (`%`)\n",
    "\n",
    "- It has the same precedence as the multiplication operator\n",
    "\n",
    "\n",
    "\n"
   ]
  },
  {
   "cell_type": "code",
   "execution_count": null,
   "metadata": {},
   "outputs": [],
   "source": [
    "5%2"
   ]
  },
  {
   "cell_type": "markdown",
   "metadata": {
    "colab_type": "text",
    "id": "V5xQ9hZkghFJ",
    "tags": []
   },
   "source": [
    "## 2.11 Comments\n",
    "\n",
    "\n",
    "- A comment in a computer program is text that is intended only\n",
    "    for the human reader\n",
    "- It is completely ignored by the interpreter\n",
    "- To comment a line start the line with #\n",
    "\n",
    "\n",
    "```python\n",
    "#---------------------------------------------------\n",
    "# This demo program shows off how elegant Python is!\n",
    "# Written by John Doe, December 2015.\n",
    "#---------------------------------------------------\n",
    "\n",
    "print(\"Hello, World!\")  # Isn't this easy!\n",
    "```\n",
    "\n",
    "You may try it:"
   ]
  },
  {
   "cell_type": "code",
   "execution_count": null,
   "metadata": {
    "colab": {},
    "colab_type": "code",
    "id": "hG2_76SY4LiJ"
   },
   "outputs": [],
   "source": [
    "# ---------------------------------------------------\n",
    "# This demo program shows off how elegant Python is!\n",
    "# Written by John Doe, December 2015.\n",
    "# ---------------------------------------------------\n",
    "\n",
    "print(\"Hello, World!\")  # Isn't this easy!"
   ]
  },
  {
   "cell_type": "markdown",
   "metadata": {
    "colab_type": "text",
    "id": "JhAHpRed4fHw"
   },
   "source": [
    "## 2.12 Input\n",
    "\n",
    "\n",
    "- There is a built-in function in Python, `input()`, for getting input\n",
    "    from the user\n",
    "\n",
    "- The user of the program can enter the input and click OK\n",
    "\n",
    "- The `input()` function always return a string (without the new-line)"
   ]
  },
  {
   "cell_type": "code",
   "execution_count": null,
   "metadata": {
    "colab": {},
    "colab_type": "code",
    "id": "UAZFQM8h9ygk"
   },
   "outputs": [],
   "source": [
    "n = input(\"Please enter your name: \")\n",
    "print(\"Hello\", n)\n",
    "print(\"n of \", type(n))\n",
    "n = float(n)\n",
    "type(n)"
   ]
  },
  {
   "cell_type": "markdown",
   "metadata": {},
   "source": [
    "# 3.00 Debugging"
   ]
  },
  {
   "cell_type": "markdown",
   "metadata": {
    "colab_type": "text",
    "id": "jKUvASixvNfg",
    "tags": []
   },
   "source": [
    "## 3.01 What is debugging?\n",
    "\n",
    "\n",
    "  - Programming is a complex process, and because it is done by\n",
    "      human beings, it often leads to errors \n",
    "  - Programming errors are called **bugs** and the process of\n",
    "      tracking them down and correcting them is called **debugging**. \n",
    "  \n"
   ]
  },
  {
   "cell_type": "markdown",
   "metadata": {
    "colab_type": "text",
    "id": "xNfLlqe_cYy4"
   },
   "source": [
    "## 3.02 Syntax errors\n",
    "\n",
    "\n",
    "- Syntax refers to the structure of a program and the rules\n",
    "    about that structure \n",
    "- For example, in English, a sentence must begin with a capital\n",
    "    letter and end with a period \n",
    "- Python can only execute a program if the program is\n",
    "    syntactically correct; otherwise, the process fails and returns an\n",
    "    error message\n"
   ]
  },
  {
   "cell_type": "code",
   "execution_count": null,
   "metadata": {
    "scrolled": true
   },
   "outputs": [],
   "source": [
    "x = 6\n",
    "for i in range(x):\n",
    "    print(i)"
   ]
  },
  {
   "cell_type": "markdown",
   "metadata": {
    "colab_type": "text",
    "id": "rz4rzaiMcmCN"
   },
   "source": [
    "## 3.03 Runtime errors\n",
    "\n",
    "\n",
    "- A runtime error does not appear until you run the program. \n",
    "\n",
    "- These errors are also called **exceptions** because they\n",
    "    usually indicate that something exceptional (and bad) has\n",
    "    happened. \n"
   ]
  },
  {
   "cell_type": "code",
   "execution_count": null,
   "metadata": {
    "colab": {},
    "colab_type": "code",
    "id": "UR_WJNON7Z7M"
   },
   "outputs": [],
   "source": [
    "x=0\n",
    "50 / x\n"
   ]
  },
  {
   "cell_type": "markdown",
   "metadata": {
    "colab_type": "text",
    "id": "6b95q5fvcxau"
   },
   "source": [
    "## 3.04 Semantic errors\n",
    "\n",
    "\n",
    "- With a semantic error in your program, it will run\n",
    "    successfully, but it will not do the right thing \n",
    "- The problem is that the program you wrote is not the program\n",
    "    you intended to write \n",
    "- The meaning of the program (its *semantics*) is wrong\n"
   ]
  },
  {
   "cell_type": "code",
   "execution_count": null,
   "metadata": {},
   "outputs": [],
   "source": [
    "# print x as a percentage\n",
    "x = 32/35\n",
    "#x = x*100\n",
    "print(\"the percentage is \",x, \"%\")\n",
    "\n",
    "#print Hello World\n",
    "\n",
    "#print(\"Hello World\")"
   ]
  },
  {
   "cell_type": "markdown",
   "metadata": {
    "colab_type": "text",
    "id": "b70SdT4jc_UF"
   },
   "source": [
    "## 3.05 Experimental debugging\n",
    "\n",
    "\n",
    "- One of the most important skills you will acquire is\n",
    "    debugging. \n",
    "- Although it can be frustrating, debugging is one of the most\n",
    "    intellectually rich, challenging, and interesting parts of\n",
    "    programming. \n",
    "- In some ways, debugging is like detective work (clues, inference, ...)\n",
    "- Debugging is also like an experimental science\n"
   ]
  },
  {
   "cell_type": "markdown",
   "metadata": {
    "colab_type": "text",
    "id": "KjYzadtqd0fe"
   },
   "source": [
    "## 3.06 Formal and natural languages\n",
    "\n",
    "\n",
    "- **Natural languages** are the languages that people\n",
    "    speak, such as English\n",
    "- **Formal languages** are languages that are designed by\n",
    "    people for specific applications\n",
    "  - For example, the math notation  is a formal language that is\n",
    "    particularly good at denoting relationships among numbers and\n",
    "    symbols\n",
    "\n",
    "> **Programming languages are formal languages\n",
    "    designed to express computations.**\n",
    "\n",
    "- Syntax rules: *tokens* & structure\n",
    "- *Parsing* a statement is needed to determine its structure\n",
    "  "
   ]
  },
  {
   "cell_type": "markdown",
   "metadata": {
    "colab_type": "text",
    "id": "8z5cONg8rUrX",
    "tags": []
   },
   "source": [
    "# 4.00 Classes \n",
    "\n",
    "\n",
    "\n",
    "## Goals\n",
    "\n",
    "By the end of this class, the student should be able to:\n",
    "\n",
    "- Describe classes and object oriented programming\n",
    "\n",
    "- Examine classes in the module \"turtle\"\n",
    "\n",
    "- Describe Inheritance\n",
    "\n",
    "- Describe instantiation"
   ]
  },
  {
   "cell_type": "markdown",
   "metadata": {},
   "source": [
    "Classes allow you to define the information and behavior that characterize anything you want to model in your program.\n",
    "\n",
    "There is a lot of new language that comes into play when you start learning about classes. If you are familiar with object-oriented programming from your work in another language, this will be a quick read about how Python approaches OOP. If you are new to programming in general, there will be a lot of new ideas here."
   ]
  },
  {
   "cell_type": "markdown",
   "metadata": {},
   "source": [
    "## 4.01 What are classes?\n",
    "\n",
    "Classes are a way of combining information and behavior. For example, let's consider what you'd need to do if you were creating a rocket ship in a game, or in a physics simulation. One of the first things you'd want to track are the x and y coordinates of the rocket. Here is what a simple rocket ship class looks like in code:"
   ]
  },
  {
   "cell_type": "code",
   "execution_count": null,
   "metadata": {},
   "outputs": [],
   "source": [
    "class Rocket():\n",
    "    # Rocket simulates a rocket ship for a game,\n",
    "    #  or a physics simulation.\n",
    "    \n",
    "    def __init__(self):\n",
    "        # Each rocket has an (x,y) position.\n",
    "        self.x = 0\n",
    "        self.y = 0"
   ]
  },
  {
   "cell_type": "markdown",
   "metadata": {},
   "source": [
    "One of the first things you do with a class is to define the **\\__init\\__()** method. The \\_\\_init\\_\\_() method sets the values for any parameters that need to be defined when an object is first created. The *self* part will be explained later; basically, it's a syntax that allows you to access a variable from anywhere else in the class.\n",
    "\n",
    "The Rocket class stores two pieces of information so far, but it can't do anything. The first behavior to define is a core behavior of a rocket: moving up. Here is what that might look like in code:"
   ]
  },
  {
   "cell_type": "code",
   "execution_count": null,
   "metadata": {},
   "outputs": [],
   "source": [
    "class Rocket():\n",
    "    # Rocket simulates a rocket ship for a game,\n",
    "    #  or a physics simulation.\n",
    "    \n",
    "    def __init__(self):\n",
    "        # Each rocket has an (x,y) position.\n",
    "        self.x = 0\n",
    "        self.y = 0\n",
    "        \n",
    "    def move_up(self):\n",
    "        # Increment the y-position of the rocket.\n",
    "        self.y += 1"
   ]
  },
  {
   "cell_type": "markdown",
   "metadata": {},
   "source": [
    "The Rocket class can now store some information, and it can do something. But this code has not actually created a rocket yet. Here is how you actually make a rocket:"
   ]
  },
  {
   "cell_type": "code",
   "execution_count": null,
   "metadata": {},
   "outputs": [],
   "source": [
    "class Rocket():\n",
    "    # Rocket simulates a rocket ship for a game,\n",
    "    #  or a physics simulation.\n",
    "    \n",
    "    def __init__(self):\n",
    "        # Each rocket has an (x,y) position.\n",
    "        self.x = 0\n",
    "        self.y = 0\n",
    "        \n",
    "    def move_up(self):\n",
    "        # Increment the y-position of the rocket.\n",
    "        self.y += 1\n",
    "\n",
    "# Create a Rocket object. make an instance of the Rocket object.\n",
    "my_rocket = Rocket()\n",
    "print(my_rocket)"
   ]
  },
  {
   "cell_type": "markdown",
   "metadata": {},
   "source": [
    "To actually use a class, you create a variable such as my_rocket. Then you set that equal to the name of the class, with an empty set of parentheses. Python creates an object from the class. An object is a single instance of the Rocket class; it has a copy of each of the class's variables, and it can do any action that is defined for the class. In this case, you can see that the variable my_rocket is a Rocket object from the __main__ program file, which is stored at a particular location in memory.\n",
    "\n",
    "Once you have a class, you can define an object and use its methods. Here is how you might define a rocket and have it start to move up:"
   ]
  },
  {
   "cell_type": "code",
   "execution_count": null,
   "metadata": {},
   "outputs": [],
   "source": [
    "class Rocket():\n",
    "    # Rocket simulates a rocket ship for a game,\n",
    "    #  or a physics simulation.\n",
    "    \n",
    "    def __init__(self):\n",
    "        # Each rocket has an (x,y) position.\n",
    "        self.x = 0\n",
    "        self.y = 0\n",
    "        \n",
    "    def move_up(self):\n",
    "        # Increment the y-position of the rocket.\n",
    "        self.y += 1\n",
    "\n",
    "# Create a Rocket object, and have it start to move up.\n",
    "my_rocket = Rocket()\n",
    "print(\"Rocket altitude:\", my_rocket.y)\n",
    "\n",
    "my_rocket.move_up()\n",
    "print(\"Rocket altitude:\", my_rocket.y)\n",
    "\n",
    "my_rocket.move_up()\n",
    "print(\"Rocket altitude:\", my_rocket.y)"
   ]
  },
  {
   "cell_type": "markdown",
   "metadata": {},
   "source": [
    "To access an object's variables or methods, you give the name of the object and then use dot notation to access the variables and methods. So to get the y-value of my_rocket, you use my_rocket.y. To use the move_up() method on my_rocket, you write my_rocket.move_up().\n",
    "\n",
    "Once you have a class defined, you can create as many objects from that class as you want. Each object is its own **instance** of that class, with its own separate variables. All of the objects are capable of the same behavior, but each object's particular actions do not affect any of the other objects."
   ]
  },
  {
   "cell_type": "code",
   "execution_count": null,
   "metadata": {},
   "outputs": [],
   "source": [
    "class Rocket():\n",
    "    # Rocket simulates a rocket ship for a game,\n",
    "    #  or a physics simulation.\n",
    "    \n",
    "    def __init__(self):\n",
    "        # Each rocket has an (x,y) position.\n",
    "        self.x = 0\n",
    "        self.y = 0\n",
    "        \n",
    "    def move_up(self):\n",
    "        # Increment the y-position of the rocket.\n",
    "        self.y += 1\n",
    "        \n",
    "# Create a fleet of 3 rockets\n",
    "rocket1 = Rocket()   # rocket1 is an instance of Rocket()\n",
    "rocket2 = Rocket()   # rocket2 is an instance of Rocket()\n",
    "rocket3 = Rocket()   # rocket3 is an instance of Rocket()\n",
    "\n",
    "rocket1.move_up()\n",
    "\n",
    "print(\"Rocket1 altitude:\", rocket1.y)\n",
    "print(\"Rocket2 altitude:\", rocket2.y)\n",
    "print(\"Rocket3 altitude:\", rocket3.y)"
   ]
  },
  {
   "cell_type": "markdown",
   "metadata": {},
   "source": [
    "## 4.02 Object-Oriented terminology\n",
    "\n",
    "Classes are part of a programming paradigm called **object-oriented programming**. Object-oriented programming, or OOP for short, focuses on building reusable blocks of code called classes. When you want to use a class in one of your programs, you make an **object** from that class, which is where the phrase \"object-oriented\" comes from. Python itself is not tied to object-oriented programming, but you will be using objects in most or all of your Python projects. In order to understand classes, you have to understand some of the language that is used in OOP."
   ]
  },
  {
   "cell_type": "markdown",
   "metadata": {},
   "source": [
    "### General terminology\n",
    "\n",
    "A **class** is a body of code that defines the **attributes** and **behaviors** required to accurately model something you need for your program. You can model something from the real world, such as a rocket ship or a guitar string, or you can model something from a virtual world such as a rocket in a game, or a set of physical laws for a game engine.\n",
    "\n",
    "An **attribute** is a piece of information. In code, an attribute is just a variable that is part of a class.\n",
    "\n",
    "A **behavior** is an action that is defined within a class. These are made up of **methods**, which are just functions that are defined for the class.\n",
    "\n",
    "An **object** is a particular instance of a class. An object has a certain set of values for all of the attributes (variables) in the class. You can have as many objects as you want for any one class.\n",
    "\n",
    "There is much more to know, but these words will help you get started. They will make more sense as you see more examples"
   ]
  },
  {
   "cell_type": "markdown",
   "metadata": {},
   "source": [
    "## 4.03  A closer look at the Rocket class\n",
    "\n",
    "Now that you have seen a simple example of a class, and have learned some basic OOP terminology, it will be helpful to take a closer look at the Rocket class."
   ]
  },
  {
   "cell_type": "markdown",
   "metadata": {},
   "source": [
    "### The \\_\\_init\\_\\_() method\n",
    "\n",
    "Here is the initial code block that defined the Rocket class:"
   ]
  },
  {
   "cell_type": "code",
   "execution_count": null,
   "metadata": {},
   "outputs": [],
   "source": [
    "class Rocket():\n",
    "    # Rocket simulates a rocket ship for a game,\n",
    "    #  or a physics simulation.\n",
    "    \n",
    "    def __init__(self):\n",
    "        # Each rocket has an (x,y) position.\n",
    "        self.x = 0\n",
    "        self.y = 0"
   ]
  },
  {
   "cell_type": "markdown",
   "metadata": {},
   "source": [
    "The first line shows how a class is created in Python. The keyword **class** tells Python that you are about to define a class. The rules for naming a class are the same rules you learned about [naming variables](var_string_num.html#naming_rules), but there is a strong convention among Python programmers that classes should be named using CamelCase. If you are unfamiliar with CamelCase, it is a convention where each letter that starts a word is capitalized, with no underscores in the name. The name of the class is followed by a set of parentheses. These parentheses will be empty for now, but later they may contain a class upon which the new class is based.\n",
    "\n",
    "It is good practice to write a comment at the beginning of your class, describing the class. There is a [more formal syntax](http://www.python.org/dev/peps/pep-0257/) for documenting your classes, but you can wait a little bit to get that formal. For now, just write a comment at the beginning of your class summarizing what you intend the class to do. Writing more formal documentation for your classes will be easy later if you start by writing simple comments now.\n",
    "\n",
    "Function names that start and end with two underscores are special built-in functions that Python uses in certain ways. The \\_\\_init()\\_\\_ method is one of these special functions. It is called automatically when you create an object from your class. The \\_\\_init()\\_\\_ method lets you make sure that all relevant attributes are set to their proper values when an object is created from the class, before the object is used. In this case, The \\_\\_init\\_\\_() method initializes the x and y values of the Rocket to 0.\n",
    "\n",
    "The **self** keyword often takes people a little while to understand. The word \"self\" refers to the current object that you are working with. When you are writing a class, it lets you refer to certain attributes from any other part of the class. Basically, all methods in a class need the *self* object as their first argument, so they can access any attribute that is part of the class.\n",
    "\n",
    "Now let's take a closer look at a **method**."
   ]
  },
  {
   "cell_type": "markdown",
   "metadata": {},
   "source": [
    "## 4.04 A simple method\n",
    "\n",
    "Here is the method that was defined for the Rocket class:"
   ]
  },
  {
   "cell_type": "code",
   "execution_count": null,
   "metadata": {},
   "outputs": [],
   "source": [
    "class Rocket():\n",
    "    # Rocket simulates a rocket ship for a game,\n",
    "    #  or a physics simulation.\n",
    "    \n",
    "    def __init__(self):\n",
    "        # Each rocket has an (x,y) position.\n",
    "        self.x = 0\n",
    "        self.y = 0\n",
    "        \n",
    "    def move_up(self):\n",
    "        # Increment the y-position of the rocket.\n",
    "        self.y += 1"
   ]
  },
  {
   "cell_type": "markdown",
   "metadata": {},
   "source": [
    "A method is just a function that is part of a class. Since it is just a function, you can do anything with a method that you learned about with functions. You can accept positional arguments, keyword arguments, an arbitrary list of argument values, an arbitrary dictionary of arguments, or any combination of these. Your arguments can return a value or a set of values if you want, or they can just do some work without returning any values.\n",
    "\n",
    "Each method has to accept one argument by default, the value self. This is a reference to the particular object that is calling the method. This self argument gives you access to the calling object's attributes. In this example, the self argument is used to access a Rocket object's y-value. That value is increased by 1, every time the method move_up() is called by a particular Rocket object. This is probably still somewhat confusing, but it should start to make sense as you work through your own examples."
   ]
  },
  {
   "cell_type": "markdown",
   "metadata": {},
   "source": [
    "## 4.05 Adding a new method\n",
    "\n",
    "One of the strengths of object-oriented programming is the ability to closely model real-world phenomena by adding appropriate attributes and behaviors to classes. One of the jobs of a team piloting a rocket is to make sure the rocket does not get too close to any other rockets. Let's add a method that will report the distance from one rocket to any other rocket.\n",
    "\n",
    "If you are not familiar with distance calculations, there is a fairly simple formula to tell the distance between two points if you know the x and y values of each point. This new method performs that calculation, and then returns the resulting distance."
   ]
  },
  {
   "cell_type": "code",
   "execution_count": null,
   "metadata": {},
   "outputs": [],
   "source": [
    "from math import sqrt\n",
    "\n",
    "class Rocket():\n",
    "    # Rocket simulates a rocket ship for a game,\n",
    "    #  or a physics simulation.\n",
    "    \n",
    "    def __init__(self, x=0, y=0):\n",
    "        # Each rocket has an (x,y) position.\n",
    "        self.x = x\n",
    "        self.y = y\n",
    "        \n",
    "    def move_rocket(self, x_increment=0, y_increment=1):  # this replaced move_up Default is to move_up\n",
    "        # Move the rocket according to the paremeters given.\n",
    "        #  Default behavior is to move the rocket up one unit.\n",
    "        self.x += x_increment\n",
    "        self.y += y_increment\n",
    "        \n",
    "    def get_distance(self, other_rocket):\n",
    "        # Calculates the distance from this rocket to another rocket,\n",
    "        #  and returns that value.\n",
    "        distance = sqrt((self.x-other_rocket.x)**2+(self.y-other_rocket.y)**2)\n",
    "        return distance\n",
    "    \n",
    "# Make two rockets, at different places.\n",
    "rocket_0 = Rocket()\n",
    "rocket_1 = Rocket(10,5)\n",
    "\n",
    "# Show the distance between them.\n",
    "distance = rocket_0.get_distance(rocket_1)\n",
    "print(\"The rockets are %f units apart.\" % distance)"
   ]
  },
  {
   "cell_type": "markdown",
   "metadata": {},
   "source": [
    "## 4.06 Inheritance\n",
    "\n",
    "One of the most important goals of the object-oriented approach to programming is the creation of stable, reliable, reusable code. If you had to create a new class for every kind of object you wanted to model, you would hardly have any reusable code. In Python and any other language that supports OOP, one class can **inherit** from another class. This means you can base a new class on an existing class; the new class *inherits* all of the attributes and behavior of the class it is based on. A new class can override any undesirable attributes or behavior of the class it inherits from, and it can add any new attributes or behavior that are appropriate. The original class is called the **parent** class, and the new class is a **child** of the parent class. The parent class is also called a **superclass**, and the child class is also called a **subclass**.\n",
    "\n",
    "The child class inherits all attributes and behavior from the parent class, but any attributes that are defined in the child class are not available to the parent class. This may be obvious to many people, but it is worth stating. This also means a child class can override behavior of the parent class. If a child class defines a method that also appears in the parent class, objects of the child class will use the new method rather than the parent class method.\n",
    "\n",
    "To better understand inheritance, let's look at an example of a class that can be based on the Rocket class."
   ]
  },
  {
   "cell_type": "markdown",
   "metadata": {},
   "source": [
    "### The SpaceShuttle class\n",
    "\n",
    "If you wanted to model a space shuttle, you could write an entirely new class. But a space shuttle is just a special kind of rocket. Instead of writing an entirely new class, you can inherit all of the attributes and behavior of a Rocket, and then add a few appropriate attributes and behavior for a Shuttle.\n",
    "\n",
    "One of the most significant characteristics of a space shuttle is that it can be reused. So the only difference we will add at this point is to record the number of flights the shutttle has completed. Everything else you need to know about a shuttle has already been coded into the Rocket class.\n",
    "\n",
    "Here is what the Shuttle class looks like:"
   ]
  },
  {
   "cell_type": "code",
   "execution_count": null,
   "metadata": {},
   "outputs": [],
   "source": [
    "from math import sqrt\n",
    "\n",
    "class Rocket():\n",
    "    # Rocket simulates a rocket ship for a game,\n",
    "    #  or a physics simulation.\n",
    "    \n",
    "    def __init__(self, x=0, y=0):\n",
    "        # Each rocket has an (x,y) position.\n",
    "        self.x = x\n",
    "        self.y = y\n",
    "        \n",
    "    def move_rocket(self, x_increment=0, y_increment=1):\n",
    "        # Move the rocket according to the paremeters given.\n",
    "        #  Default behavior is to move the rocket up one unit.\n",
    "        self.x += x_increment\n",
    "        self.y += y_increment\n",
    "        \n",
    "    def get_distance(self, other_rocket):\n",
    "        # Calculates the distance from this rocket to another rocket,\n",
    "        #  and returns that value.\n",
    "        distance = sqrt((self.x-other_rocket.x)**2+(self.y-other_rocket.y)**2)\n",
    "        return distance\n",
    "    \n",
    "class Shuttle(Rocket):\n",
    "    # Shuttle simulates a space shuttle, which is really\n",
    "    #  just a reusable rocket.\n",
    "    \n",
    "    def __init__(self, x=0, y=0, flights_completed=0):\n",
    "        super().__init__(x, y)\n",
    "        self.flights_completed = flights_completed\n",
    "        \n",
    "shuttle = Shuttle(10,0,3)\n",
    "print(shuttle)"
   ]
  },
  {
   "cell_type": "markdown",
   "metadata": {},
   "source": [
    "When a new class is based on an existing class, you write the name of the parent class in parentheses when you define the new class:\n",
    "```\n",
    "class NewClass(ParentClass):\n",
    "```\n",
    "The __init__() function of the new class needs to call the __init__() function of the parent class. The __init__() function of the new class needs to accept all of the parameters required to build an object from the parent class, and these parameters need to be passed to the __init__() function of the parent class. The super().__init__() function takes care of this:\n",
    "```\n",
    "class NewClass(ParentClass):\n",
    "    \n",
    "    def __init__(self, arguments_new_class, arguments_parent_class):\n",
    "        super().__init__(arguments_parent_class)     # Code for initializing an object of the new class.\n",
    "        self.flights_completed = flights_completed   # initialize new parameters for the new class.\n",
    "```\n"
   ]
  }
 ],
 "metadata": {
  "colab": {
   "collapsed_sections": [],
   "name": "01-introduction.ipynb",
   "private_outputs": true,
   "provenance": [],
   "toc_visible": true
  },
  "kernelspec": {
   "display_name": "Python 3 (ipykernel)",
   "language": "python",
   "name": "python3"
  },
  "language_info": {
   "codemirror_mode": {
    "name": "ipython",
    "version": 3
   },
   "file_extension": ".py",
   "mimetype": "text/x-python",
   "name": "python",
   "nbconvert_exporter": "python",
   "pygments_lexer": "ipython3",
   "version": "3.12.7"
  }
 },
 "nbformat": 4,
 "nbformat_minor": 4
}

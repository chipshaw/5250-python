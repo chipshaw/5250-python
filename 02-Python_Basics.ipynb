{
 "cells": [
  {
   "cell_type": "markdown",
   "metadata": {
    "colab_type": "text",
    "id": "8z5cONg8rUrX"
   },
   "source": [
    "# Module_02\n"
   ]
  },
  {
   "cell_type": "markdown",
   "metadata": {
    "colab_type": "text",
    "id": "8z5cONg8rUrX"
   },
   "source": [
    "# 1.00 Python Modules \n",
    "\n",
    "\n",
    "## Goals\n",
    "\n",
    "By the end of this class, the student should be able to:\n",
    "\n",
    "- Describe the contents of a module then examine the module \"turtle\"\n",
    "\n",
    "- Describe how to `import` and do simple graphics with the module \"turtle\"\n",
    "\n",
    "- Describe an instance of Turtle, its own attributes and methods\n"
   ]
  },
  {
   "cell_type": "markdown",
   "metadata": {
    "colab_type": "text",
    "id": "Vl0u1-guAR-3"
   },
   "source": [
    "## 1.01 Python Modules\n",
    "\n",
    "- There are many modules in Python that provide very powerful features\n",
    "    that we can use in our own programs:\n",
    "  * to do math\n",
    "  * to send email\n",
    "  * to fetch web pages (scraping)\n",
    "  * ... and many others\n",
    "  "
   ]
  },
  {
   "cell_type": "markdown",
   "metadata": {
    "colab_type": "text",
    "id": "5zHy3QBYTFef"
   },
   "source": [
    "## 1.02 Turtle Module\n",
    "- When you save a class into a separate file, that file is called a module.\n",
    "\n",
    "- A **module** is a file containing Python definitions and statements\n",
    "    intended for use in other Python programs\n",
    "\n",
    "- There are many Python modules that come with Python as part of the\n",
    "    standard library\n",
    "\n",
    "- Once we import the module, we can use things that are defined inside\n",
    "\n",
    "- With `the turtle module` one creates turtles and get them to draw shapes and\n",
    "    patterns\n",
    "\n",
    "$\\Rightarrow$ <https://docs.python.org/3.7/library/>\\\n",
    "$\\Rightarrow$ <https://docs.python.org/3/py-modindex.html>\\\n",
    "$\\Rightarrow$ <https://docs.python.org/3.7/library/turtle.html>\\\n"
   ]
  },
  {
   "cell_type": "markdown",
   "metadata": {
    "colab_type": "text",
    "id": "lE7M5KmHTiqI"
   },
   "source": [
    "## 1.03 Using Modules\n",
    "\n",
    "- The first thing we need to do when we wish to use a module is\n",
    "    perform an import of the class in the module\n",
    "    \n",
    "```\n",
    "    from module_name import ClassName \n",
    "```\n",
    "    or import the entire module\n",
    "```\n",
    "    import module_name\n",
    "```\n",
    "\n",
    "- The statement `import turtle` creates a new object, `turtle`, and\n",
    "    makes it refer to a module object\n",
    "\n",
    "- This looks very much like the reference diagrams for simple\n",
    "    variables\n",
    "\n",
    "![turtle module](images/03/turtle.png)\n"
   ]
  },
  {
   "cell_type": "markdown",
   "metadata": {
    "colab_type": "text",
    "id": "U7nQ3C5gUGBQ"
   },
   "source": [
    "### The `math` module\n",
    "\n",
    "\n",
    "- The math module contains the kinds of mathematical functions you\n",
    "    would typically find on your calculator, and\n",
    "\n",
    "- some mathematical constants like *pi* and *e*\n",
    "\n",
    "![math](images/03/math.png)\n",
    "\n"
   ]
  },
  {
   "cell_type": "code",
   "execution_count": null,
   "metadata": {},
   "outputs": [],
   "source": [
    "import math as m\n",
    "\n",
    "print(m.pi)\n",
    "print(m.e)\n",
    "\n",
    "print(m.sqrt(2.0))\n",
    "\n",
    "print(m.sin(m.radians(90)))   # sin of 90 degrees\n"
   ]
  },
  {
   "cell_type": "markdown",
   "metadata": {
    "colab_type": "text",
    "id": "U06Lzg_cU3Gr"
   },
   "source": [
    "### The `random` module\n",
    "\n",
    "We often want to use **random numbers** in programs<sup>1</sup>. \n",
    "Here are a few typical uses:\n",
    "\n",
    "-   To play a game of chance where the computer needs to throw some\n",
    "    dice, pick a number, or flip a coin\n",
    "\n",
    "-   To shuffle a deck of playing cards randomly\n",
    "\n",
    "-   To randomly allow a new enemy spaceship to appear and shoot at you\n",
    "\n",
    "-   To simulate possible rainfall when we make a computerised model for\n",
    "    estimating the environmental impact of building a dam\n",
    "\n",
    "-   For encrypting your banking session on the Internet\n",
    "\n",
    "\n",
    "\n",
    "<sup>1</sup>It is important to note that random number generators are based on\n",
    "    a *deterministic algorithm* --- repeatable and predictable. So\n",
    "    they're called *pseudo-random generators* --- they are not genuinely\n",
    "    random."
   ]
  },
  {
   "cell_type": "code",
   "execution_count": null,
   "metadata": {},
   "outputs": [],
   "source": [
    "###### random() returns a floating point number in the range [0.0, 1.0)\n",
    "\n",
    "import random\n",
    "\n",
    "prob = random.random()\n",
    "print(prob)\n"
   ]
  },
  {
   "cell_type": "code",
   "execution_count": null,
   "metadata": {},
   "outputs": [],
   "source": [
    "###### randrange function generates an integer between its lower and upper argument\n",
    "\n",
    "diceThrow = random.randrange(1, 7)       # return an int, one of 1,2,3,4,5,6\n",
    "print(diceThrow)"
   ]
  },
  {
   "cell_type": "code",
   "execution_count": null,
   "metadata": {},
   "outputs": [],
   "source": [
    "###### converted the result of the method call to a number in the range [0.0, 5.0)\n",
    "\n",
    "prob = random.random()\n",
    "result = prob * 5\n",
    "print(result)\n"
   ]
  },
  {
   "cell_type": "markdown",
   "metadata": {
    "colab_type": "text",
    "id": "8z5cONg8rUrX"
   },
   "source": []
  },
  {
   "cell_type": "markdown",
   "metadata": {
    "colab_type": "text",
    "id": "8z5cONg8rUrX"
   },
   "source": [
    "# 2.00 Program flow, conditionals & selection\n",
    "\n"
   ]
  },
  {
   "cell_type": "markdown",
   "metadata": {
    "colab_type": "text",
    "id": "MZzE7pYorju5"
   },
   "source": [
    "## Goals\n",
    "\n",
    "By the end of this class, the student should be able to:\n",
    "\n",
    "- Describe how to `import` and do simple graphics with the module \"turtle\"\n",
    "\n",
    "- Describe an instance of Turtle, its own attributes and methods\n",
    "\n",
    "- Describe the flow of execution of the for loop\n",
    "\n",
    "- Describe the `range` function\n",
    "\n",
    "- Describe conditionals and selection\n",
    "\n",
    "- Describe Boolean values, logical operators, and expressions\n",
    "\n",
    "- Describe the use of if-then-else blocks for conditional execution\n"
   ]
  },
  {
   "cell_type": "markdown",
   "metadata": {
    "colab_type": "text",
    "id": "UlT41tXPHeAx"
   },
   "source": [
    "# 2.01 Program flow (with Turtles)\n"
   ]
  },
  {
   "cell_type": "markdown",
   "metadata": {
    "colab_type": "text",
    "id": "kHauPk-OKzdn"
   },
   "source": [
    "### Our first turtle program"
   ]
  },
  {
   "cell_type": "markdown",
   "metadata": {
    "colab_type": "text",
    "id": "X67Z1ULILfld"
   },
   "source": [
    "### Simple graphics\n",
    "\n",
    "- Every window contains a *canvas*, which is the area inside\n",
    "the window on which we can draw\n",
    "\n"
   ]
  },
  {
   "cell_type": "code",
   "execution_count": null,
   "metadata": {},
   "outputs": [],
   "source": [
    "import turtle             # Allows us to use turtles\n",
    "\n",
    "window = turtle.Screen()  # Creates a playground for turtles\n",
    "alex = turtle.Turtle()    # Create a turtle, assign to alex\n",
    "\n",
    "alex.forward(50)          # Tell alex to move forward by 50 units\n",
    "alex.left(90)             # Tell alex to turn by 90 degrees\n",
    "alex.forward(30)          # Complete the second side of a rectangle\n",
    "\n",
    "window.mainloop()         # Wait for user to close window\n",
    "\n",
    "turtle.bye()"
   ]
  },
  {
   "cell_type": "code",
   "execution_count": null,
   "metadata": {
    "colab": {},
    "colab_type": "code",
    "id": "h13amj_Qvyz9"
   },
   "outputs": [],
   "source": [
    "import turtle\n",
    "\n",
    "window = turtle.Screen()\n",
    "\n",
    "window.bgcolor(\"lightgreen\")\n",
    "window.title(\"Hello, Tess!\")\n",
    "\n",
    "tess = turtle.Turtle()\n",
    "tess.color(\"blue\")\n",
    "tess.pensize(3)\n",
    "\n",
    "tess.forward(50)\n",
    "tess.left(120)\n",
    "tess.forward(50)\n",
    "\n",
    "window.mainloop()\n",
    "turtle.bye()\n"
   ]
  },
  {
   "cell_type": "markdown",
   "metadata": {
    "colab_type": "text",
    "id": "YDe_ay_AHor-"
   },
   "source": [
    "## 2.02 Instances — a herd of turtles"
   ]
  },
  {
   "cell_type": "markdown",
   "metadata": {
    "colab_type": "text",
    "id": "Teycmy-8MLxX"
   },
   "source": [
    "### Instances\n",
    "\n",
    "- From a *class* (Turtle) one may have many *objects* (**instances** of\n",
    "Turtle)\n",
    "\n",
    "- Each instance has its own **state** and **behaviour**"
   ]
  },
  {
   "cell_type": "code",
   "execution_count": null,
   "metadata": {},
   "outputs": [],
   "source": [
    "############\n",
    "# A example with 2 turtles\n",
    "############\n",
    "\n",
    "import turtle\n",
    "\n",
    "window = turtle.Screen()   # Set up the window and its attributes\n",
    "window.bgcolor(\"lightgreen\")\n",
    "window.title(\"Tess & Alex\")\n",
    "\n",
    "tess = turtle.Turtle()     # Create tess and set some attributes\n",
    "tess.color(\"Pink\")\n",
    "tess.pensize(5)\n",
    "\n",
    "alex = turtle.Turtle()     # Create alex and set some attributes\n",
    "alex.color(\"Navy\")\n",
    "\n",
    "tess.forward(160)          # Make tess draw equilateral triangle\n",
    "tess.left(120)\n",
    "tess.forward(160)\n",
    "tess.left(120)\n",
    "tess.forward(160)\n",
    "tess.left(120)             # Complete the triangle\n",
    "\n",
    "tess.right(180)            # Turn tess around\n",
    "tess.forward(160)          # Move her away from the origin\n",
    "\n",
    "alex.forward(100)          # Make alex draw a square\n",
    "alex.left(90)\n",
    "alex.forward(100)\n",
    "alex.left(90)\n",
    "alex.forward(100)\n",
    "alex.left(90)\n",
    "alex.forward(100)\n",
    "alex.left(90)\n",
    "\n",
    "window.mainloop()\n",
    "turtle.bye()"
   ]
  },
  {
   "cell_type": "markdown",
   "metadata": {
    "colab_type": "text",
    "id": "0ReMim-vHvl5"
   },
   "source": [
    "## 2.03 The `for` loop\n",
    "\n",
    "- A basic building block of all programs to be able to *repeat*\n",
    "    some code, over and over again.\n",
    "\n",
    "- In computer science, we refer to this repetitive idea as *iteration*\n",
    "\n",
    "- it has a *loop variable*, an indented *loop body*, and a terminating\n",
    "    condition"
   ]
  },
  {
   "cell_type": "code",
   "execution_count": null,
   "metadata": {
    "colab": {},
    "colab_type": "code",
    "id": "v5Nwv7KGgFSE"
   },
   "outputs": [],
   "source": [
    "for friend in [\"Joe\", \"Zoe\", \"Zuki\", \"Thandi\", \"Paris\"]:\n",
    "    invite = \"Hi \" + friend + \". Please come to my party!\"\n",
    "    print(invite)"
   ]
  },
  {
   "cell_type": "markdown",
   "metadata": {
    "colab_type": "text",
    "id": "uoP2C_dXKQ86"
   },
   "source": [
    "## 2.04 Flow of Execution of the `for` loop"
   ]
  },
  {
   "cell_type": "markdown",
   "metadata": {
    "colab_type": "text",
    "id": "xRBaDJLnhmrU"
   },
   "source": [
    "### Flow of Execution\n",
    "\n",
    "- As a program executes, the interpreter always keeps track of which\n",
    "    statement is about to be executed.\n",
    "\n",
    "- We call this the **control flow**, of the **flow of execution** of\n",
    "    the program.\n",
    "\n",
    "- Control flow until now has been strictly top to bottom, one\n",
    "    statement at a time (**sequential control**)\n",
    "  * The `for` loop changes this.\n",
    "\n",
    "- In Python flow is *sequential* as long as successive statements are indented the *same*\n"
   ]
  },
  {
   "cell_type": "code",
   "execution_count": null,
   "metadata": {
    "colab": {},
    "colab_type": "code",
    "id": "oalfztCOVKOc"
   },
   "outputs": [],
   "source": [
    "for name in [\"Joe\", \"Amy\", \"Brad\", \"Angelina\", \"Zuki\", \"Thandi\", \"Paris\"]:\n",
    "    print(\"Hi \", name, \"  Please come to my party on Saturday!\")"
   ]
  },
  {
   "cell_type": "markdown",
   "metadata": {
    "colab_type": "text",
    "id": "nSvTOSeBxd2U"
   },
   "source": [
    "### Flow of Execution of `for`\n",
    "\n",
    "![for flow](images/03/for.png)\n"
   ]
  },
  {
   "cell_type": "markdown",
   "metadata": {
    "colab_type": "text",
    "id": "xhpa-BDwHzPn"
   },
   "source": [
    "## 2.05 The loop simplifies our turtle program\n"
   ]
  },
  {
   "cell_type": "markdown",
   "metadata": {
    "colab_type": "text",
    "id": "gvkv8JsEjFhb"
   },
   "source": [
    "### `for` loop to do a square\n",
    "\n",
    "\n",
    "To draw a square we’d like to do the same thing four times — move the turtle forward some distance and turn 90 degrees\n",
    "\n",
    "\n",
    "```\n",
    "import turtle            # set up alex\n",
    "wn = turtle.Screen()\n",
    "alex = turtle.Turtle()\n",
    "\n",
    "for i in [0, 1, 2, 3]:   # repeat four times\n",
    "    alex.forward(50)\n",
    "    alex.left(90)\n",
    "\n",
    "wn.mainloop()\n",
    "```"
   ]
  },
  {
   "cell_type": "code",
   "execution_count": null,
   "metadata": {
    "colab_type": "text",
    "id": "G1hjMPvJjTtD"
   },
   "outputs": [],
   "source": [
    "import turtle            # set up alex\n",
    "wn = turtle.Screen()\n",
    "alex = turtle.Turtle()\n",
    "\n",
    "for i in [0, 1, 2, 3]:   # repeat four times\n",
    "    alex.forward(50)\n",
    "    alex.left(90)\n",
    "\n",
    "wn.mainloop()\n",
    "turtle.bye()"
   ]
  },
  {
   "cell_type": "markdown",
   "metadata": {
    "colab_type": "text",
    "id": "j7GTWCakj8lu"
   },
   "source": [
    "### The range Function\n",
    "\n",
    "- Python gives us special built-in range objects\n",
    "\n",
    "- Computer scientists like to count from 0!\n",
    "\n",
    "- The most general form of the range is\n",
    "    `range(start, beyondLast, step)`"
   ]
  },
  {
   "cell_type": "code",
   "execution_count": null,
   "metadata": {
    "colab": {},
    "colab_type": "code",
    "id": "TG_EySy9kNor"
   },
   "outputs": [],
   "source": [
    "for i in range(4):\n",
    "    # Executes the body with i = 0, then 1, then 2, then 3\n",
    "    print(i)"
   ]
  },
  {
   "cell_type": "code",
   "execution_count": null,
   "metadata": {
    "colab": {},
    "colab_type": "code",
    "id": "XYjlsqfRkQAA"
   },
   "outputs": [],
   "source": [
    "for _ in range(10):\n",
    "    # Sets x to each of ... [0, 1, 2, 3, 4, 5, 6, 7, 8, 9]\n",
    "    print(_)"
   ]
  },
  {
   "cell_type": "code",
   "execution_count": null,
   "metadata": {
    "colab": {},
    "colab_type": "code",
    "id": "1OkOyVNFkTeZ"
   },
   "outputs": [],
   "source": [
    "for i in range(1, 20, 2):\n",
    "    print(i)"
   ]
  },
  {
   "cell_type": "markdown",
   "metadata": {
    "colab_type": "text",
    "id": "sgfpOwYDWDaM"
   },
   "source": [
    "### `range` is lazy\n",
    "\n",
    "The range function is lazy: \n",
    "\n",
    "- It produces the next element only when needed\n",
    "\n",
    "- With a regular Python 3 interpreter, printing a range does not calculate all the elements\n",
    "\n",
    "- To immediately calculate all the elements in a range, convert the range in a list\n",
    "  * `list(range(4))`"
   ]
  },
  {
   "cell_type": "code",
   "execution_count": null,
   "metadata": {},
   "outputs": [],
   "source": [
    "list(range(4))"
   ]
  },
  {
   "cell_type": "markdown",
   "metadata": {
    "colab_type": "text",
    "id": "vIvn-158kcm4"
   },
   "source": [
    "## 2.06 A few more turtle methods and tricks"
   ]
  },
  {
   "cell_type": "markdown",
   "metadata": {
    "colab_type": "text",
    "id": "PicDe9iskj28"
   },
   "source": [
    "### Some more turtle methods\n",
    "\n",
    "- `tess.left(-30)` / `tess.right(330)` ?\n",
    "\n",
    "- `alex.backward(-100)` / `alex.forward(100)` ?\n",
    "\n",
    "- `alex.penup()` and `alex.pendown()`\n",
    "\n",
    "- `alex.shape(\"turtle\")`\n",
    "\n",
    "- `alex.speed(10)`\n",
    "\n"
   ]
  },
  {
   "cell_type": "markdown",
   "metadata": {
    "colab_type": "text",
    "id": "ctRIEHAQH4pt"
   },
   "source": [
    "# Conditionals & selection"
   ]
  },
  {
   "cell_type": "markdown",
   "metadata": {
    "colab_type": "text",
    "id": "vbbGCyS0kT6j",
    "tags": []
   },
   "source": [
    "## 2.07 Boolean values and expressions\n",
    "\n",
    "- Programs get really interesting when we can test conditions and\n",
    "    change the program behaviour\n",
    "\n",
    "- A *Boolean* value is either true or false\n",
    "\n",
    "- In Python, the two Boolean values are `True` and `False` and the\n",
    "    type is `bool`\n",
    "\n",
    "- A Boolean expression is an expression that evaluates to produce a\n",
    "    result which is a Boolean value\n",
    "\n",
    "- For example, the operator `==` tests if two values are equal"
   ]
  },
  {
   "cell_type": "markdown",
   "metadata": {
    "colab_type": "text",
    "id": "V-89I9XfYm8T"
   },
   "source": [
    "### Comparison operators\n",
    "\n",
    "```\n",
    "x == y          # Produce True if ... x is equal to y\n",
    "x != y          # ... x is not equal to y\n",
    "x > y           # ... x is greater than y\n",
    "x < y           # ... x is less than y\n",
    "x >= y          # ... x is greater than or equal to y\n",
    "x <= y          # ... x is less than or equal to y\n",
    "```"
   ]
  },
  {
   "cell_type": "markdown",
   "metadata": {
    "colab_type": "text",
    "id": "iaU-inCyXEs9"
   },
   "source": [
    "Try some:"
   ]
  },
  {
   "cell_type": "code",
   "execution_count": null,
   "metadata": {
    "colab": {},
    "colab_type": "code",
    "id": "LxmLNnIXXyqH"
   },
   "outputs": [],
   "source": [
    "print(True)\n",
    "print(type(True))\n",
    "print(type(False))\n"
   ]
  },
  {
   "cell_type": "code",
   "execution_count": null,
   "metadata": {
    "colab": {},
    "colab_type": "code",
    "id": "8jiD_7sWZEws"
   },
   "outputs": [],
   "source": [
    "print(type(True))\n",
    "print(type(\"True\"))\n",
    "type(true)"
   ]
  },
  {
   "cell_type": "code",
   "execution_count": null,
   "metadata": {
    "colab": {},
    "colab_type": "code",
    "id": "3-_fwKYtX0P0"
   },
   "outputs": [],
   "source": [
    "print(5 == (3 + 3))"
   ]
  },
  {
   "cell_type": "code",
   "execution_count": null,
   "metadata": {
    "colab": {},
    "colab_type": "code",
    "id": "BBQ3B9NDYG1M"
   },
   "outputs": [],
   "source": [
    "age = 17\n",
    "old_enough_to_get_driving_licence = age >= 18\n",
    "print(old_enough_to_get_driving_licence)\n"
   ]
  },
  {
   "cell_type": "markdown",
   "metadata": {
    "colab_type": "text",
    "id": "Ob-aZZ1xIKoy"
   },
   "source": [
    "## 2.08 Logical operators\n",
    "\n",
    "- There are three logical operators, `and`, `or`, and `not`\n",
    "\n",
    "- Used to build more complex Boolean expressions from simpler Boolean\n",
    "    expressions\n",
    "\n",
    "- The semantics (meaning) of these operators is similar to their\n",
    "    meaning in English\n",
    "\n",
    "- The expression on the left of the `or` operator is evaluated first:\n",
    "\n",
    "    -   if the result is `True`, Python does not (and need not) evaluate\n",
    "        the expression on the right\n",
    "\n",
    "    -   this is called **short-circuit evaluation**\n",
    "\n",
    "-   Similarly, for the `and` operator:\n",
    "\n",
    "    -   if the expression on the left yields `False`, Python does not\n",
    "        evaluate the expression on the right"
   ]
  },
  {
   "cell_type": "code",
   "execution_count": null,
   "metadata": {
    "colab": {},
    "colab_type": "code",
    "id": "ke0ntDITaAvG"
   },
   "outputs": [],
   "source": [
    "x = 5\n",
    "print(x > 0 and x < 10)"
   ]
  },
  {
   "cell_type": "code",
   "execution_count": null,
   "metadata": {
    "colab": {},
    "colab_type": "code",
    "id": "h3hNe_0BaDnP"
   },
   "outputs": [],
   "source": [
    "n = 25\n",
    "print(n % 2 == 0 or n % 5 == 0)"
   ]
  },
  {
   "cell_type": "markdown",
   "metadata": {
    "colab_type": "text",
    "id": "C8bnlC8ZawNh"
   },
   "source": [
    "### Common Mistake!\n",
    "\n",
    "- There is a very common mistake that occurs when programmers try to write boolean expressions\n",
    "\n",
    "- For example, what if we have a variable number and we want to check to see if its value is 5, 6, or 7\n",
    "\n",
    "- In words we might say: “number equal to 5 or 6 or 7”\n",
    "\n",
    "- You cannot take a shortcut\n"
   ]
  },
  {
   "cell_type": "code",
   "execution_count": null,
   "metadata": {
    "colab": {},
    "colab_type": "code",
    "id": "vHDBPXERbq24"
   },
   "outputs": [],
   "source": [
    "number = 4\n",
    "number == 5 or 6 or 7"
   ]
  },
  {
   "cell_type": "code",
   "execution_count": null,
   "metadata": {
    "colab": {},
    "colab_type": "code",
    "id": "voIGyBzAbyva"
   },
   "outputs": [],
   "source": [
    "number = 4\n",
    "number == 5 or number == 6 or number == 7"
   ]
  },
  {
   "cell_type": "markdown",
   "metadata": {
    "colab_type": "text",
    "id": "JAY2Lg23IN6w"
   },
   "source": [
    "## 2.09 Truth Tables\n"
   ]
  },
  {
   "cell_type": "markdown",
   "metadata": {
    "colab_type": "text",
    "id": "MHcxJFpRZ7bh"
   },
   "source": [
    "### Truth Table: `and`\n",
    "\n",
    "| a       | b       | a and b |\n",
    "| ------- | ------- | ------- |\n",
    "| False   | False   | False   |\n",
    "| False   | True    | False   |\n",
    "| True    | False   | False   |\n",
    "| True    | True    | True    |\n"
   ]
  },
  {
   "cell_type": "markdown",
   "metadata": {
    "colab_type": "text",
    "id": "_xt228pKaQ19"
   },
   "source": [
    "### Truth Table: `or`\n",
    "\n",
    "| a       | b       | a or b   | \n",
    "| ------- | ------- | -------- |\n",
    "| False   | False   | False    |\n",
    "| False   | True    | True     |\n",
    "| True    | False   | True     |\n",
    "| True    | True    | True     |"
   ]
  },
  {
   "cell_type": "markdown",
   "metadata": {
    "colab_type": "text",
    "id": "Ai07ULFOaV4Q"
   },
   "source": [
    "### Truth Table: `not`\n",
    "\n",
    "| a       | not a   |\n",
    "| ------- | ------- |\n",
    "| False   | True    |\n",
    "| True    | False   |\n"
   ]
  },
  {
   "cell_type": "markdown",
   "metadata": {
    "colab_type": "text",
    "id": "YaQXhnfTabUI"
   },
   "source": [
    "### Precedence of Operators\n",
    "\n",
    "| **Level**   | **Category**     | **Operators** |\n",
    "| ----------- | ---------------- | ------------- |\n",
    "| 7(high)     | exponent         | **            |\n",
    "| 6           | multiplication   | *, /, //, %   |\n",
    "| 5           | addition         | +,-           |\n",
    "| 4           | **relational**   | ==, !=, \\<=, \\>=, \\>, \\< |\n",
    "| 3           | **logical**      | not           |\n",
    "| 2           | **logical**      | and           |\n",
    "| 1(low)      | **logical**      | or            |"
   ]
  },
  {
   "cell_type": "markdown",
   "metadata": {
    "colab_type": "text",
    "id": "2kgXqqxWIQ-z"
   },
   "source": [
    "## 2.10 Simplifying Boolean Expressions\n"
   ]
  },
  {
   "cell_type": "markdown",
   "metadata": {
    "colab_type": "text",
    "id": "BFP9aR08bAgY"
   },
   "source": [
    "### Boolean algebra\n",
    "\n",
    "- A set of rules for simplifying and rearranging expressions is called\n",
    "    an *Algebra*\n",
    "\n",
    "- The *Boolean algebra* provides rules for working with Boolean values"
   ]
  },
  {
   "cell_type": "markdown",
   "metadata": {
    "colab_type": "text",
    "id": "n4v2hi-abS8m"
   },
   "source": [
    "### Boolean algebra: `and`\n",
    "\n",
    "\n",
    "```\n",
    "x and False == False\n",
    "False and x == False\n",
    "y and x == x and y\n",
    "x and True == x\n",
    "True and x == x\n",
    "x and x == x\n",
    "```"
   ]
  },
  {
   "cell_type": "markdown",
   "metadata": {
    "colab_type": "text",
    "id": "LsD33no5bczw"
   },
   "source": [
    "### Boolean algebra: `or`\n",
    "\n",
    "\n",
    "```\n",
    "x or False == x\n",
    "False or x == x\n",
    "y or x == x or y\n",
    "x or True == True\n",
    "True or x == True\n",
    "x or x == x\n",
    "```"
   ]
  },
  {
   "cell_type": "markdown",
   "metadata": {
    "colab_type": "text",
    "id": "tueGJLcLb-gk"
   },
   "source": [
    "### Boolean algebra: `not`\n",
    "\n",
    "\n",
    "```\n",
    "not (not x) == x\n",
    "```"
   ]
  },
  {
   "cell_type": "markdown",
   "metadata": {
    "colab_type": "text",
    "id": "fzM2CPUQIT08"
   },
   "source": [
    "## 2.11 Conditional execution\n"
   ]
  },
  {
   "cell_type": "markdown",
   "metadata": {
    "colab_type": "text",
    "id": "yrO1PwXbcI4D"
   },
   "source": [
    "### Conditional statements: `if`\n",
    "\n",
    "- Conditional statements give us the ability to check conditions and\n",
    "    change the behavior of the program accordingly\n",
    "\n",
    "- The simplest form is the *if statement*\n",
    "\n",
    "- The Boolean expression after the if statement is called the\n",
    "    **condition**\n",
    "\n",
    "- The `if` statement referred to as **binary selection** since there are two possible paths of execution"
   ]
  },
  {
   "cell_type": "code",
   "execution_count": null,
   "metadata": {
    "colab": {},
    "colab_type": "code",
    "id": "hptWbD3McW1a"
   },
   "outputs": [],
   "source": [
    "x = 155\n",
    "\n",
    "if x % 2 == 0:\n",
    "    print(x, \"is even\")\n",
    "else:\n",
    "    print(x, \"is odd\")"
   ]
  },
  {
   "cell_type": "markdown",
   "metadata": {
    "colab_type": "text",
    "id": "7KNuKvRpcgVD"
   },
   "source": [
    "### If statement with an else clause\n",
    "\n",
    "\n",
    "```\n",
    "if <BOOLEAN EXPRESSION>:\n",
    "    <STATEMENTS_1>\n",
    "else:\n",
    "    <STATEMENTS_2>\n",
    "```"
   ]
  },
  {
   "cell_type": "markdown",
   "metadata": {
    "colab_type": "text",
    "id": "8N1jAK-scnit"
   },
   "source": [
    "### if-then-else flowchart\n",
    "\n",
    "![if-else](images/03/if-else.png)"
   ]
  },
  {
   "cell_type": "markdown",
   "metadata": {
    "colab_type": "text",
    "id": "jM6sBDHmdCQK"
   },
   "source": [
    "### Blocks and indentation\n",
    "\n",
    "\n",
    "- The indented statements that follow are called a **block**\n",
    "\n",
    "- The first unindented statement marks the end of the block\n",
    "\n",
    "- There is no limit on the number of statements that can appear under\n",
    "    the two clauses of an if statement\n",
    "\n",
    "- but there has to be at least one statement in each block\n"
   ]
  },
  {
   "cell_type": "markdown",
   "metadata": {
    "colab_type": "text",
    "id": "ceKSOBWidVr-"
   },
   "source": [
    "### Scaffolding\n",
    "\n",
    "- Occasionally, it is useful to have a section with no statements\n",
    "\n",
    "  * usually as a place keeper, or *scaffolding*, for code we haven't\n",
    "    written yet\n",
    "\n",
    "```\n",
    "if True:  # This is always True,\n",
    "   pass   # so this is always executed, but it does nothing\n",
    "else:\n",
    "   pass   # And this is never executed\n",
    "```\n",
    "\n"
   ]
  },
  {
   "cell_type": "code",
   "execution_count": null,
   "metadata": {
    "colab": {},
    "colab_type": "code",
    "id": "5z2FE5pG6bj1"
   },
   "outputs": [],
   "source": [
    "a = 5+2 == 7\n",
    "print(a)"
   ]
  },
  {
   "cell_type": "markdown",
   "metadata": {
    "colab_type": "text",
    "id": "ya6Tz2j4IWTW"
   },
   "source": [
    "## 2.12 Omitting the else clause\n",
    "\n",
    "- Another form of the if statement is one in which the else clause is omitted entirely\n",
    "\n",
    "- This creates what is sometimes called **unary selection**\n",
    "\n",
    "\n",
    "```\n",
    "if <BOOLEAN EXPRESSION>:\n",
    "    <STATEMENTS>\n",
    "```"
   ]
  },
  {
   "cell_type": "markdown",
   "metadata": {
    "colab_type": "text",
    "id": "toVKf6xEdLi4"
   },
   "source": [
    "### unary selection flowchart\n",
    "\n",
    "![if](images/03/if.png)"
   ]
  },
  {
   "cell_type": "code",
   "execution_count": null,
   "metadata": {
    "colab": {},
    "colab_type": "code",
    "id": "asEDaG6fdQv3"
   },
   "outputs": [],
   "source": [
    "x = 1\n",
    "if x < 0:\n",
    "    print(\"The negative number \",  x, \" is not valid here.\")\n",
    "print(\"This is always printed\")"
   ]
  },
  {
   "cell_type": "markdown",
   "metadata": {
    "colab_type": "text",
    "id": "Np4RdifjIZKd"
   },
   "source": [
    "## 2.13 Chained conditionals\n",
    "\n",
    "```\n",
    "if <BOOLEAN EXPRESSION_1>:\n",
    "    <STATEMENTS_A>\n",
    "elif <BOOLEAN EXPRESSION_2>:\n",
    "    <STATEMENTS_B>\n",
    "else:\n",
    "    <STATEMENTS_C>\n",
    "```"
   ]
  },
  {
   "cell_type": "markdown",
   "metadata": {
    "colab_type": "text",
    "id": "_svwUYJ59TvA"
   },
   "source": [
    "### Chained conditionals flowchart\n",
    "\n",
    "![if-elif](images/03/if-elif.png)"
   ]
  },
  {
   "cell_type": "markdown",
   "metadata": {
    "colab_type": "text",
    "id": "MKH6ta2DIcAR"
   },
   "source": [
    "## 2.14 Nested conditionals\n",
    "\n",
    "```\n",
    "if <BOOLEAN EXPRESSION 1>:\n",
    "    <STATEMENTS_A>\n",
    "else:\n",
    "    if <BOOLEAN EXPRESSION 2>:\n",
    "        <STATEMENTS_B>\n",
    "    else:\n",
    "        <STATEMENTS_C>\n",
    "```\n"
   ]
  },
  {
   "cell_type": "markdown",
   "metadata": {
    "colab_type": "text",
    "id": "UJw7XPUh9kzM"
   },
   "source": [
    "### Nested conditionals flowchart\n",
    "\n",
    "\n",
    "![if-nested](images/03/if-nested.png)"
   ]
  },
  {
   "cell_type": "code",
   "execution_count": null,
   "metadata": {
    "colab": {},
    "colab_type": "code",
    "id": "6gSW77AFz2yk"
   },
   "outputs": [],
   "source": [
    "x = 10\n",
    "y = 10\n",
    "\n",
    "if x < y:\n",
    "    print(\"x is less than y\")\n",
    "else:\n",
    "    if x > y:\n",
    "        print(\"x is greater than y\")\n",
    "    else:\n",
    "        print(\"x and y must be equal\")"
   ]
  },
  {
   "cell_type": "code",
   "execution_count": null,
   "metadata": {},
   "outputs": [],
   "source": [
    "%%html\n",
    "<iframe width=\"800\" height=\"500\" frameborder=\"0\" src=\"http://pythontutor.com/iframe-embed.html#code=x%20%3D%2010%0Ay%20%3D%2010%0A%0Aif%20x%20%3C%20y%3A%0A%20%20%20%20print%28%22x%20is%20less%20than%20y%22%29%0Aelse%3A%0A%20%20%20%20if%20x%20%3E%20y%3A%0A%20%20%20%20%20%20%20%20print%28%22x%20is%20greater%20than%20y%22%29%0A%20%20%20%20else%3A%0A%20%20%20%20%20%20%20%20print%28%22x%20and%20y%20must%20be%20equal%22%29&codeDivHeight=400&codeDivWidth=350&cumulative=false&curInstr=0&heapPrimitives=nevernest&origin=opt-frontend.js&py=3&rawInputLstJSON=%5B%5D&textReferences=false\"> </iframe>"
   ]
  },
  {
   "cell_type": "markdown",
   "metadata": {
    "colab_type": "text",
    "id": "L-KLOrH_Iepw"
   },
   "source": [
    "## 2.15 Logical opposites\n",
    "\n",
    "| operator | logical opposite |\n",
    "| -------- | ---------------- |\n",
    "| ==       |  !=              |\n",
    "| !=       |  ==              |\n",
    "| \\<       |  \\>=             |\n",
    "| \\<=      |  \\>              |\n",
    "| \\>       |  \\<=             |\n",
    "| \\>=      |  \\<              | \n"
   ]
  },
  {
   "cell_type": "markdown",
   "metadata": {
    "colab_type": "text",
    "id": "ZWWmg4tif49e"
   },
   "source": [
    "### Get rid of not operators\n",
    "\n",
    "\n",
    "- Understanding the logical opposites allows us to sometimes get rid\n",
    "    of not operators.\n",
    "\n",
    "- `not` operators are often quite difficult to read in computer code,\n",
    "    and our intentions will usually be clearer if we can eliminate them\n"
   ]
  },
  {
   "cell_type": "code",
   "execution_count": null,
   "metadata": {
    "colab": {},
    "colab_type": "code",
    "id": "nBWQ4zkfgGo2"
   },
   "outputs": [],
   "source": [
    "age = 17\n",
    "if not (age >= 18):\n",
    "   print(\"Hey, you're too young to get a driving licence!\")"
   ]
  },
  {
   "cell_type": "code",
   "execution_count": null,
   "metadata": {
    "colab": {},
    "colab_type": "code",
    "id": "OUjYCfLygLic"
   },
   "outputs": [],
   "source": [
    "if age < 18:\n",
    "   print(\"Hey, you're too young to get a driving licence!\")"
   ]
  },
  {
   "cell_type": "markdown",
   "metadata": {
    "colab_type": "text",
    "id": "W2gFpo2XggJ_"
   },
   "source": [
    "### de Morgan's laws\n",
    "\n",
    "- Two powerful simplification laws that are often helpful when dealing\n",
    "    with complicated Boolean expressions\n",
    "\n",
    "```\n",
    "(not (x and y))  ==  ((not x) or (not y))\n",
    "(not (x or y))   ==  ((not x) and (not y))\n",
    "```\n",
    "\n"
   ]
  },
  {
   "cell_type": "markdown",
   "metadata": {
    "colab_type": "text",
    "id": "Tsbev9rvQL85"
   },
   "source": [
    "## 2.16 The `while` statement\n"
   ]
  },
  {
   "cell_type": "markdown",
   "metadata": {
    "colab_type": "text",
    "id": "6qJAEXSzZtIk"
   },
   "source": [
    "### `while` syntax\n",
    "\n",
    "```\n",
    "while <CONDITION>:\n",
    "   <STATEMENTS>\n",
    "```"
   ]
  },
  {
   "cell_type": "markdown",
   "metadata": {
    "colab_type": "text",
    "id": "cg2zKeMgZ09n"
   },
   "source": [
    "### `while` flowchart\n",
    "\n",
    "![while](images/04/while.png)\n",
    "\n"
   ]
  },
  {
   "cell_type": "code",
   "execution_count": null,
   "metadata": {},
   "outputs": [],
   "source": [
    "##### accumulated sum - while loop\n",
    "\n",
    "n = 6\n",
    "\n",
    "current_sum = 0\n",
    "i = 0\n",
    "while i <= n:\n",
    "   current_sum += i # current_sum = current_sum + i\n",
    "   i += 1\n",
    "print(current_sum)\n",
    "\n"
   ]
  },
  {
   "cell_type": "code",
   "execution_count": null,
   "metadata": {},
   "outputs": [],
   "source": [
    "##### accumulated sum - for loop\n",
    "\n",
    "n = 6\n",
    "\n",
    "current_sum = 0\n",
    "for i in range(n+1):\n",
    "   current_sum += i\n",
    "print(current_sum)\n",
    "\n"
   ]
  },
  {
   "cell_type": "code",
   "execution_count": null,
   "metadata": {},
   "outputs": [],
   "source": [
    "##### accumulated sum with sum()\n",
    "\n",
    "n = 6\n",
    "print(sum(range(n + 1)))"
   ]
  },
  {
   "cell_type": "markdown",
   "metadata": {
    "colab_type": "text",
    "id": "dgumbJf6ZgEk"
   },
   "source": [
    "### Infinite loop\n",
    "\n",
    "- The body of the loop should change the value of one or more\n",
    "    variables so that *eventually* the condition becomes false and the\n",
    "    loop terminates\n",
    "\n",
    "- Otherwise the loop will repeat forever, which is called an\n",
    "    **infinite loop**\n",
    "\n"
   ]
  },
  {
   "cell_type": "markdown",
   "metadata": {
    "colab_type": "text",
    "id": "xF-PIUp_bHZf"
   },
   "source": [
    "### Choosing between for and while\n",
    "\n",
    "- **Definite iteration** --- we know ahead of time some definite\n",
    "    bounds for what is needed\n",
    "\n",
    "    - Use a for loop if you know, before you start looping, the\n",
    "        maximum number of times that you'll need to execute the body\n",
    "\n",
    "    - Examples: \"iterate this weather model for 1000 cycles\", or\n",
    "        \"search this list of words\", \"find all prime numbers up to\n",
    "        10000\"\n"
   ]
  },
  {
   "cell_type": "markdown",
   "metadata": {
    "colab_type": "text",
    "id": "vodeFM_Ge_LF"
   },
   "source": [
    "\n",
    "- **Indefinite iteration** --- we're not sure how many iterations\n",
    "    we'll need --- we cannot even establish an upper bound!\n",
    "\n",
    "    - if you are required to repeat some computation until some\n",
    "        condition is met, and you cannot calculate in advance when (of\n",
    "        if) this will happen, you'll need a while loop"
   ]
  },
  {
   "cell_type": "markdown",
   "metadata": {
    "colab_type": "text",
    "id": "HVJIvTFJIwko"
   },
   "source": [
    "## 2.17 Randomly Walking Turtles\n",
    "\n",
    "Suppose we want to entertain ourselves by watching a turtle wander around randomly inside the screen. When we run the program we want the turtle and program to behave in the following way:\n",
    "\n",
    "1. The turtle begins in the center of the screen.\n",
    "\n",
    "1. Flip a coin. If it’s *heads* then turn to the left 90 degrees. If it’s *tails* then turn to the right 90 degrees.\n",
    "\n",
    "1. Take 50 steps forward.\n",
    "\n",
    "1. If the turtle has moved outside the screen then stop, otherwise go back to step 2 and repeat.\n",
    "\n"
   ]
  },
  {
   "cell_type": "markdown",
   "metadata": {
    "colab_type": "text",
    "id": "Hj_AsGMUJFdi"
   },
   "source": [
    "### pseudo-code\n",
    "\n",
    "So based on the problem description above, we can outline a program as follows:\n",
    "\n",
    "\n",
    "```\n",
    "create a window and a turtle\n",
    "\n",
    "while the turtle is still in the window:\n",
    "    generate a random number between 0 and 1\n",
    "    if the number == 0 (heads):\n",
    "        turn left\n",
    "    else:\n",
    "        turn right\n",
    "    move the turtle forward 50\n",
    "```"
   ]
  },
  {
   "cell_type": "markdown",
   "metadata": {
    "colab_type": "text",
    "id": "8Yw1lTwGRJ-S"
   },
   "source": [
    "The first version without testing the boundaries of the window:"
   ]
  },
  {
   "cell_type": "code",
   "execution_count": null,
   "metadata": {
    "colab": {},
    "colab_type": "code",
    "id": "H7AZpQ7GRT5p"
   },
   "outputs": [],
   "source": [
    "import random\n",
    "import turtle\n",
    "\n",
    "def is_in_screen(w, t):\n",
    "    \"\"\"\n",
    "    Determines if turtle t is inside the boundaries of screen w\n",
    "    \"\"\"\n",
    "    if random.random() > 0.1:\n",
    "        return True\n",
    "    else:\n",
    "        return False\n",
    "\n",
    "wn = turtle.Screen()\n",
    "wn.setup(600, 600) \n",
    "wn.bgcolor(\"green\")\n",
    "\n",
    "tess = turtle.Turtle()\n",
    "tess.shape('turtle')\n",
    "\n",
    "while is_in_screen(wn, tess):\n",
    "    coin = random.randrange(0, 2)  # throw the coin\n",
    "    if coin == 0:                  # heads\n",
    "        tess.left(90)\n",
    "    else:                          # tails\n",
    "        tess.right(90)\n",
    "\n",
    "    tess.forward(50)\n",
    "\n",
    "wn.mainloop()\n",
    "turtle.bye()"
   ]
  },
  {
   "cell_type": "markdown",
   "metadata": {
    "colab_type": "text",
    "id": "e0MOyPteS4Oy"
   },
   "source": [
    "### Code for `is_in_screen`:"
   ]
  },
  {
   "cell_type": "code",
   "execution_count": null,
   "metadata": {
    "colab": {},
    "colab_type": "code",
    "id": "ZgxE2KcDS_eq"
   },
   "outputs": [],
   "source": [
    "import random\n",
    "import turtle\n",
    "\n",
    "\n",
    "def is_in_screen(w, t):\n",
    "    \"\"\"\n",
    "    Determines if turtle t is inside the boundaries of screen w\n",
    "    \"\"\"\n",
    "    left_bound = (-w.window_width() / 2) + 50\n",
    "    right_bound = (w.window_width() / 2) - 50\n",
    "    top_bound = (w.window_height() / 2) - 50\n",
    "    bottom_bound = (-w.window_height() / 2) + 50\n",
    "\n",
    "    turtle_x = t.xcor()      # get current x position\n",
    "    turtle_y = t.ycor()      # get current y position\n",
    "\n",
    "    still_in = True\n",
    "    if turtle_x >= right_bound or turtle_x <= left_bound:\n",
    "        still_in = False\n",
    "    if turtle_y >= top_bound or turtle_y <= bottom_bound:\n",
    "        still_in = False\n",
    "\n",
    "    return still_in\n",
    "\n",
    "\n",
    "wn = turtle.Screen()\n",
    "wn.setup(600, 600)       # size of the screen window\n",
    "wn.bgcolor(\"green\")\n",
    "\n",
    "tess = turtle.Turtle()\n",
    "tess.shape('turtle')\n",
    "\n",
    "while is_in_screen(wn, tess):\n",
    "    coin = random.randrange(0, 2)  # throw the coin\n",
    "    if coin == 0:                  # heads\n",
    "        tess.left(90)\n",
    "    else:                          # tails\n",
    "        tess.right(90)\n",
    "\n",
    "    tess.forward(50)\n",
    "\n",
    "wn.mainloop()\n",
    "turtle.bye()"
   ]
  },
  {
   "cell_type": "markdown",
   "metadata": {
    "colab_type": "text",
    "id": "4-GaAHiSQPK9"
   },
   "source": [
    "## 2.18 The Collatz 3n + 1 sequence\n",
    "\n",
    "As another example of indefinite iteration, let’s look at a sequence that has fascinated mathematicians for many years. "
   ]
  },
  {
   "cell_type": "markdown",
   "metadata": {
    "colab_type": "text",
    "id": "ZJCFUdsaeSxJ"
   },
   "source": [
    "### Collatz conjecture\n",
    "\n",
    "\n",
    "\n",
    "> **Computational rule**:\\\n",
    "\\\n",
    "The rule for creating the sequence is to **start** from\n",
    "some given n,\\\n",
    "and to generate the **next term** of the sequence from n,\\\n",
    "either by halving n, (whenever n is even),\\\n",
    "or else by multiplying it by three and adding 1.\\\n",
    "The sequence **terminates** when n reaches 1."
   ]
  },
  {
   "cell_type": "code",
   "execution_count": null,
   "metadata": {
    "colab": {},
    "colab_type": "code",
    "id": "vcn9GCOefyYL"
   },
   "outputs": [],
   "source": [
    "n = 302737132\n",
    "while n != 1:\n",
    "    print(n, end=\", \")\n",
    "    if n % 2 == 0:\n",
    "        n = n / 2\n",
    "    else:\n",
    "        n = n * 3 + 1\n",
    "print(n, end=\".\\n\")"
   ]
  },
  {
   "cell_type": "markdown",
   "metadata": {
    "colab_type": "text",
    "id": "WCWwKypCQSKK"
   },
   "source": [
    "## 2.19 Counting digits\n"
   ]
  },
  {
   "cell_type": "markdown",
   "metadata": {
    "colab_type": "text",
    "id": "pgq11vbNgLSE"
   },
   "source": [
    "### counter\n",
    "\n",
    " The following snippet *counts* the number of decimal digits\n",
    "in a positive integer:\n",
    "\n",
    "\n",
    "```\n",
    "  n = 3029\n",
    "  count = 0\n",
    "  while n != 0:\n",
    "     count = count + 1\n",
    "     n = n // 10\n",
    "  print(count)\n",
    "```\n",
    " This snippet demonstrates an important pattern of\n",
    "computation called a **counter**.\n"
   ]
  },
  {
   "cell_type": "code",
   "execution_count": null,
   "metadata": {},
   "outputs": [],
   "source": [
    "########################\n",
    "# counter\n",
    "########################\n",
    "\n",
    "##### counts the number of decimal digits in a positive integer\n",
    "\n",
    "n = 3029\n",
    "count = 0\n",
    "while n != 0:\n",
    "    count = count + 1\n",
    "    n = n // 10\n",
    "print(count)\n",
    "\n",
    "##### only count digits that are either 0 or 5\n",
    "\n",
    "n = 2574301453\n",
    "count = 0\n",
    "while n > 0:\n",
    "    digit = n % 10\n",
    "    if digit == 0 or digit == 5:\n",
    "        count = count + 1\n",
    "    n = n // 10\n",
    "print(count)"
   ]
  },
  {
   "cell_type": "markdown",
   "metadata": {
    "colab_type": "text",
    "id": "8cKQ9WoyQVNw"
   },
   "source": [
    "## 2.20 Tables\n"
   ]
  },
  {
   "cell_type": "markdown",
   "metadata": {
    "colab_type": "text",
    "id": "G4KkwZdqgVAK"
   },
   "source": [
    "### Table\n",
    "\n",
    "- One of the things loops are good for is generating tables\n",
    "\n",
    "- Output a sequence of values in the left column and 2 raised to the\n",
    "    power of that value in the right column\n",
    "\n",
    "    - using the \"tab separator\" *escape sequence*\n"
   ]
  },
  {
   "cell_type": "code",
   "execution_count": null,
   "metadata": {
    "colab": {},
    "colab_type": "code",
    "id": "CzWfj_9Lgj80"
   },
   "outputs": [],
   "source": [
    "print(\"n\", '\\t', \"2**n\")     # table column headings\n",
    "print(\"---\", '\\t', \"-----\")\n",
    "\n",
    "for x in range(11):          # generate values for columns\n",
    "    print(x, '\\t', 2 ** x)"
   ]
  },
  {
   "cell_type": "markdown",
   "metadata": {
    "colab_type": "text",
    "id": "aWq6u0nJQYPV"
   },
   "source": [
    "## 2.21 Two-dimensional tables\n"
   ]
  },
  {
   "cell_type": "markdown",
   "metadata": {
    "colab_type": "text",
    "id": "fE6x61zkhM6I"
   },
   "source": [
    "### Two-dimensional Table\n",
    "\n",
    "\n",
    "- A two-dimensional table is a table where you read the value at the\n",
    "    intersection of a row and a column.\n",
    "\n",
    "- Let's say you want to print a multiplication table for the values\n",
    "    from 1 to 6\n",
    "\n",
    "- A good way *to start* is to write a loop that prints the multiples\n",
    "    of 2, all on one line:\n",
    "\n",
    "    - `end=\" \"` argument in the print function suppresses the newline"
   ]
  },
  {
   "cell_type": "code",
   "execution_count": null,
   "metadata": {
    "colab": {},
    "colab_type": "code",
    "id": "grzJ8QSWzcx0"
   },
   "outputs": [],
   "source": [
    "print(\"First line\")\n",
    "for i in range(1, 7):\n",
    "    print(2 * i, end=\"   \")\n",
    "    #print()\n",
    "print(\"\\nto be continued...\")"
   ]
  },
  {
   "cell_type": "markdown",
   "metadata": {
    "colab_type": "text",
    "id": "AzCJWn-hQcge"
   },
   "source": [
    "## 2.22 The `break` statement\n"
   ]
  },
  {
   "cell_type": "markdown",
   "metadata": {
    "colab_type": "text",
    "id": "MfsscAwF0OKB"
   },
   "source": [
    "\n",
    "- The **break** statement is used to *immediately leave the body of\n",
    "    its loop*\n",
    "\n",
    "- The next statement to be executed is the first one after the body:\n"
   ]
  },
  {
   "cell_type": "code",
   "execution_count": null,
   "metadata": {
    "colab": {},
    "colab_type": "code",
    "id": "mcvXWURD0X_C"
   },
   "outputs": [],
   "source": [
    "for i in [12, 16, 17, 24, 29]:\n",
    "    if i % 2 == 1:    # If the number is odd\n",
    "        break         # ... immediately exit the loop\n",
    "print(i)\n",
    "print(\"done.\")"
   ]
  },
  {
   "cell_type": "markdown",
   "metadata": {
    "colab_type": "text",
    "id": "AKZFku5HQhcz"
   },
   "source": [
    "## 2.23 Other flavours of loops\n"
   ]
  },
  {
   "cell_type": "markdown",
   "metadata": {
    "colab_type": "text",
    "id": "WQuLZ0nt1Rqk"
   },
   "source": [
    "### Other flavours of loops\n",
    "\n",
    "- `for` and `while` loops do their tests at the start: They're called\n",
    "    **pre-test loops**\n",
    "\n",
    "- Sometimes we'd like to have the **middle-test loop** with the exit\n",
    "    test in the middle of the body\n",
    "\n",
    "- Or a **post-test loop** that puts its exit test as the last thing in\n",
    "    the body\n"
   ]
  },
  {
   "cell_type": "markdown",
   "metadata": {
    "colab_type": "text",
    "id": "gxW82Wgx1c2Y"
   },
   "source": [
    "### Middle-exit loop\n",
    "\n"
   ]
  },
  {
   "cell_type": "markdown",
   "metadata": {
    "colab_type": "text",
    "id": "ere-20PD1XPI"
   },
   "source": [
    "\n",
    "![break](images/04/break.png)\n"
   ]
  },
  {
   "cell_type": "code",
   "execution_count": null,
   "metadata": {
    "colab": {},
    "colab_type": "code",
    "id": "mIFqdveE1hGC"
   },
   "outputs": [],
   "source": [
    "total = 0\n",
    "while True:\n",
    "    response = input(\"Enter the next number. (Leave blank to end)\")\n",
    "    if response == \"\" or response == \"-1\":\n",
    "        break\n",
    "    total += int(response)\n",
    "print(\"The total of the numbers you entered is \", total)"
   ]
  },
  {
   "cell_type": "markdown",
   "metadata": {
    "colab_type": "text",
    "id": "voNCI5FB17Ie"
   },
   "source": [
    "### Post-test loop\n",
    "\n",
    "\n",
    "```\n",
    "while True:\n",
    "   play_the_game_once()\n",
    "   response = input(\"Play again? (yes or no)\")\n",
    "   if response != \"yes\":\n",
    "      break\n",
    "print(\"Goodbye!\")\n",
    "```\n"
   ]
  },
  {
   "cell_type": "markdown",
   "metadata": {
    "colab_type": "text",
    "id": "S4beccoDQksR"
   },
   "source": [
    "## 2.24 An example\n",
    "\n"
   ]
  },
  {
   "cell_type": "markdown",
   "metadata": {
    "colab_type": "text",
    "id": "jnzDRZ3P2kBW"
   },
   "source": [
    "### A simple guessing game\n",
    "\n",
    "- The *guessing game* program makes use of the mathematical law of\n",
    "    **trichotomy**:\n",
    "\n",
    "    - given real numbers a and b, exactly one of these three must be\n",
    "        true:\n",
    "\n",
    "    - a \\> b, a \\< b, or a == b\n"
   ]
  },
  {
   "cell_type": "code",
   "execution_count": null,
   "metadata": {},
   "outputs": [],
   "source": [
    "import random          # We cover random numbers in the modules chapter\n",
    "rng = random.Random()  # \"rng\" stands for \"random number generator\"\n",
    "number = rng.randrange(1, 1000)  # Get random number between (1 and 1000).\n",
    "\n",
    "guesses = 0\n",
    "message = \"\"\n",
    "\n",
    "while True:\n",
    "    guess = int(input(message + \"\\nGuess my number between 1 and 1000: \"))\n",
    "    guesses += 1\n",
    "    if guess > number:\n",
    "        message += str(guess) + \" is too high.\\n\"\n",
    "    elif guess < number:\n",
    "        message += str(guess) + \" is too low.\\n\"\n",
    "    else:\n",
    "        break\n",
    "input(\"\\nGreat, you got it in \"+str(guesses)+\" guesses!\\n\")"
   ]
  },
  {
   "cell_type": "markdown",
   "metadata": {
    "colab_type": "text",
    "id": "loSntQunQn2a"
   },
   "source": [
    "## 2.25 The continue statement\n"
   ]
  },
  {
   "cell_type": "markdown",
   "metadata": {
    "colab_type": "text",
    "id": "NS-WiwiW3tZV"
   },
   "source": [
    "### The `continue` statement\n",
    "\n",
    "\n",
    "- This is a control flow statement that causes the program to\n",
    "    immediately skip the processing of the rest of the body of the loop,\n",
    "    *for the current iteration*\n",
    "\n",
    "- But the loop still carries on running for its remaining iterations\n"
   ]
  },
  {
   "cell_type": "code",
   "execution_count": null,
   "metadata": {
    "colab": {},
    "colab_type": "code",
    "id": "eKaPzzoc3yP2"
   },
   "outputs": [],
   "source": [
    "for i in [12, 16, 17, 24, 29, 30]:\n",
    "    if i % 2 == 1:      # If the number is odd\n",
    "        continue        # Don't process it\n",
    "    print(i)\n",
    "print(\"done.\")"
   ]
  },
  {
   "cell_type": "markdown",
   "metadata": {
    "colab_type": "text",
    "id": "5Ce1EmdLQw91"
   },
   "source": [
    "## 2.26 Newton’s method for finding square roots\n"
   ]
  },
  {
   "cell_type": "markdown",
   "metadata": {
    "colab_type": "text",
    "id": "rAY7YFRy4xEh"
   },
   "source": [
    "### Newton's method\n",
    "\n",
    "\n",
    "- Loops are often used in programs that compute numerical results by\n",
    "    starting with an approximate answer and iteratively improving it\n",
    "\n",
    "- For example, in Newton's method for finding square root n.\n",
    "\n",
    "- Starting with almost any approximation, a better approximation can\n",
    "    be computed (closer to the actual answer) with the following\n",
    "    formula:\n",
    "\n",
    "    - `better = 0.5 * (approximation + n/approximation)`\n",
    "\n",
    "- One of the amazing properties of this particular algorithm is how\n",
    "    quickly it converges to an accurate answer (a great advantage for\n",
    "    doing it manually)\n",
    "\n"
   ]
  },
  {
   "cell_type": "code",
   "execution_count": null,
   "metadata": {},
   "outputs": [],
   "source": [
    "# lectures/03/approx.py\n",
    "\n",
    "n = int(input(\"input number n: \"))\n",
    "threshold = 0.001      # use more precision if needed\n",
    "\n",
    "approximation = n/2    # Start with some or other guess at the answer\n",
    "\n",
    "while True:\n",
    "    better = (approximation + n/approximation)/2\n",
    "    print(better)\n",
    "    if abs(approximation - better) < threshold:\n",
    "        print(\"approx root: \", better)\n",
    "        break\n",
    "    approximation = better"
   ]
  },
  {
   "cell_type": "code",
   "execution_count": null,
   "metadata": {},
   "outputs": [],
   "source": [
    "%%html\n",
    "<iframe width=\"800\" height=\"500\" frameborder=\"0\" src=\"http://pythontutor.com/iframe-embed.html#code=n%20%3D%20int%28input%28%22input%20number%20n%3A%20%22%29%29%0Athreshold%20%3D%200.001%20%20%20%20%20%20%23%20use%20more%20precision%20if%20needed%0A%0Aapproximation%20%3D%20n/2%20%20%20%20%23%20Start%20with%20some%20or%20other%20guess%20at%20the%20answer%0A%0Awhile%20True%3A%0A%20%20%20%20better%20%3D%20%28approximation%20%2B%20n/approximation%29/2%0A%20%20%20%20print%28better%29%0A%20%20%20%20if%20abs%28approximation%20-%20better%29%20%3C%20threshold%3A%0A%20%20%20%20%20%20%20%20print%28%22approx%20root%3A%20%22,%20better%29%0A%20%20%20%20%20%20%20%20break%0A%20%20%20%20approximation%20%3D%20better&codeDivHeight=400&codeDivWidth=350&cumulative=false&curInstr=0&heapPrimitives=nevernest&origin=opt-frontend.js&py=3&rawInputLstJSON=%5B%5D&textReferences=false\"> </iframe>"
   ]
  },
  {
   "cell_type": "markdown",
   "metadata": {
    "colab_type": "text",
    "id": "c_cHwFlgU-H2"
   },
   "source": [
    "### The Accumulator Pattern\n",
    "\n",
    "- Newton’s method to calculate square roots is an example of an algorithm that repeats as long as it can improve the result\n",
    "\n",
    "- It’s just a variation of our **accumulator pattern**\n",
    "\n",
    "- Many algorithms work this way and so require the use of indefinite iteration\n"
   ]
  },
  {
   "cell_type": "markdown",
   "metadata": {
    "colab_type": "text",
    "id": "GUXfHIyIWzlZ"
   },
   "source": [
    "### Another example\n",
    "\n",
    "Let's see another accumulator pattern program that add up the reciprocals of powers of two:\n",
    "\n",
    "$$\\frac{1}{2^0} + \\frac{1}{2^1} + \\frac{1}{2^2} + \\ldots + \\frac{1}{2^n}$$\n",
    "\n",
    "You may have studied this sequence in a math class and learned that the sum approaches but never reaches 2.0. \n",
    "\n",
    "That is true in theory. However, when we implement this summation in a program, we see something different.\n",
    "\n",
    "If the sum never reaches 2.0, the loop would never terminate. \n",
    "But the loop does stop! \n",
    "How many repetitions did it make before it stopped?"
   ]
  },
  {
   "cell_type": "code",
   "execution_count": null,
   "metadata": {
    "colab": {},
    "colab_type": "code",
    "id": "JMsiEfMSXFqD"
   },
   "outputs": [],
   "source": [
    "from decimal import Decimal\n",
    "\n",
    "the_sum  = 0\n",
    "a_number = 0\n",
    "\n",
    "while the_sum < 2.0:\n",
    "    the_sum = the_sum + 1/2**a_number\n",
    "    a_number = a_number + 1\n",
    "    print(a_number, '\\t', the_sum, '\\t', Decimal(the_sum))\n",
    "print(a_number)\n",
    "print(the_sum)"
   ]
  },
  {
   "cell_type": "markdown",
   "metadata": {
    "colab_type": "text",
    "id": "xTNGKjhcQzpU"
   },
   "source": [
    "## 2.27 Algorithms\n"
   ]
  },
  {
   "cell_type": "markdown",
   "metadata": {
    "colab_type": "text",
    "id": "WY2TdLyt5Acl"
   },
   "source": [
    "### Algorithms\n",
    "\n",
    "- Newton's method is an example of an **algorithm**:\n",
    "\n",
    "    - it is a mechanical process for solving a category of problems\n",
    "        (in this case, computing square roots)\n",
    "\n",
    "- Some kinds of knowledge are not algorithmic:\n",
    "\n",
    "    - learning dates from history or multiplication tables involves\n",
    "        memorization of specific solutions\n",
    "\n",
    "- But the techniques for addition with carrying, subtraction with\n",
    "    borrowing, and long division are all algorithms\n",
    "\n",
    "- One of the characteristics of algorithms is that they do not require\n",
    "    any intelligence to carry out.\n",
    "\n",
    "    - They are mechanical processes in which each step follows from\n",
    "        the last according to a simple set of rules\n",
    "\n",
    "- And they're designed to solve a general class or category of\n",
    "    problems, not just a single problem"
   ]
  },
  {
   "cell_type": "markdown",
   "metadata": {
    "colab_type": "text",
    "id": "8z5cONg8rUrX",
    "tags": []
   },
   "source": [
    "# 3.00 Functions"
   ]
  },
  {
   "cell_type": "markdown",
   "metadata": {
    "colab_type": "text",
    "id": "MZzE7pYorju5"
   },
   "source": [
    "## Goals\n",
    "\n",
    "By the end of this class, the student should be able to:\n",
    "\n",
    "\n",
    "- Describe function definition and formal parameters\n",
    "\n",
    "- Describe function body and local variables\n",
    "\n",
    "- Describe function call, actual parameters or arguments and the flow\n",
    "    of execution\n",
    "\n",
    "- Describe void functions and fruitful functions that return values\n",
    "\n",
    "- Use the Python Help and understand its meta-notation\n",
    "\n",
    "- Describe the basics of program debugging\n"
   ]
  },
  {
   "cell_type": "markdown",
   "metadata": {
    "colab_type": "text",
    "id": "UU97kB5o7v_n"
   },
   "source": [
    "## 3.01 Functions"
   ]
  },
  {
   "cell_type": "markdown",
   "metadata": {
    "colab_type": "text",
    "id": "LHos_7XR9Usg"
   },
   "source": [
    "\n",
    "- A *function* is a named sequence of statements that belong together\n",
    "\n",
    "- Their primary purpose is to help us organize programs into chunks\n",
    "    that match how we think about the problem\n",
    "\n",
    "- The syntax for a function definition is:\n",
    "\n",
    "```\n",
    "   def <NAME>( <PARAMETERS> ):\n",
    "       <STATEMENTS>\n",
    "```"
   ]
  },
  {
   "cell_type": "markdown",
   "metadata": {
    "colab_type": "text",
    "id": "dmwqYSHc9bM-"
   },
   "source": [
    "### Function definitions\n",
    "\n",
    "- Function definitions are **compound statements** which follow\n",
    "    the pattern:\n",
    "\n",
    "    1.  A **header** line which begins with the keyword **def** and ends with a\n",
    "        *colon*\n",
    "\n",
    "    2.  A **body** consisting of *one or more* Python statements, each\n",
    "        *indented* the same amount from the header line\n",
    "\n"
   ]
  },
  {
   "cell_type": "markdown",
   "metadata": {
    "colab_type": "text",
    "id": "e_7A01TK9jer"
   },
   "source": [
    "### Draw a square\n",
    "\n",
    "\n",
    "- Suppose we're working with turtles, and a common operation we need\n",
    "    is to *draw squares*\n",
    "\n",
    "- \"Draw a square\" is an abstraction, or a mental chunk, of a number of\n",
    "    smaller steps\n",
    "\n",
    "- So let's write a function to capture the pattern of this \"building\n",
    "    block\"\n"
   ]
  },
  {
   "cell_type": "code",
   "execution_count": null,
   "metadata": {
    "colab": {},
    "colab_type": "code",
    "id": "7DgYrnW0cOBP"
   },
   "outputs": [],
   "source": [
    "import turtle\n",
    "\n",
    "def draw_square(t, sz):\n",
    "    \"\"\"Make turtle t draw a square of with side sz.\"\"\"\n",
    "    for i in range(4):\n",
    "        t.forward(sz)\n",
    "        t.left(90)\n",
    "\n",
    "\n",
    "wn = turtle.Screen()      # Set up the window and its attributes\n",
    "wn.bgcolor(\"lightgreen\")\n",
    "\n",
    "alex = turtle.Turtle()    # create alex\n",
    "draw_square(alex, 50)      # Call the function to draw the square \n",
    "                          # passing the actual turtle and the actual side size\n",
    "bob = turtle.Turtle()\n",
    "draw_square(bob,100)\n",
    "wn.mainloop()"
   ]
  },
  {
   "cell_type": "markdown",
   "metadata": {
    "colab_type": "text",
    "id": "_gMkNMkn9pm_"
   },
   "source": [
    "### *Docstrings* for documentation\n",
    "\n",
    "- If the first thing after the function header is a string, it is\n",
    "    treated as a **docstring** and gets special treatment\n",
    "\n",
    "- *Docstrings* are usually formed using triple-quoted strings\n",
    "\n",
    "- *Docstrings* are the key way to document our functions in Python and\n",
    "    the documentation part is important\n",
    "\n",
    "- *docstrings* are not comments:\n",
    "\n",
    "    - a string at the start of a function (a *docstring*) is retrievable\n",
    "        by Python tools *at runtime*\n",
    "\n",
    "    - comments are completely eliminated when the program is parsed\n"
   ]
  },
  {
   "cell_type": "markdown",
   "metadata": {
    "colab_type": "text",
    "id": "cg8s3YmO91s_"
   },
   "source": [
    "### Function call\n",
    "\n",
    "\n",
    "- Defining the function just tells Python *how* to do a particular\n",
    "    task, not to *perform* it\n",
    "\n",
    "- In order to execute a function we need to make a **function call**\n",
    "\n",
    "- Function calls contain the name of the function being executed\n",
    "    followed by a list of values, called *arguments* (**actual\n",
    "    parameters**), which are assigned to the parameters in the function\n",
    "    definition (**formal parameters**)\n",
    "\n",
    "- Once we've defined a function, we can call it as often as we like,\n",
    "    and its statements will be executed each time we call it\n"
   ]
  },
  {
   "cell_type": "markdown",
   "metadata": {
    "colab_type": "text",
    "id": "ZKXE3UeN96q6"
   },
   "source": [
    "### Abstraction\n",
    "\n",
    "- The following diagram is often called a **black-box diagram**\n",
    "    because it only states the requirements from the perspective of the\n",
    "    user\n",
    "\n",
    "- The user must know the name of the function and what arguments need\n",
    "    to be passed\n",
    "\n",
    "- The details of how the function works are hidden inside the\n",
    "    \"black-box\"\n",
    "\n",
    "![blackbox](images/05/blackbox.png)\n"
   ]
  },
  {
   "cell_type": "markdown",
   "metadata": {
    "colab_type": "text",
    "id": "0YqTw30071Z-"
   },
   "source": [
    "## 3.02 Functions can call other functions\n",
    "\n",
    "A Square is a (special) Rectangle\n",
    "\n",
    "- Let's assume now we want a function to draw a rectangle\n",
    "\n",
    "- We may use it to draw a square\n",
    "\n",
    "![square](images/05/turtleproc.png)\n"
   ]
  },
  {
   "cell_type": "code",
   "execution_count": null,
   "metadata": {
    "colab": {},
    "colab_type": "code",
    "id": "paSQokz9gh3E"
   },
   "outputs": [],
   "source": [
    "import turtle\n",
    "\n",
    "\n",
    "def draw_rectangle(animal, width, height):\n",
    "    \"\"\"Get animal to draw a rectangle of given width and height.\"\"\"\n",
    "    for _ in range(2):\n",
    "        animal.forward(width)\n",
    "        animal.left(90)\n",
    "        animal.forward(height)\n",
    "        animal.left(90)\n",
    "\n",
    "\n",
    "wn = turtle.Screen()             # Set up the window and its attributes\n",
    "wn.bgcolor(\"lightgreen\")\n",
    "tess = turtle.Turtle()           # create tess and set some attributes\n",
    "tess.pensize(3)\n",
    "\n",
    "draw_rectangle(tess, 200, 80)"
   ]
  },
  {
   "cell_type": "code",
   "execution_count": null,
   "metadata": {
    "colab": {},
    "colab_type": "code",
    "id": "lFVY4l0AgpP6"
   },
   "outputs": [],
   "source": [
    "def draw_square(animal, size):   # A new version of draw_square\n",
    "    draw_rectangle(animal, size, size)"
   ]
  },
  {
   "cell_type": "code",
   "execution_count": null,
   "metadata": {
    "colab": {},
    "colab_type": "code",
    "id": "SSgrOgdrgwRJ"
   },
   "outputs": [],
   "source": [
    "def move_n_draw(animal, x, y):\n",
    "    \"\"\" Get an animal to go to (x,y) and draw a square 80x80 \"\"\"\n",
    "    animal.penup()\n",
    "    animal.goto(x, y)\n",
    "    animal.pendown()\n",
    "    draw_square(animal, 80)\n",
    "\n",
    "\n",
    "move_n_draw(tess, 120, 100)\n",
    "move_n_draw(tess, 120, -100)\n",
    "move_n_draw(tess, 0, -100)\n",
    "move_n_draw(tess, 0, 100)\n",
    "move_n_draw(tess, -100, 0)\n",
    "\n",
    "wn.mainloop()\n",
    "turtle.done()"
   ]
  },
  {
   "cell_type": "markdown",
   "metadata": {
    "colab_type": "text",
    "id": "LhHvh7At7869"
   },
   "source": [
    "## 3.03 Functions that require arguments"
   ]
  },
  {
   "cell_type": "markdown",
   "metadata": {
    "colab_type": "text",
    "id": "VXefh-b__KYs"
   },
   "source": [
    "### Functions that require arguments\n",
    "\n",
    "- Most functions require arguments: the arguments provide for\n",
    "    generalisation\n",
    "\n",
    "- Some examples:\n"
   ]
  },
  {
   "cell_type": "code",
   "execution_count": null,
   "metadata": {
    "colab": {},
    "colab_type": "code",
    "id": "XluI2Hsdc0Fs"
   },
   "outputs": [],
   "source": [
    "print(abs(5))\n",
    "\n",
    "print(abs(-5))"
   ]
  },
  {
   "cell_type": "code",
   "execution_count": null,
   "metadata": {
    "colab": {},
    "colab_type": "code",
    "id": "kMmOsVNEc8bg"
   },
   "outputs": [],
   "source": [
    "import math\n",
    "\n",
    "print(math.pow(2, 3))\n",
    "print(math.pow(7, 4))"
   ]
  },
  {
   "cell_type": "code",
   "execution_count": null,
   "metadata": {
    "colab": {},
    "colab_type": "code",
    "id": "k_BKxlbMdC-A"
   },
   "outputs": [],
   "source": [
    "print(max(7, 11))\n",
    "print(max(4, 1, 17, 2, 12))\n",
    "print(max(3 * 11, 5 ** 3, 512 - 9, 1024 ** 0))"
   ]
  },
  {
   "cell_type": "markdown",
   "metadata": {
    "colab_type": "text",
    "id": "D0tIb4d48AhK"
   },
   "source": [
    "## 3.04 Functions that return values"
   ]
  },
  {
   "cell_type": "markdown",
   "metadata": {
    "colab_type": "text",
    "id": "07gchgQU_ZP2"
   },
   "source": [
    "### Functions that return values\n",
    "\n",
    "- A function that returns a value is called a **fruitful function**\n",
    "\n",
    "- The opposite of a fruitful function is **void function** --- one\n",
    "    that is not executed for its resulting value (e.g. `draw_square`)\n",
    "\n",
    "- Python will automatically return the value `None` for void functions\n",
    "    (aka *procedures*)\n",
    "\n",
    "- Most of the time, calling functions generates a value, which we\n",
    "    usually assign to a variable or use as part of an expression"
   ]
  },
  {
   "cell_type": "markdown",
   "metadata": {},
   "source": [
    "### Return values\n",
    "\n",
    "- The built-in functions we have used, such as `abs`, `pow`, `int`,\n",
    "    `max`, and `range`, have produced results\n",
    "\n",
    "- Calling each of these functions generates a value, which we usually\n",
    "    assign to a variable or use as part of an expression\n",
    "\n",
    "```\n",
    "   biggest = max(3, 7, 2, 5)\n",
    "\n",
    "   x = abs(3 - 11) + 10\n",
    "  \n",
    "```"
   ]
  },
  {
   "cell_type": "code",
   "execution_count": null,
   "metadata": {
    "colab": {},
    "colab_type": "code",
    "id": "fQmTTDLadvAZ"
   },
   "outputs": [],
   "source": [
    "biggest = max(3, 7, 2, 5)\n",
    "\n",
    "x = abs(3 - 11) + 10"
   ]
  },
  {
   "cell_type": "code",
   "execution_count": null,
   "metadata": {
    "colab": {},
    "colab_type": "code",
    "id": "K1F2rfggd-E6"
   },
   "outputs": [],
   "source": [
    "print(biggest)\n",
    "print(x)"
   ]
  },
  {
   "cell_type": "markdown",
   "metadata": {},
   "source": [
    "### The `return` Statement\n",
    "\n",
    "- In a fruitful function the return statement includes a **return\n",
    "    value**\n",
    "\n",
    "- This statement means: evaluate the return expression, and then\n",
    "    return it immediately as the result (the fruit) of this function\n"
   ]
  },
  {
   "cell_type": "markdown",
   "metadata": {
    "colab_type": "text",
    "id": "VsGGwH-s_o1U"
   },
   "source": [
    "### Interest rates\n",
    "\n",
    " The standard formula for compound interest:\n",
    "$$A = P \\left(1 + \\frac{r}{n}\\right)^{nt}$$\n",
    "\n",
    "Where:\n",
    "\n",
    "- P = principal amount (initial investment)\n",
    "\n",
    "- r = annual nominal interest rate (as a decimal)\n",
    "\n",
    "- n = the number of times the interest is compounded per year\n",
    "\n",
    "- t = the number of years that the interest is calculated for\n",
    "\n"
   ]
  },
  {
   "cell_type": "code",
   "execution_count": null,
   "metadata": {
    "colab": {},
    "colab_type": "code",
    "id": "mut2adCpioqv"
   },
   "outputs": [],
   "source": [
    "def final_amount(p, r, n, t):\n",
    "    a = p * (1 + r/n) ** (n*t)\n",
    "    return a\n",
    "#show simplification \n",
    "\n",
    "to_invest = float(input(\"How much do you want to invest?\"))\n",
    "fnl = final_amount(to_invest, 0.02, 12, 5)\n",
    "print(\"At the end of the period you'll have\", fnl)"
   ]
  },
  {
   "cell_type": "markdown",
   "metadata": {},
   "source": [
    "### Dead code\n",
    "\n",
    "\n",
    "- Code that appears after a `return` statement is called **dead\n",
    "    code**\n",
    "    \n"
   ]
  },
  {
   "cell_type": "code",
   "execution_count": null,
   "metadata": {},
   "outputs": [],
   "source": [
    "def area(radius):\n",
    "    \"\"\"returns the area of a circle with the given radius.\"\"\"\n",
    "    fruit = 3.14159 * radius ** 2\n",
    "    return fruit\n",
    "    print(\"I'm dead!\")\n",
    "\n",
    "area(2.4)"
   ]
  },
  {
   "cell_type": "markdown",
   "metadata": {
    "colab_type": "text",
    "id": "bsH-_Dky75Jj"
   },
   "source": [
    "## 3.05 Flow of execution"
   ]
  },
  {
   "cell_type": "markdown",
   "metadata": {
    "colab_type": "text",
    "id": "84EcgWU_-aFa"
   },
   "source": [
    "### Flow of execution\n",
    "\n",
    "\n",
    "- Execution always begins at the first statement of the program\n",
    "\n",
    "- Statements are executed one at a time, in order from top to bottom\n",
    "\n",
    "- Function definitions do not alter the flow of execution of the\n",
    "    program\n",
    "\n",
    "    - Statements inside the function are not executed until the\n",
    "        function is called\n",
    "\n",
    "- Function calls are like a detour in the flow of execution\n",
    "\n",
    "    - Instead of going to the next statement, the flow jumps to the\n",
    "        first line of the called function, executes all the statements\n",
    "        there, and then comes back to pick up where it left off.\n"
   ]
  },
  {
   "cell_type": "code",
   "execution_count": null,
   "metadata": {
    "colab": {},
    "colab_type": "code",
    "id": "ymc_fjCLg9uZ"
   },
   "outputs": [],
   "source": [
    "def square(x):\n",
    "    y = x * x\n",
    "    return y"
   ]
  },
  {
   "cell_type": "code",
   "execution_count": null,
   "metadata": {
    "colab": {},
    "colab_type": "code",
    "id": "PSxNH-YVhAFo"
   },
   "outputs": [],
   "source": [
    "def sum_of_squares(x, y, z):\n",
    "    a = square(x)\n",
    "    b = square(y)\n",
    "    c = square(z)\n",
    "    return a + b + c"
   ]
  },
  {
   "cell_type": "code",
   "execution_count": null,
   "metadata": {
    "colab": {},
    "colab_type": "code",
    "id": "XxdYwEx8hClR"
   },
   "outputs": [],
   "source": [
    "a = -5\n",
    "b = 2\n",
    "c = 10\n",
    "result = sum_of_squares(a, b, c)\n",
    "print(result)\n"
   ]
  },
  {
   "cell_type": "code",
   "execution_count": null,
   "metadata": {},
   "outputs": [],
   "source": [
    "%%html\n",
    "<iframe width=\"800\" height=\"500\" frameborder=\"0\" src=\"http://pythontutor.com/iframe-embed.html#code=def%20square%28x%29%3A%0A%20%20%20%20y%20%3D%20x%20*%20x%0A%20%20%20%20return%20y%0A%0Adef%20sum_of_squares%28x,%20y,%20z%29%3A%0A%20%20%20%20a%20%3D%20square%28x%29%0A%20%20%20%20b%20%3D%20square%28y%29%0A%20%20%20%20c%20%3D%20square%28z%29%0A%20%20%20%20return%20a%20%2B%20b%20%2B%20c%0A%0Aa%20%3D%20-5%0Ab%20%3D%202%0Ac%20%3D%2010%0Aresult%20%3D%20sum_of_squares%28a,%20b,%20c%29%0Aprint%28result%29&codeDivHeight=400&codeDivWidth=350&cumulative=false&curInstr=0&heapPrimitives=nevernest&origin=opt-frontend.js&py=3&rawInputLstJSON=%5B%5D&textReferences=false\"> </iframe>"
   ]
  },
  {
   "cell_type": "markdown",
   "metadata": {
    "colab_type": "text",
    "id": "7W8Kt2Bh-6VU"
   },
   "source": [
    "### Trace a program\n",
    "\n",
    "> **Moral**:\n",
    ">\n",
    "> When we read a program, don't read from top to bottom.\n",
    ">\n",
    "> Instead, follow the flow of execution.\n"
   ]
  },
  {
   "cell_type": "markdown",
   "metadata": {
    "colab_type": "text",
    "id": "xrVoJGhq8ErU"
   },
   "source": [
    "## 3.06 Variables and parameters are local"
   ]
  },
  {
   "cell_type": "markdown",
   "metadata": {
    "colab_type": "text",
    "id": "3GZYQK38AA9V"
   },
   "source": [
    "### Variables and parameters are local\n",
    "\n",
    "- When we create a local variable inside a function, it only exists\n",
    "    inside the function, and we cannot use it outside\n",
    "\n",
    "- For example, consider again this function:\n",
    "\n",
    "\n",
    "```\n",
    "  def final_amount(p, r, n, t):\n",
    "      a = p * (1 + r/n) ** (n*t)\n",
    "      return a\n",
    "```\n",
    "\n",
    "- If we try to use `a`, outside the function, we'll get an error\n",
    "\n",
    "- `a` only exists while the function is being executed --- its\n",
    "    **lifetime**\n",
    "\n",
    "- When the execution of the function terminates, the local variables\n",
    "    are destroyed"
   ]
  },
  {
   "cell_type": "code",
   "execution_count": null,
   "metadata": {
    "colab": {},
    "colab_type": "code",
    "id": "TrrIQa1XejSh"
   },
   "outputs": [],
   "source": [
    "def square(x):\n",
    "    y = x * x\n",
    "    return y\n",
    "\n",
    "z = square(10)\n",
    "print(z)        # what do you get here?"
   ]
  },
  {
   "cell_type": "markdown",
   "metadata": {
    "colab_type": "text",
    "id": "ELWEZP-0AlvY"
   },
   "source": [
    "### Variables and parameters are local (2)\n",
    "\n",
    "\n",
    "- Parameters are also local, and act like local variables\n"
   ]
  },
  {
   "cell_type": "code",
   "execution_count": null,
   "metadata": {
    "colab": {},
    "colab_type": "code",
    "id": "qea3lfqefE6C",
    "scrolled": true
   },
   "outputs": [],
   "source": [
    "def square(x):\n",
    "    y = x * x\n",
    "    x = 0       # assign a new value to the parameter x\n",
    "    return y\n",
    "\n",
    "x = 2\n",
    "z = square(x)\n",
    "print(x, z)"
   ]
  },
  {
   "cell_type": "code",
   "execution_count": null,
   "metadata": {},
   "outputs": [],
   "source": [
    "%%html\n",
    "<iframe width=\"800\" height=\"500\" frameborder=\"0\" src=\"http://pythontutor.com/iframe-embed.html#code=def%20square%28x%29%3A%0A%20%20%20%20y%20%3D%20x%20*%20x%0A%20%20%20%20x%20%3D%200%20%20%20%20%20%20%20%23%20assign%20a%20new%20value%20to%20the%20parameter%20x%0A%20%20%20%20return%20y%0A%0Ax%20%3D%202%0Az%20%3D%20square%28x%29%0Aprint%28x,%20z%29&codeDivHeight=400&codeDivWidth=350&cumulative=false&curInstr=0&heapPrimitives=nevernest&origin=opt-frontend.js&py=3&rawInputLstJSON=%5B%5D&textReferences=false\"> </iframe>"
   ]
  },
  {
   "cell_type": "markdown",
   "metadata": {
    "colab_type": "text",
    "id": "ut2WGZ3k8H7-"
   },
   "source": [
    "## 3.07 Turtles Revisited"
   ]
  },
  {
   "cell_type": "markdown",
   "metadata": {
    "colab_type": "text",
    "id": "pUgooidIAEoH"
   },
   "source": [
    "### Turtles Revisited\n",
    "\n",
    "\n",
    "- Now that we have fruitful functions, we can focus our attention on\n",
    "    reorganizing our code so that it fits more nicely into our mental\n",
    "    chunks\n",
    "\n",
    "- This process of rearrangement is called **refactoring** the code\n"
   ]
  },
  {
   "cell_type": "markdown",
   "metadata": {},
   "source": [
    "## 3.08 Program development"
   ]
  },
  {
   "cell_type": "markdown",
   "metadata": {},
   "source": [
    "### Incremental Development\n",
    "\n",
    "- To deal with increasingly complex programs, we are going to suggest\n",
    "    a technique called incremental development\n",
    "\n",
    "- The goal of incremental development is to avoid long debugging\n",
    "    sessions by adding and testing only a small amount of code at a time\n",
    "    \n",
    "    \n",
    "    \n",
    "- Suppose we want to find the *distance between two points*, given by\n",
    "    the coordinates $(x_1,y_1)$ and $(x_2,y_2)$\n",
    "\n",
    "- By the Pythagorean theorem, the distance is:\n",
    "\n",
    "$$distance = \\sqrt[]{{(x_2 - x_1)}^2 + {(y_2 - y_1)}^2}$$"
   ]
  },
  {
   "cell_type": "code",
   "execution_count": null,
   "metadata": {},
   "outputs": [],
   "source": [
    "# step 1\n",
    "def distance(x1, y1, x2, y2):\n",
    "    return 0.0\n",
    "\n",
    "print(distance(1, 2, 4, 6))\n",
    "# When testing a function, it is useful to know the right answer."
   ]
  },
  {
   "cell_type": "code",
   "execution_count": null,
   "metadata": {},
   "outputs": [],
   "source": [
    "# step 2\n",
    "def distance(x1, y1, x2, y2):\n",
    "    dx = x2 - x1\n",
    "    print(\"dx =\", dx)\n",
    "    dy = y2 - y1\n",
    "    print(\"dy =\", dy)\n",
    "    return 0.0\n",
    "\n",
    "print(distance(1, 2, 4, 6))"
   ]
  },
  {
   "cell_type": "code",
   "execution_count": null,
   "metadata": {},
   "outputs": [],
   "source": [
    "# step 3\n",
    "def distance(x1, y1, x2, y2):\n",
    "    dx = x2 - x1\n",
    "    dy = y2 - y1\n",
    "    dsquared = dx*dx + dy*dy\n",
    "    print(dsquared)\n",
    "    return 0.0\n",
    "\n",
    "print(distance(1, 2, 4, 6))"
   ]
  },
  {
   "cell_type": "code",
   "execution_count": null,
   "metadata": {},
   "outputs": [],
   "source": [
    "# step 4\n",
    "def distance(x1, y1, x2, y2):\n",
    "    dx = x2 - x1\n",
    "    dy = y2 - y1\n",
    "    dsquared = dx*dx + dy*dy\n",
    "    return dsquared**0.5\n",
    "\n",
    "print(distance(1, 2, 4, 6))"
   ]
  },
  {
   "cell_type": "code",
   "execution_count": null,
   "metadata": {},
   "outputs": [],
   "source": [
    "# another implementation\n",
    "import math\n",
    "\n",
    "def distance(x1, y1, x2, y2):\n",
    "    return math.sqrt( (x2-x1)**2 + (y2-y1)**2 )\n",
    "   \n",
    "\n",
    "print(distance(1, 2, 4, 6))"
   ]
  },
  {
   "cell_type": "markdown",
   "metadata": {},
   "source": [
    "### incremental development (summary)\n",
    "\n",
    "The key aspects of the process are:\n",
    "\n",
    "1. Start with a working skeleton program and make small incremental\n",
    "    changes\n",
    "\n",
    "2. Use temporary variables to refer to intermediate values so that you\n",
    "    can easily inspect and check them\n",
    "\n",
    "3. Once the program is working, relax, sit back, and play around with\n",
    "    your options\n"
   ]
  },
  {
   "cell_type": "markdown",
   "metadata": {},
   "source": [
    "> Goal:\n",
    "> \n",
    "> A good guideline is to aim for making code as easy as possible for\n",
    "others to read"
   ]
  },
  {
   "cell_type": "markdown",
   "metadata": {},
   "source": [
    "## 3.09 Composition"
   ]
  },
  {
   "cell_type": "markdown",
   "metadata": {},
   "source": [
    "### Composition\n",
    "\n",
    "- **Composition** is the ability to call one function from within\n",
    "    another\n",
    "\n",
    "- As an example, we'll write a function that takes two points, the\n",
    "    center of the circle $(xc, yc)$ and a point on the perimeter\n",
    "    $(xp, yp)$, and computes the area of the circle"
   ]
  },
  {
   "cell_type": "code",
   "execution_count": null,
   "metadata": {},
   "outputs": [],
   "source": [
    "def distance(x1, y1, x2, y2):\n",
    "    dx = x2 - x1\n",
    "    dy = y2 - y1\n",
    "    dsquared = dx**2 + dy**2\n",
    "    result = dsquared**0.5\n",
    "    return result"
   ]
  },
  {
   "cell_type": "code",
   "execution_count": null,
   "metadata": {},
   "outputs": [],
   "source": [
    "def area(radius):\n",
    "    b = 3.14159 * radius**2\n",
    "    return b"
   ]
  },
  {
   "cell_type": "code",
   "execution_count": null,
   "metadata": {},
   "outputs": [],
   "source": [
    "def area2(xc, yc, xp, yp):\n",
    "    radius = distance(xc, yc, xp, yp)\n",
    "    result = area(radius)\n",
    "    return result\n",
    "    #return area(distance(xc, yc, xp, yp))"
   ]
  },
  {
   "cell_type": "code",
   "execution_count": null,
   "metadata": {},
   "outputs": [],
   "source": [
    "print(area2(0,0,1,1))"
   ]
  },
  {
   "cell_type": "markdown",
   "metadata": {},
   "source": [
    "## 3.10 Boolean functions"
   ]
  },
  {
   "cell_type": "markdown",
   "metadata": {},
   "source": [
    "### Boolean functions\n",
    "\n",
    "- **Boolean functions** are functions that return Boolean values\n",
    "\n",
    "    - which is often convenient for hiding complicated tests inside\n",
    "        functions\n"
   ]
  },
  {
   "cell_type": "code",
   "execution_count": null,
   "metadata": {},
   "outputs": [],
   "source": [
    "def is_divisible(x, y):\n",
    "    \"\"\" Test if x is exactly divisible by y \"\"\"\n",
    "    if x % y == 0:\n",
    "        return True\n",
    "    else:\n",
    "        return False\n",
    "\n",
    "is_divisible(5, 2)"
   ]
  },
  {
   "cell_type": "markdown",
   "metadata": {
    "colab_type": "text",
    "id": "8z5cONg8rUrX"
   },
   "source": [
    "# 4.00 Strings"
   ]
  },
  {
   "cell_type": "markdown",
   "metadata": {
    "colab_type": "text",
    "id": "MZzE7pYorju5"
   },
   "source": [
    "## Goals\n",
    "\n",
    "By the end of this class, the student should be able to:\n",
    "\n",
    "\n",
    "- Describe how to work with strings as single things\n",
    "\n",
    "- Describe how to work with the parts of a string\n",
    "\n",
    "- Enumerate the main methods available to work with strings\n",
    "\n",
    "- Describe how to format strings\n"
   ]
  },
  {
   "cell_type": "markdown",
   "metadata": {
    "colab_type": "text",
    "id": "sKfnoTuAYVQH"
   },
   "source": [
    "## 4.01 Data Types"
   ]
  },
  {
   "cell_type": "markdown",
   "metadata": {
    "colab_type": "text",
    "id": "2DlnycVZc7a2"
   },
   "source": [
    "### A compound data type\n",
    "\n",
    "- So far we have seen built-in types like `int`, `float`, `bool`,\n",
    "    `str` and we've seen lists and pairs\n",
    "\n",
    "- Strings, lists, and pairs are qualitatively different from the\n",
    "    others because they are made up of smaller pieces\n",
    "\n",
    "- In the case of strings, they're made up of smaller strings each\n",
    "    containing one **character** in a particular order from left to\n",
    "    right\n",
    "\n",
    "- Types that comprise smaller pieces are called **collection or\n",
    "    compound data types**\n",
    "\n",
    "- Depending on what we are doing, we may want to treat a compound data\n",
    "    type as a single thing\n",
    "\n",
    "- A string that contains no characters, often referred to as the **empty string**, is still considered to be a string\n"
   ]
  },
  {
   "cell_type": "markdown",
   "metadata": {
    "colab_type": "text",
    "id": "wTgmwtPbYaW-"
   },
   "source": [
    "## 4.02 Working with strings as single things"
   ]
  },
  {
   "cell_type": "markdown",
   "metadata": {
    "colab_type": "text",
    "id": "LU718rM1esv5"
   },
   "source": [
    "### Working with strings as single things\n",
    "\n",
    "- Just like a turtle, a string is also an object\n",
    "\n",
    "- So each string instance has its own attributes and methods (around\n",
    "    70!)\n",
    "\n",
    "- For example:\n",
    "\n",
    "```\n",
    "  >>> our_string = \"Hello, World!\"\n",
    "  >>> all_caps = our_string.upper()\n",
    "  >>> all_caps\n",
    "  'HELLO, WORLD!'\n",
    "```\n"
   ]
  },
  {
   "cell_type": "markdown",
   "metadata": {
    "colab_type": "text",
    "id": "2AjwpghpclZy"
   },
   "source": [
    "### Built-in Functions\n",
    "\n",
    "- See the Python Standard Library for a list of\n",
    "    built-in functions:\n",
    "    \n",
    "<https://docs.python.org/3.7/library/functions.html>\n"
   ]
  },
  {
   "cell_type": "markdown",
   "metadata": {
    "colab_type": "text",
    "id": "2AjwpghpclZy"
   },
   "source": [
    "### Common string operations\n",
    "\n",
    "- See the Python Standard Library for a comprehensive list of\n",
    "    operations on strings:\n",
    "    \n",
    "<https://docs.python.org/3.7/library/string.html>\n"
   ]
  },
  {
   "cell_type": "code",
   "execution_count": null,
   "metadata": {
    "colab": {},
    "colab_type": "code",
    "id": "1IBOTwtgyOsB"
   },
   "outputs": [],
   "source": [
    "import string\n",
    "print(string.ascii_lowercase)\n",
    "print(string.ascii_uppercase)\n",
    "print(string.digits)\n",
    "print(string.punctuation)"
   ]
  },
  {
   "cell_type": "code",
   "execution_count": null,
   "metadata": {
    "colab": {},
    "colab_type": "code",
    "id": "Q5FuQ6ONgaUU"
   },
   "outputs": [],
   "source": [
    "\n",
    "our_string = \"Hello, World!\"\n",
    "all_caps = our_string.upper()\n",
    "\n",
    "print()\n",
    "print(our_string)\n",
    "print(all_caps)\n",
    "\n",
    "# all_caps.<TAB>\n",
    "\n",
    "## some operations\n",
    "# message = \"Oi!\"\n",
    "# message - 1\n",
    "# type(message)\n",
    "# type(1)\n",
    "# message + \"1\"\n",
    "# message * 3\n",
    "# message + \" \" * 3"
   ]
  },
  {
   "cell_type": "markdown",
   "metadata": {
    "colab_type": "text",
    "id": "Ba0Tp-xXnKQV"
   },
   "source": [
    "### Operations on Strings\n",
    "\n",
    "In general, you cannot perform mathematical operations on strings, even if the strings look like numbers. \n",
    "\n",
    "The following are illegal:"
   ]
  },
  {
   "cell_type": "code",
   "execution_count": null,
   "metadata": {
    "colab": {},
    "colab_type": "code",
    "id": "kK8qu9bjnluq"
   },
   "outputs": [],
   "source": [
    "fruit = \"banana\"\n",
    "fruit - 1\n",
    "fruit * \"Hello\""
   ]
  },
  {
   "cell_type": "markdown",
   "metadata": {
    "colab_type": "text",
    "id": "qSwQyO5pnpVw"
   },
   "source": [
    "Interestingly, the + operator does work with strings, but for strings, the + operator represents **concatenation**, not addition. \n",
    "\n",
    "Concatenation means joining the two operands by linking them end-to-end. \n",
    "\n",
    "For example:"
   ]
  },
  {
   "cell_type": "code",
   "execution_count": null,
   "metadata": {
    "colab": {},
    "colab_type": "code",
    "id": "EPaGgRDAnvUC"
   },
   "outputs": [],
   "source": [
    "fruit = \"banana\"\n",
    "bakedGood = \" nut bread\"\n",
    "print(fruit + bakedGood)"
   ]
  },
  {
   "cell_type": "markdown",
   "metadata": {
    "colab_type": "text",
    "id": "tcHTSHbsYdk4"
   },
   "source": [
    "## 4.03 Working with the parts of a string"
   ]
  },
  {
   "cell_type": "markdown",
   "metadata": {
    "colab_type": "text",
    "id": "npZqA-9vgkuN"
   },
   "source": [
    "### Working with the parts of a string\n",
    "\n",
    "- The **indexing operator** selects a single character substring from\n",
    "    a string:\n",
    "\n",
    "```\n",
    "  >>> fruit = \"banana\"   # a string\n",
    "  >>> letter = fruit[0]  # this is also a string\n",
    "  >>> print(letter)\n",
    "```\n"
   ]
  },
  {
   "cell_type": "code",
   "execution_count": null,
   "metadata": {},
   "outputs": [],
   "source": [
    "fruit = \"banana\"\n",
    "#\n",
    "print()\n",
    "print(fruit)\n",
    "#print(list(enumerate(fruit)))\n",
    "##\n",
    "letter = fruit[0]\n",
    "#\n",
    "#print()\n",
    "print(letter)\n",
    "print(len(fruit))\n",
    "other_letter = fruit[len(fruit)-2]\n",
    "print(other_letter)\n",
    "print()\n",
    "#print(len(fruit))\n",
    "# other_letter = fruit[len(fruit)]\n",
    "#other_letter = fruit[len(fruit)-1]\n",
    "#print(other_letter)\n",
    "other_letter = fruit[-2]\n",
    "print(other_letter)\n",
    "\n",
    "## indexing with lists is the same!\n",
    "#prime_numbers = [2, 3, 5, 7, 11, 13, 17, 19, 23, 29, 31]\n",
    "#\n",
    "#print()\n",
    "#print(prime_numbers)\n",
    "#print(prime_numbers[4])\n",
    "\n",
    "#friends = [\"Joe\", \"Zoe\", \"Brad\", \"Angelina\", \"Zuki\", \"Thandi\", \"Paris\"]\n",
    "#\n",
    "#print()\n",
    "#print(friends)\n",
    "#print(friends[3])"
   ]
  },
  {
   "cell_type": "markdown",
   "metadata": {
    "colab_type": "text",
    "id": "aTA6JoWjoT4P"
   },
   "source": [
    "The characters are accessed by their *position* or *index value* (the expression in brackets). \n",
    "\n",
    "For example, in the string shown below, the 14 characters are indexed left to right from postion 0 to position 13.\n",
    "\n",
    "![string](images/07/s-index.png)"
   ]
  },
  {
   "cell_type": "code",
   "execution_count": null,
   "metadata": {
    "colab": {},
    "colab_type": "code",
    "id": "1zVfL745gpPk"
   },
   "outputs": [],
   "source": [
    "mice = \"Master in Informatics and Computing Engineering\"\n",
    "m = mice[0]\n",
    "print(m)"
   ]
  },
  {
   "cell_type": "code",
   "execution_count": null,
   "metadata": {
    "colab": {},
    "colab_type": "code",
    "id": "J_fdJ-U_pf6B"
   },
   "outputs": [],
   "source": [
    "lastchar = mice[-1]\n",
    "print(lastchar)"
   ]
  },
  {
   "cell_type": "markdown",
   "metadata": {
    "colab_type": "text",
    "id": "y5pimA6qYgir"
   },
   "source": [
    "## 4.04 Length"
   ]
  },
  {
   "cell_type": "markdown",
   "metadata": {
    "colab_type": "text",
    "id": "O_Fa3Pyyg0zj"
   },
   "source": [
    "### Length\n",
    "\n",
    "- The `len` function, when applied to a string, returns the number of\n",
    "    characters in a string:\n",
    "\n",
    "```\n",
    "  size = len(word)\n",
    "  last = word[size-1]\n",
    "```\n",
    "\n",
    "Try it:"
   ]
  },
  {
   "cell_type": "code",
   "execution_count": null,
   "metadata": {
    "colab": {},
    "colab_type": "code",
    "id": "bjZch9lig51J"
   },
   "outputs": [],
   "source": [
    "word = \"Monty\"\n",
    "size = len(word)\n",
    "word[size-1]\n",
    "\n",
    "for i in range(len(word)):\n",
    "    print(word[i])"
   ]
  },
  {
   "cell_type": "code",
   "execution_count": null,
   "metadata": {
    "colab": {},
    "colab_type": "code",
    "id": "pd9J3Sp7q7bl"
   },
   "outputs": [],
   "source": [
    "print(size)\n",
    "print(word[size-1])"
   ]
  },
  {
   "cell_type": "code",
   "execution_count": null,
   "metadata": {
    "colab": {},
    "colab_type": "code",
    "id": "7tnO4OR0rNeb"
   },
   "outputs": [],
   "source": [
    "last = word[size]       # ERROR!"
   ]
  },
  {
   "cell_type": "markdown",
   "metadata": {
    "colab_type": "text",
    "id": "ESCT-_8uYk_Y"
   },
   "source": [
    "## 4.05 Traversal and the `for` loop"
   ]
  },
  {
   "cell_type": "markdown",
   "metadata": {
    "colab_type": "text",
    "id": "dvZ21ss6jWXc"
   },
   "source": [
    "### Traversal and the `for` loop\n",
    "\n",
    "- A lot of computations involve processing a *string one character at\n",
    "    a time*\n",
    "\n",
    "- Often they start at the beginning, select each character in turn, do\n",
    "    something to it, and continue until the end\n",
    "\n",
    "- This pattern of processing is called a **traversal**\n",
    "\n",
    "```\n",
    "  word = \"Banana\"\n",
    "  for letter in word:\n",
    "      print(letter)\n",
    "```\n"
   ]
  },
  {
   "cell_type": "markdown",
   "metadata": {
    "colab_type": "text",
    "id": "uhsi-7XqtWxa"
   },
   "source": [
    "Since a string is simply a sequence of characters, the for loop iterates over each character automatically."
   ]
  },
  {
   "cell_type": "code",
   "execution_count": null,
   "metadata": {
    "colab": {},
    "colab_type": "code",
    "id": "8yZzvRjEjc28"
   },
   "outputs": [],
   "source": [
    "words = \"Monty Python\"\n",
    "for l in words:\n",
    "    print(l)"
   ]
  },
  {
   "cell_type": "markdown",
   "metadata": {
    "colab_type": "text",
    "id": "1l32ckj4tcRf"
   },
   "source": [
    "Recall that the loop variable takes on each value in the sequence of names. The body is performed once for each name."
   ]
  },
  {
   "cell_type": "code",
   "execution_count": null,
   "metadata": {
    "colab": {},
    "colab_type": "code",
    "id": "u6uh0NxitFvH"
   },
   "outputs": [],
   "source": [
    "for aname in [\"Eric\", \"Graham\", \"John\", \"Michael\", \"Terry\"]:\n",
    "    invitation = \"Hi \" + aname + \".  Please come to my party on Saturday!\"\n",
    "    print(invitation)"
   ]
  },
  {
   "cell_type": "markdown",
   "metadata": {
    "colab_type": "text",
    "id": "6rgCgl8btufD"
   },
   "source": [
    "### Traversal and looping: By Index\n",
    "\n",
    "- It is also possible to use the range function to systematically generate the indices of the characters. \n",
    "\n",
    "- The for loop can then be used to iterate over these positions. \n",
    "\n",
    "- These positions can be used together with the indexing operator to access the individual characters in the string.\n"
   ]
  },
  {
   "cell_type": "code",
   "execution_count": null,
   "metadata": {
    "colab": {},
    "colab_type": "code",
    "id": "l2gCoHdst8RT"
   },
   "outputs": [],
   "source": [
    "fruit = \"apple\"\n",
    "for idx in range(5):\n",
    "    currentChar = fruit[idx]\n",
    "    print(currentChar)"
   ]
  },
  {
   "cell_type": "markdown",
   "metadata": {
    "colab_type": "text",
    "id": "p5qkIQRzupZp"
   },
   "source": [
    "Likewise:\n"
   ]
  },
  {
   "cell_type": "code",
   "execution_count": null,
   "metadata": {
    "colab": {},
    "colab_type": "code",
    "id": "JM2w2I5Huu5d"
   },
   "outputs": [],
   "source": [
    "fruit = \"apple\"\n",
    "\n",
    "position = 0\n",
    "while position < len(fruit):\n",
    "    print(fruit[position])\n",
    "    position = position + 1"
   ]
  },
  {
   "cell_type": "code",
   "execution_count": null,
   "metadata": {},
   "outputs": [],
   "source": [
    "fruit = \"apple\"\n",
    "\n",
    "for letter in fruit:\n",
    "    print(letter)"
   ]
  },
  {
   "cell_type": "markdown",
   "metadata": {
    "colab_type": "text",
    "id": "_MjtH8NJYo64"
   },
   "source": [
    "## 4.06 Slices"
   ]
  },
  {
   "cell_type": "markdown",
   "metadata": {
    "colab_type": "text",
    "id": "XDtNZt7Djpc8"
   },
   "source": [
    "### Slices\n",
    "\n",
    "- A substring of a string is obtained by taking *a slice*\n",
    "\n",
    "- Similarly, we can slice a list to refer to some sublist of the items\n",
    "    in the list\n"
   ]
  },
  {
   "cell_type": "code",
   "execution_count": null,
   "metadata": {
    "colab": {},
    "colab_type": "code",
    "id": "K8-BAwRGrrtm"
   },
   "outputs": [],
   "source": [
    "singers = \"Eric, Graham, John, Michael, Terry\"\n",
    "print(singers[0:4])\n",
    "print(singers[14:18])\n",
    "print(singers[:-22])\n",
    "print()\n",
    "print(singers[:])\n",
    "print(singers[4:])\n",
    "print(singers[-5:-3])"
   ]
  },
  {
   "cell_type": "markdown",
   "metadata": {
    "colab_type": "text",
    "id": "hYDACUMlYr0N"
   },
   "source": [
    "## 4.07 String comparison"
   ]
  },
  {
   "cell_type": "markdown",
   "metadata": {
    "colab_type": "text",
    "id": "nztU9CyxjyIx"
   },
   "source": [
    "### String comparison\n",
    "\n",
    "- The comparison operators work on strings\n",
    "\n",
    "- To see if two strings are equal:\n",
    "\n",
    "```\n",
    "  if word == \"banana\":\n",
    "      print(\"Yes, we have bananas!\")\n",
    "```\n"
   ]
  },
  {
   "cell_type": "code",
   "execution_count": null,
   "metadata": {
    "colab": {},
    "colab_type": "code",
    "id": "w2eePpH0s2fp"
   },
   "outputs": [],
   "source": [
    "word = \"banAna\"\n",
    "\n",
    "if word < \"banana\":\n",
    "    print(\"Your word, \" + word + \", comes before banana.\")\n",
    "elif word > \"banana\":\n",
    "    print(\"Your word, \" + word + \", comes after banana.\")\n",
    "else:\n",
    "    print(\"Yes, we have no bananas!\")"
   ]
  },
  {
   "cell_type": "markdown",
   "metadata": {
    "colab_type": "text",
    "id": "xIxSSLala4VJ"
   },
   "source": [
    "Strings are compared lexicographically by comparing corresponding elements. Lexicographical order is similar to alphabetical order, so A comes before B comes before C.\n",
    "\n",
    "There are sometimes unexpected results, for example case-sensitive ordering where \"B\" comes before \"a\" because the capital letters are ordered before lowercase ones."
   ]
  },
  {
   "cell_type": "code",
   "execution_count": null,
   "metadata": {
    "colab": {},
    "colab_type": "code",
    "id": "jQECISTvZ7Sj"
   },
   "outputs": [],
   "source": [
    "print(\"zebra\" < \"banana\")"
   ]
  },
  {
   "cell_type": "code",
   "execution_count": null,
   "metadata": {
    "colab": {},
    "colab_type": "code",
    "id": "1xq6cyc3ac2k"
   },
   "outputs": [],
   "source": [
    "print(\"Zebra\" < \"banana\")"
   ]
  },
  {
   "cell_type": "code",
   "execution_count": null,
   "metadata": {
    "colab": {},
    "colab_type": "code",
    "id": "Jpkhcy9FaPyW"
   },
   "outputs": [],
   "source": [
    "print(\"zebra\" < \"Banana\")"
   ]
  },
  {
   "cell_type": "markdown",
   "metadata": {
    "colab_type": "text",
    "id": "mRl4pGXaYvbx"
   },
   "source": [
    "## 4.08 Strings are immutable"
   ]
  },
  {
   "cell_type": "markdown",
   "metadata": {
    "colab_type": "text",
    "id": "4U1ehZAFj8Kn"
   },
   "source": [
    "\n",
    "- Strings are **immutable**, which means you can't change an existing\n",
    "    string\n",
    "\n",
    "- The best you can do is create a new string that is a variation on\n",
    "    the original\n",
    "\n",
    "```\n",
    "  greeting = \"Hello, world!\"\n",
    "  greeting[0] = 'h'            # ERROR!\n",
    "\n",
    "  greeting = \"h\" + greeting[1:]\n",
    "  print(greeting)\n",
    "```"
   ]
  },
  {
   "cell_type": "code",
   "execution_count": null,
   "metadata": {
    "colab": {},
    "colab_type": "code",
    "id": "9b1dimY3kCXH"
   },
   "outputs": [],
   "source": [
    "greeting = \"Hello, world!\"\n",
    "greeting[0] = 'h'"
   ]
  },
  {
   "cell_type": "code",
   "execution_count": null,
   "metadata": {
    "colab": {},
    "colab_type": "code",
    "id": "M0trLy9LkNxG"
   },
   "outputs": [],
   "source": [
    "greeting = \"Hello, world!\"\n",
    "last = greeting[1:]\n",
    "greeting = \"h\" + last.upper()\n",
    "print(greeting)\n",
    "greetUpp = greeting.upper()\n",
    "print(greetUpp)\n",
    "print(greeting)\n",
    "greeting = 'h' + last\n",
    "print(greeting)"
   ]
  },
  {
   "cell_type": "markdown",
   "metadata": {
    "colab_type": "text",
    "id": "RkdCteHjYyK8"
   },
   "source": [
    "## 4.09 The `in` and `not in` operators"
   ]
  },
  {
   "cell_type": "markdown",
   "metadata": {
    "colab_type": "text",
    "id": "8OhBxuARkWXK"
   },
   "source": [
    "### The `in` and `not in` operators\n",
    "\n",
    "- The `in` operator tests for membership\n",
    "\n",
    "- The `not in` operator returns the logical opposite results of `in`\n",
    "\n",
    "```\n",
    "  >>> \"p\" in \"apple\"\n",
    "  True\n",
    "  >>> \"i\" in \"apple\"\n",
    "  False\n",
    "  >>> \"apple\" in \"apple\"\n",
    "  True\n",
    "  >>> \"\" in \"a\"\n",
    "  True\n",
    "  >>> \"x\" not in \"apple\"\n",
    "  True\n",
    "```\n",
    "\n"
   ]
  },
  {
   "cell_type": "code",
   "execution_count": null,
   "metadata": {
    "colab": {},
    "colab_type": "code",
    "id": "hJqc0h1Zu65E"
   },
   "outputs": [],
   "source": [
    "print('p' in 'apple')\n",
    "print('i' in 'apple')\n",
    "print('ap' in 'apple')\n",
    "print('pa' in 'apple')\n",
    "print('apple' in 'apple')  # a string is a substring of itself"
   ]
  },
  {
   "cell_type": "code",
   "execution_count": null,
   "metadata": {},
   "outputs": [],
   "source": [
    "def remove_vowels(phrase):\n",
    "    vowels = \"aeiou\"\n",
    "    string_sans_vowels = \"\"\n",
    "    for letter in phrase:\n",
    "        if letter.lower() not in vowels:\n",
    "            string_sans_vowels += letter\n",
    "    return string_sans_vowels\n",
    "\n",
    "\n",
    "phrase = \"A Programming\"\n",
    "print()\n",
    "print(phrase)\n",
    "print(remove_vowels(phrase))"
   ]
  },
  {
   "cell_type": "markdown",
   "metadata": {
    "colab_type": "text",
    "id": "hphoRBqMY1lg"
   },
   "source": [
    "## 4.10 A `find` function"
   ]
  },
  {
   "cell_type": "markdown",
   "metadata": {
    "colab_type": "text",
    "id": "Z8vSHA8WwGp4"
   },
   "source": [
    "### `enumerate` function\n",
    "\n",
    "- Enumerate is a built-in function of Python\n",
    "\n",
    "\n",
    "```\n",
    " enumerate(iterable, start=0)\n",
    "```\n",
    "\n",
    "- Return an enumerate object\n",
    "\n",
    "- iterable must be a sequence, an iterator, or some other object which supports iteration\n",
    "\n"
   ]
  },
  {
   "cell_type": "markdown",
   "metadata": {
    "colab": {},
    "colab_type": "code",
    "id": "qMUKcSQXwMJv"
   },
   "source": [
    "for counter, value in enumerate(some_list):\n",
    "    print(counter, value)"
   ]
  },
  {
   "cell_type": "code",
   "execution_count": null,
   "metadata": {
    "colab": {},
    "colab_type": "code",
    "id": "lbWerFEPw3Qi"
   },
   "outputs": [],
   "source": [
    "my_list = ['apple', 'banana', 'grapes', 'pear']\n",
    "for c, item in enumerate(my_list, 1):\n",
    "    print(c, item)"
   ]
  },
  {
   "cell_type": "code",
   "execution_count": null,
   "metadata": {},
   "outputs": [],
   "source": [
    "words = \"Eric Idle, Michael Palin\"\n",
    "for ch in words:\n",
    "    print(ch)"
   ]
  },
  {
   "cell_type": "code",
   "execution_count": null,
   "metadata": {
    "colab": {},
    "colab_type": "code",
    "id": "OntfCWoueWF9"
   },
   "outputs": [],
   "source": [
    "words = \"Eric Idle, Michael Palin\"\n",
    "for ch in enumerate(words):\n",
    "    print( ch)"
   ]
  },
  {
   "cell_type": "markdown",
   "metadata": {
    "colab_type": "text",
    "id": "VwGXgCjJkbtc"
   },
   "source": [
    "### A `find` function\n",
    "\n",
    "- In a sense, find is the opposite of the indexing operator\n",
    "\n",
    "- What does the following function do?\n",
    "\n",
    "```\n",
    "  def my_find(haystack, needle):\n",
    "  \"\"\"\n",
    "  No clues here!\n",
    "  \"\"\"\n",
    "  for index, letter in enumerate(haystack):\n",
    "      if letter == needle:\n",
    "          return index\n",
    "  return -1\n",
    "```\n"
   ]
  },
  {
   "cell_type": "code",
   "execution_count": null,
   "metadata": {},
   "outputs": [],
   "source": [
    "def my_find(haystack, needle):\n",
    "    \"\"\"\n",
    "    Find and return the index of needle in haystack.\n",
    "    Return -1 if needle does not occur in haystack.\n",
    "    \"\"\"\n",
    "    for index, letter in enumerate(haystack):\n",
    "        if letter == needle:\n",
    "            return index          # short-circuit evaluation\n",
    "    return -1\n",
    "\n",
    "\n",
    "haystack = \"Bananarama!\"\n",
    "#\n",
    "print()\n",
    "print(my_find(haystack,'r'))\n",
    "#\n",
    "## the standard find method\n",
    "#print(haystack.find('a'))"
   ]
  },
  {
   "cell_type": "markdown",
   "metadata": {
    "colab_type": "text",
    "id": "z1W-qDQgY4nL"
   },
   "source": [
    "## 4.11 Looping and counting"
   ]
  },
  {
   "cell_type": "markdown",
   "metadata": {
    "colab_type": "text",
    "id": "KMpIprackjc5"
   },
   "source": [
    "### Looping and counting\n",
    "\n",
    "- another example of the **counter** pattern (introduced in *Counting\n",
    "    digits*)\n",
    "\n",
    "```\n",
    "  def count_a(text):\n",
    "      count = 0\n",
    "      for letter in text:\n",
    "          if letter == \"a\":\n",
    "              count += 1\n",
    "      return count\n",
    "  \n",
    "  print(count_a(\"banana\") == 3)\n",
    "```\n",
    "\n"
   ]
  },
  {
   "cell_type": "markdown",
   "metadata": {
    "colab_type": "text",
    "id": "Kr3beiNbvfvL"
   },
   "source": [
    "Try this one:"
   ]
  },
  {
   "cell_type": "code",
   "execution_count": null,
   "metadata": {
    "colab": {},
    "colab_type": "code",
    "id": "nN-s17XvkwqR"
   },
   "outputs": [],
   "source": [
    "def count(text, aChar):\n",
    "    lettercount = 0\n",
    "    for c in text:\n",
    "        if c == aChar:\n",
    "            lettercount = lettercount + 1\n",
    "    return lettercount\n",
    "\n",
    "print(count(\"banana\",\"a\"))"
   ]
  },
  {
   "cell_type": "markdown",
   "metadata": {
    "colab_type": "text",
    "id": "mBk6lgIdY7b7"
   },
   "source": [
    "## 4.12 Optional parameters"
   ]
  },
  {
   "cell_type": "markdown",
   "metadata": {
    "colab_type": "text",
    "id": "xUW-BpY_k-Bp"
   },
   "source": [
    "### Optional parameters\n",
    "\n",
    "- To find the locations of the second or third occurrence of a\n",
    "    character in a string\n",
    "\n",
    "- we can modify the `find` function, adding a third parameter for the\n",
    "    starting position in the search string\n",
    "\n",
    "- Better still, we can combine find and find2 using an **optional\n",
    "    parameter**:\n",
    "\n",
    "```\n",
    "  def find(haystack, needle, start=0):\n",
    "      for index,letter in enumerate(haystack[start:]):\n",
    "          if letter == needle:\n",
    "              return index + start\n",
    "      return -1\n",
    "```\n"
   ]
  },
  {
   "cell_type": "code",
   "execution_count": null,
   "metadata": {
    "colab": {},
    "colab_type": "code",
    "id": "PJz4G_swxxTt"
   },
   "outputs": [],
   "source": [
    "def find(astring, achar, start=0):\n",
    "    \"\"\"\n",
    "    Find and return the index of achar in astring.\n",
    "    Return -1 if achar does not occur in astring.\n",
    "    \"\"\"\n",
    "    ix = start\n",
    "    foundStr = \"\"\n",
    "    for ix, ch  in enumerate(astring):\n",
    "        if ch == achar:\n",
    "            \n",
    "            foundStr = foundStr + str(ix) + \", \"\n",
    "            \n",
    "    return foundStr\n",
    "\n",
    "print(find('banana', 'a', 0))\n",
    "print()\n",
    "'banana'.find('a', 2)"
   ]
  },
  {
   "cell_type": "markdown",
   "metadata": {
    "colab_type": "text",
    "id": "Q80oH34xY_RE"
   },
   "source": [
    "## 4.13 The built-in `find` method"
   ]
  },
  {
   "cell_type": "markdown",
   "metadata": {
    "colab_type": "text",
    "id": "VnVYV_kGlI_X"
   },
   "source": [
    "### The built-in `find` method\n",
    "\n",
    "- The built-in `find` method is more general\n",
    "\n",
    "- It can find substrings, not just single characters:\n",
    "\n",
    "```\n",
    "  >>> \"banana\".find(\"nan\")\n",
    "  2\n",
    "  >>> \"banana\".find(\"na\", 3)\n",
    "  4\n",
    "```"
   ]
  },
  {
   "cell_type": "markdown",
   "metadata": {
    "colab_type": "text",
    "id": "lodIOxlWZDxe"
   },
   "source": [
    "## 4.14 The `split` method"
   ]
  },
  {
   "cell_type": "markdown",
   "metadata": {
    "colab_type": "text",
    "id": "UnuMxMgflOYZ"
   },
   "source": [
    "### The `split` method\n",
    "\n",
    "- One of the most useful methods on strings is the split method\n",
    "\n",
    "- it splits a single multi-word string into a list of individual\n",
    "    words, removing all the whitespace between them<sup>1</sup>\n",
    "\n",
    "```\n",
    "  >>> phrase = \"Oh, that's jolly good. Well, off you go then\"\n",
    "  >>> words = phrase.split()\n",
    "  >>> words\n",
    "  ['Oh,', \"that's\", 'jolly', 'good.', 'Well,', 'off', 'you', 'go', 'then']\n",
    "```\n",
    "\n",
    "<sup>1</sup> Whitespace means any tabs, newlines, or spaces."
   ]
  },
  {
   "cell_type": "code",
   "execution_count": null,
   "metadata": {
    "colab": {},
    "colab_type": "code",
    "id": "6qEgOJ3tyhm7"
   },
   "outputs": [],
   "source": [
    "phrase = \"Oh, that's jolly good. Well, off you go then\"\n",
    "print(phrase.split())"
   ]
  },
  {
   "cell_type": "markdown",
   "metadata": {
    "colab_type": "text",
    "id": "CJEGJtWgZHn9"
   },
   "source": [
    "## 4.15 Cleaning up your strings"
   ]
  },
  {
   "cell_type": "markdown",
   "metadata": {
    "colab_type": "text",
    "id": "GroRZT7olVz4"
   },
   "source": [
    "### Cleaning up your strings\n",
    "\n",
    "- We'll often work with strings that contain punctuation, or tab and\n",
    "    newline characters\n",
    "\n",
    "- But if we're writing a program, say, to count word frequency, we'd\n",
    "    prefer to strip off these unwanted characters.\n",
    "\n",
    "- We'll show just one example of how to strip punctuation from a\n",
    "    string\n",
    "\n",
    "    - we need to traverse the original string and create a new string,\n",
    "        omitting any punctuation\n"
   ]
  },
  {
   "cell_type": "code",
   "execution_count": null,
   "metadata": {
    "colab": {},
    "colab_type": "code",
    "id": "c6Hl6S2ZboKR"
   },
   "outputs": [],
   "source": [
    "s = \"  I'm not        clean.  \"\n",
    "print(s)\n",
    "print(s.strip())\n",
    "d = s.split()\n",
    "print(d)\n",
    "sep = \" \"\n",
    "print(sep.join(d))"
   ]
  },
  {
   "cell_type": "code",
   "execution_count": null,
   "metadata": {},
   "outputs": [],
   "source": [
    "# .join() with lists\n",
    "numList = ['1', '2', '3', '4']\n",
    "separator = ', '\n",
    "y = separator.join(numList)\n",
    "print(y)\n",
    "print(separator.join(numList))\n",
    "\n",
    "# .join() with tuples\n",
    "numTuple = ('1', '2', '3', '4')\n",
    "print(separator.join(numTuple))\n",
    "\n",
    "s1 = 'abc'\n",
    "s2 = '123'\n",
    "\n",
    "# each element of s2 is separated by s1\n",
    "# '1'+ 'abc'+ '2'+ 'abc'+ '3'\n",
    "print('s1.join(s2):', s1.join(s2))\n",
    "\n",
    "# each element of s1 is separated by s2\n",
    "# 'a'+ '123'+ 'b'+ '123'+ 'b'\n",
    "print('s2.join(s1):', s2.join(s1))"
   ]
  },
  {
   "cell_type": "markdown",
   "metadata": {
    "colab_type": "text",
    "id": "PJFQhV2TZKQM"
   },
   "source": [
    "## 4.16 The string `format` method"
   ]
  },
  {
   "cell_type": "markdown",
   "metadata": {
    "colab_type": "text",
    "id": "7QkhAR6alciD"
   },
   "source": [
    "### The string `format` method\n",
    "\n",
    "- The easiest and most powerful way to format a string in Python3 is\n",
    "    to use the `format` method\n",
    "\n",
    "- The template string contains place holders, ... `{0}` ...`{1}`\n",
    "    ...`{2}` ...etc\n",
    "\n",
    "- The format method substitutes its arguments into the place holders\n",
    "\n",
    "- To see how this works, let's start with a few examples:\n",
    "\n",
    "```\n",
    "  phrase = \"His name is {0}!\".format(\"Arthur\")\n",
    "  print(phrase)\n",
    "\n",
    "```\n",
    "\n",
    "\n"
   ]
  },
  {
   "cell_type": "code",
   "execution_count": null,
   "metadata": {
    "colab": {},
    "colab_type": "code",
    "id": "TW1sKduJyZVJ"
   },
   "outputs": [],
   "source": [
    "name = \"Alice\"\n",
    "age = 10\n",
    "test = \"gold\"\n",
    "phrase = \"I am {0} and I am {1} years old and {2}.\".format(name , age, test)\n",
    "print(phrase)"
   ]
  },
  {
   "cell_type": "markdown",
   "metadata": {
    "colab_type": "text",
    "id": "gyVioFYFlf0x"
   },
   "source": [
    "### Format specification\n",
    "\n",
    "- Each of the replacement fields can also contain a **format\n",
    "    specification**\n",
    "\n",
    "- This modifies how the substitutions are made into the template, and\n",
    "    can control things like:\n",
    "\n",
    "    - whether the field is aligned to the left **`<`**, center\n",
    "        **`^`**, or right **`>`**\n",
    "\n",
    "    - the width allocated to the field within the result string (a\n",
    "        number like 10)\n",
    "\n",
    "    - the type of conversion: we'll initially only force conversion to\n",
    "        float, **`f`** or perhaps we'll ask integer numbers to be\n",
    "        converted to hexadecimal using **`x`**)\n",
    "\n",
    "    - if the type conversion is a float, you can also specify how many\n",
    "        decimal places are wanted: typically, **`.2f`** is useful for\n",
    "        working with currencies to two decimal places\n",
    "\n"
   ]
  },
  {
   "cell_type": "markdown",
   "metadata": {
    "colab_type": "text",
    "id": "8z5cONg8rUrX"
   },
   "source": [
    "# 5.00 Lists"
   ]
  },
  {
   "cell_type": "markdown",
   "metadata": {
    "colab_type": "text",
    "id": "MZzE7pYorju5"
   },
   "source": [
    "## Goals\n",
    "\n",
    "By the end of this class, the student should be able to:\n",
    "\n",
    "- Describe the use of listas, which are sequences of elements of\n",
    "    different types\n",
    "\n",
    "- Enumerate the main methods available to work with lists"
   ]
  },
  {
   "cell_type": "markdown",
   "metadata": {
    "colab_type": "text",
    "id": "f8Wk_NqPR0nW"
   },
   "source": [
    "## 5.01 List values"
   ]
  },
  {
   "cell_type": "markdown",
   "metadata": {
    "colab_type": "text",
    "id": "4RMWAXZYStBQ"
   },
   "source": [
    "### Lists\n",
    "\n",
    "- A **list** is an ordered collection of values\n",
    "\n",
    "- Lists are compound data types\n",
    "\n",
    "- The values that make up a list are called its **elements**, or its\n",
    "    **items**\n",
    "\n",
    "- Lists are similar to strings (which are ordered collections of characters) except that the elements of a list can have any type and for any one list, the items can be of **different types**.\n",
    "\n",
    "- Lists and strings --- and other collections that maintain the order\n",
    "    of their items --- are called **sequences**"
   ]
  },
  {
   "cell_type": "markdown",
   "metadata": {
    "colab_type": "text",
    "id": "l_O2Pi9gSxNe"
   },
   "source": [
    "### List values\n",
    "\n",
    "- There are several ways to create a new list\n",
    "\n",
    "```\n",
    "  numbers = [10, 20, 30, 40]\n",
    "\n",
    "  words = [\"spam\", \"bungee\", \"swallow\"]\n",
    "\n",
    "  stuffs = [\"hello\", 2.0, 5, [10, 20]]\n",
    "```\n",
    "\n",
    "- A list within another list is said to be **nested**\n",
    "\n",
    "- A list with no elements is called an **empty list**, and is denoted\n",
    "    `[]`"
   ]
  },
  {
   "cell_type": "code",
   "execution_count": null,
   "metadata": {
    "colab": {},
    "colab_type": "code",
    "id": "5zKCHQcp-tAS"
   },
   "outputs": [],
   "source": [
    "  stuffs = [\"hello\", 2.0, 5, [10, 20]]\n",
    "  print(stuffs)\n",
    "  type(stuffs)"
   ]
  },
  {
   "cell_type": "code",
   "execution_count": null,
   "metadata": {
    "colab": {},
    "colab_type": "code",
    "id": "KCh9yTzy-8G7"
   },
   "outputs": [],
   "source": [
    "vocabulary = [\"iteration\", \"selection\", \"control\"]\n",
    "numbers = [17, 123]\n",
    "empty = []\n",
    "mixed_list = [\"hello\", 2.0, 5*2, [10, 20]]\n",
    "\n",
    "print(numbers)\n",
    "print(mixed_list)\n",
    "newlist = [ numbers, vocabulary ]\n",
    "print(newlist)"
   ]
  },
  {
   "cell_type": "markdown",
   "metadata": {
    "colab_type": "text",
    "id": "5QMxKSY0R3hS"
   },
   "source": [
    "## 5.02 Accessing elements"
   ]
  },
  {
   "cell_type": "markdown",
   "metadata": {
    "colab_type": "text",
    "id": "arv8GzZoS5BX"
   },
   "source": [
    "### Accessing elements\n",
    "\n",
    "- The syntax for accessing the elements of a list is the index\n",
    "    operator: `[]`\n",
    "\n",
    "    - the syntax is the same as the syntax for accessing the\n",
    "        characters of a string\n",
    "\n",
    "- The expression inside the brackets specifies the index\n",
    "\n",
    "- Remember that the indices start at 0\n",
    "\n",
    "- Negative numbers represent reverse indexing\n",
    "\n",
    "```\n",
    "  >>> numbers = [10, 20, 30, 40]\n",
    "    \n",
    "  >>> numbers[1]\n",
    "  >>> numbers[-3]\n",
    "```"
   ]
  },
  {
   "cell_type": "code",
   "execution_count": null,
   "metadata": {
    "colab": {},
    "colab_type": "code",
    "id": "h5RlS9e1EfQS"
   },
   "outputs": [],
   "source": [
    "numbers = [17, 123, 87, 34, 66, 8398, 44]\n",
    "print(numbers[2])\n",
    "print(numbers[9 - 8])\n",
    "print(numbers[-2])"
   ]
  },
  {
   "cell_type": "markdown",
   "metadata": {
    "colab_type": "text",
    "id": "M9s2nWLM_Nxa"
   },
   "source": [
    "### List traversal\n",
    "\n",
    "It is common to use a loop variable as a list index\n"
   ]
  },
  {
   "cell_type": "code",
   "execution_count": null,
   "metadata": {
    "colab": {},
    "colab_type": "code",
    "id": "q_znilvP_Ue7"
   },
   "outputs": [],
   "source": [
    "horsemen = [\"war\", \"famine\", \"pestilence\", \"death\"]\n",
    "for i in [0, 1, 2, 3]:\n",
    "  print(horsemen[i])"
   ]
  },
  {
   "cell_type": "code",
   "execution_count": null,
   "metadata": {
    "colab": {},
    "colab_type": "code",
    "id": "OJ03Mz3Q_jXC"
   },
   "outputs": [],
   "source": [
    "horsemen = [\"war\", \"famine\", \"pestilence\", \"death\"]\n",
    "\n",
    "for h in horsemen:\n",
    "  print(h)"
   ]
  },
  {
   "cell_type": "markdown",
   "metadata": {
    "colab_type": "text",
    "id": "-bVhAmiRR6Wg"
   },
   "source": [
    "## 5.03 List length"
   ]
  },
  {
   "cell_type": "markdown",
   "metadata": {
    "colab_type": "text",
    "id": "fMCaltwJS_UV"
   },
   "source": [
    "### List length\n",
    "\n",
    "- The function `len` returns the length of a list, which is equal to\n",
    "    the number of its elements\n",
    "\n",
    "- It is a good idea to use this value as the upper bound of a loop, as\n",
    "    it accommodates changes in the list\n",
    "\n",
    "```\n",
    "   horsemen = [\"war\", \"famine\", \"pestilence\", \"death\"]\n",
    "\n",
    "   for i in range(len(horsemen)):\n",
    "       print(horsemen[i])\n",
    "\n",
    "   len([\"car makers\", 1, [\"Ford\", \"Toyota\", \"BMW\"], [1, 2, 3]])\n",
    "```"
   ]
  },
  {
   "cell_type": "code",
   "execution_count": null,
   "metadata": {
    "colab": {},
    "colab_type": "code",
    "id": "kDmbSaLP_s8G"
   },
   "outputs": [],
   "source": [
    "horsemen = [\"war\", \"famine\", \"pestilence\", \"death\"]\n",
    "\n",
    "for i in range(len(horsemen)):\n",
    "  print(horsemen[i])"
   ]
  },
  {
   "cell_type": "markdown",
   "metadata": {
    "colab_type": "text",
    "id": "q-KJEYHt_2Zw"
   },
   "source": [
    "See the result of:"
   ]
  },
  {
   "cell_type": "code",
   "execution_count": null,
   "metadata": {
    "colab": {},
    "colab_type": "code",
    "id": "VR5Msk0p_xE5"
   },
   "outputs": [],
   "source": [
    "len([\"car makers\", 1, [\"Ford\", \"Toyota\", \"BMW\"], [1, 2, 3]])\n",
    "a = [\"car makers\", \"1\", [\"Ford\", \"Toyota\", \"BMW\"], [1, 2, 3]]\n",
    "for item in a:\n",
    "    print(len(item))"
   ]
  },
  {
   "cell_type": "code",
   "execution_count": null,
   "metadata": {
    "colab": {},
    "colab_type": "code",
    "id": "m0B9nY_CEOw2"
   },
   "outputs": [],
   "source": [
    "a_list =  [\"hello\", 2.0, 5, [10, 20]]\n",
    "print(len(a_list))\n",
    "print(len(['spam!', 1, ['Brie', 'Roquefort', 'Pol le Veq'], [1, 2, 3]]))"
   ]
  },
  {
   "cell_type": "markdown",
   "metadata": {
    "colab_type": "text",
    "id": "3CYKzxKVR_LB"
   },
   "source": [
    "## 5.04 List membership"
   ]
  },
  {
   "cell_type": "markdown",
   "metadata": {
    "colab_type": "text",
    "id": "ermJ2531TDb3"
   },
   "source": [
    "### List membership\n",
    "\n",
    "- `in` and `not in` are Boolean operators that test membership in a\n",
    "    sequence\n",
    "\n",
    "```\n",
    "  >>> horsemen = [\"war\", \"famine\", \"pestilence\", \"death\"]\n",
    "  >>> \"pestilence\" in horsemen\n",
    "  True\n",
    "  >>> \"debauchery\" in horsemen\n",
    "  False\n",
    "  >>> \"debauchery\" not in horsemen\n",
    "  True\n",
    "```"
   ]
  },
  {
   "cell_type": "code",
   "execution_count": null,
   "metadata": {
    "colab": {},
    "colab_type": "code",
    "id": "YXsTW9jBEscR"
   },
   "outputs": [],
   "source": [
    "a_list = [3, 67, \"cat\", [56, 57, \"dog\"], [ ], 3.14, False]\n",
    "print(3.14 in a_list)\n",
    "print(\"dog\" in a_list)"
   ]
  },
  {
   "cell_type": "markdown",
   "metadata": {
    "colab_type": "text",
    "id": "AOxgzxP-AnYB"
   },
   "source": [
    "### Nested loop revisited"
   ]
  },
  {
   "cell_type": "markdown",
   "metadata": {
    "colab_type": "text",
    "id": "u09W84uVATr_"
   },
   "source": [
    "Count how many students are taking \"CompSci\""
   ]
  },
  {
   "cell_type": "code",
   "execution_count": null,
   "metadata": {
    "colab": {},
    "colab_type": "code",
    "id": "bFKD12tvALyw"
   },
   "outputs": [],
   "source": [
    "students = [\n",
    "    (\"John\", [\"CompSci\", \"Physics\"]),\n",
    "    (\"Vusi\", [\"Maths\", \"CompSci\", \"Stats\"]),\n",
    "    (\"Jess\", [\"CompSci\", \"Accounting\", \"Economics\", \"Management\"]),\n",
    "    (\"Sarah\", [\"InfSys\", \"Accounting\", \"Economics\", \"CommLaw\"]),\n",
    "    (\"Zuki\", [\"Sociology\", \"Economics\", \"Law\", \"Stats\", \"Music\"])]\n",
    "\n",
    "counter = 0\n",
    "for name, subjects in students:\n",
    "    if \"CompSci\" in subjects:\n",
    "        counter += 1\n",
    "\n",
    "print(\"The number of students taking CompSci is\", counter)"
   ]
  },
  {
   "cell_type": "markdown",
   "metadata": {
    "colab_type": "text",
    "id": "hK6VXsuLSCnL"
   },
   "source": [
    "## 5.05 List operations"
   ]
  },
  {
   "cell_type": "markdown",
   "metadata": {
    "colab_type": "text",
    "id": "qM1SumtITJ8K"
   },
   "source": [
    "### List operations\n",
    "\n",
    "- The `+` operator concatenates lists:\n",
    "\n",
    "```\n",
    "   >>> a = [1, 2, 3]\n",
    "   >>> b = [4, 5, 6]\n",
    "   >>> c = a + b\n",
    "   >>> c\n",
    "   [1, 2, 3, 4, 5, 6\n",
    "```"
   ]
  },
  {
   "cell_type": "code",
   "execution_count": null,
   "metadata": {
    "colab": {},
    "colab_type": "code",
    "id": "WP5eGCdBBJWb"
   },
   "outputs": [],
   "source": [
    "first_list = [1, 2, 3]\n",
    "second_list = [4, 6, 5]\n",
    "both_lists = first_list + second_list\n",
    "print(both_lists)"
   ]
  },
  {
   "cell_type": "markdown",
   "metadata": {
    "colab_type": "text",
    "id": "oocpeePbTNdh"
   },
   "source": [
    "- Similarly, the `*` operator repeats a list a given number of times:\n",
    "\n",
    "```\n",
    "   >>> [0] * 4\n",
    "   [0, 0, 0, 0]\n",
    "   >>> [1, 2, 3] * 3\n",
    "   [1, 2, 3, 1, 2, 3, 1, 2, 3]\n",
    "```"
   ]
  },
  {
   "cell_type": "code",
   "execution_count": null,
   "metadata": {
    "colab": {},
    "colab_type": "code",
    "id": "l8wBm0zXBQeA"
   },
   "outputs": [],
   "source": [
    "print([0] * 4)\n",
    "print([1, 2, 3] * 3)"
   ]
  },
  {
   "cell_type": "markdown",
   "metadata": {
    "colab_type": "text",
    "id": "TWy4ShB5SF5B"
   },
   "source": [
    "## 5.06 List slices"
   ]
  },
  {
   "cell_type": "markdown",
   "metadata": {
    "colab_type": "text",
    "id": "siKDkeKeTR-H"
   },
   "source": [
    "### List slices\n",
    "\n",
    "- The slice operations we saw previously with strings let us work with\n",
    "    sublists:\n",
    "\n",
    "```\n",
    "   >>> a_list = [\"a\", \"b\", \"c\", \"d\", \"e\", \"f\"]\n",
    "   >>> a_list[1:3]\n",
    "   ['b', 'c']\n",
    "```"
   ]
  },
  {
   "cell_type": "code",
   "execution_count": null,
   "metadata": {
    "colab": {},
    "colab_type": "code",
    "id": "4JXyeeFTxWeU"
   },
   "outputs": [],
   "source": [
    "a_list = [\"a\", \"b\", \"c\", \"d\", \"e\", \"f\"]\n",
    "a_list[:4]"
   ]
  },
  {
   "cell_type": "code",
   "execution_count": null,
   "metadata": {
    "colab": {},
    "colab_type": "code",
    "id": "VKhkbTMExrzV"
   },
   "outputs": [],
   "source": [
    "a_list[3:]"
   ]
  },
  {
   "cell_type": "code",
   "execution_count": null,
   "metadata": {
    "colab": {},
    "colab_type": "code",
    "id": "g_R8jLZpxqKh"
   },
   "outputs": [],
   "source": [
    "a_list[:]"
   ]
  },
  {
   "cell_type": "markdown",
   "metadata": {
    "colab_type": "text",
    "id": "GPsR5VYPSImR"
   },
   "source": [
    "## 5.07 Lists are mutable"
   ]
  },
  {
   "cell_type": "markdown",
   "metadata": {
    "colab_type": "text",
    "id": "6XZ-iIXqTWoN"
   },
   "source": [
    "### Lists are mutable\n",
    "\n",
    "- Unlike strings, lists are **mutable**, which means we can change their\n",
    "    elements\n",
    "\n",
    "- An assignment to an element of a list is called **item assignment**\n",
    "\n",
    "```\n",
    "   >>> fruit = [\"banana\", \"apple\", \"quince\"]\n",
    "   >>> fruit[0] = \"pear\"\n",
    "   >>> fruit[2] = \"orange\"\n",
    "   >>> fruit\n",
    "   ['pear', 'apple', 'orange']\n",
    "```"
   ]
  },
  {
   "cell_type": "code",
   "execution_count": null,
   "metadata": {
    "colab": {},
    "colab_type": "code",
    "id": "L2CJnl79yv_4"
   },
   "outputs": [],
   "source": [
    "a_list = [\"a\", \"b\", \"c\", \"d\", \"e\", \"f\"]\n",
    "a_list[1:3] = []\n",
    "a_list"
   ]
  },
  {
   "cell_type": "code",
   "execution_count": null,
   "metadata": {
    "colab": {},
    "colab_type": "code",
    "id": "tdtBDNFazDI3"
   },
   "outputs": [],
   "source": [
    "a_list = [\"a\", \"d\", \"f\"]\n",
    "a_list[1:1] = [\"b\", \"c\"]\n",
    "a_list"
   ]
  },
  {
   "cell_type": "code",
   "execution_count": null,
   "metadata": {
    "colab": {},
    "colab_type": "code",
    "id": "O2I1HopPzJrL"
   },
   "outputs": [],
   "source": [
    "a_list[4:4] = [\"e\"]\n",
    "a_list"
   ]
  },
  {
   "cell_type": "markdown",
   "metadata": {
    "colab_type": "text",
    "id": "RjHWfcg1SLnN"
   },
   "source": [
    "## 5.08 List deletion"
   ]
  },
  {
   "cell_type": "markdown",
   "metadata": {
    "colab_type": "text",
    "id": "4HEq24kPTdRz"
   },
   "source": [
    "### List deletion\n",
    "\n",
    "- Using slices to delete list elements can be error-prone\n",
    "\n",
    "- The `del` statement removes an element from a list\n",
    "\n",
    "```\n",
    "   >>> a = [\"one\", \"two\", \"three\"]\n",
    "   >>> del a[1]\n",
    "   >>> a\n",
    "   [\"one\", \"three\"]\n",
    "```"
   ]
  },
  {
   "cell_type": "code",
   "execution_count": null,
   "metadata": {
    "colab": {},
    "colab_type": "code",
    "id": "83Yid19Szfh3"
   },
   "outputs": [],
   "source": [
    "a_list = [\"a\", \"b\", \"c\", \"d\", \"e\", \"f\"]\n",
    "del a_list[1:5]\n",
    "a_list"
   ]
  },
  {
   "cell_type": "markdown",
   "metadata": {
    "colab_type": "text",
    "id": "dpPRsprnSPDZ"
   },
   "source": [
    "## 5.09 Objects and references"
   ]
  },
  {
   "cell_type": "markdown",
   "metadata": {
    "colab_type": "text",
    "id": "TCWAo1zKTma2"
   },
   "source": [
    "### Objects and references\n",
    "\n",
    "\n",
    "- Since strings are *immutable*, Python optimizes resources by making\n",
    "    two names that **refer** to the same string value refer to the same\n",
    "    object\n",
    "\n",
    "```\n",
    "   >>> a = \"banana\"\n",
    "   >>> b = \"banana\"\n",
    "   >>> a is b\n",
    "   True\n",
    "```\n",
    "![banana](images/09/banana.png)\n"
   ]
  },
  {
   "cell_type": "markdown",
   "metadata": {
    "colab_type": "text",
    "id": "ToYnko-L03A8"
   },
   "source": [
    "-  that's not the case with lists\n",
    "\n",
    "```\n",
    "   >>> a = [1, 2, 3]\n",
    "   >>> b = [1, 2, 3]\n",
    "   >>> a == b\n",
    "   True\n",
    "   \n",
    "   >>> a is b\n",
    "   False\n",
    "```\n",
    "\n",
    "![lists](images/09/lists.png)\n"
   ]
  },
  {
   "cell_type": "markdown",
   "metadata": {
    "colab_type": "text",
    "id": "BQuGGbIl1hSl"
   },
   "source": [
    "-  a and b have the same value but do not refer to the same objec"
   ]
  },
  {
   "cell_type": "code",
   "execution_count": null,
   "metadata": {
    "colab": {},
    "colab_type": "code",
    "id": "pXax2TYp1Kiy"
   },
   "outputs": [],
   "source": [
    "a = [81, 82, 83]\n",
    "b = [81, 82, 83]"
   ]
  },
  {
   "cell_type": "markdown",
   "metadata": {
    "colab_type": "text",
    "id": "_HmHC5aXGKvo"
   },
   "source": [
    "![references](images/09/refs.png)"
   ]
  },
  {
   "cell_type": "code",
   "execution_count": null,
   "metadata": {
    "colab": {},
    "colab_type": "code",
    "id": "KVe9UbgfGJuZ"
   },
   "outputs": [],
   "source": [
    "a == b"
   ]
  },
  {
   "cell_type": "code",
   "execution_count": null,
   "metadata": {
    "colab": {},
    "colab_type": "code",
    "id": "IUv51SXM1Yay"
   },
   "outputs": [],
   "source": [
    "a is b"
   ]
  },
  {
   "cell_type": "markdown",
   "metadata": {
    "colab_type": "text",
    "id": "SUcA8Ecc5xFU"
   },
   "source": [
    "### Repetition and References\n",
    "\n",
    "\n",
    "With a list, the repetition operator creates copies of the references."
   ]
  },
  {
   "cell_type": "code",
   "execution_count": null,
   "metadata": {
    "colab": {},
    "colab_type": "code",
    "id": "yIcJj0Pu5s6n"
   },
   "outputs": [],
   "source": [
    "origlist = [45, 76, 34, 55]\n",
    "print([45, 76, 34, 55] * 3)\n",
    "\n",
    "newlist = [[45, 76, 34, 55]] * 3\n",
    "\n",
    "print(newlist)"
   ]
  },
  {
   "cell_type": "markdown",
   "metadata": {
    "colab_type": "text",
    "id": "uNCSSMZ96Oiq"
   },
   "source": [
    "![repetition](images/09/repetition.png)"
   ]
  },
  {
   "cell_type": "code",
   "execution_count": null,
   "metadata": {
    "colab": {},
    "colab_type": "code",
    "id": "y6cwa5tE7FxU"
   },
   "outputs": [],
   "source": [
    "origlist[1] = 99\n",
    "print(origlist)\n",
    "print(newlist)"
   ]
  },
  {
   "cell_type": "markdown",
   "metadata": {
    "colab_type": "text",
    "id": "zq0Lbbc77Wl5"
   },
   "source": [
    "![alises2](images/09/alias2.png)"
   ]
  },
  {
   "cell_type": "markdown",
   "metadata": {
    "colab_type": "text",
    "id": "RfQEDjDBSR2E"
   },
   "source": [
    "## 5.10 Aliasing"
   ]
  },
  {
   "cell_type": "markdown",
   "metadata": {
    "colab_type": "text",
    "id": "Hc6u-ou-TsRT"
   },
   "source": [
    "### Aliasing\n",
    "\n",
    "- Since variables refer to objects, if we assign one variable to\n",
    "    another, both variables refer to the same object\n",
    "\n",
    "- Although this behavior can be useful, it is sometimes unexpected or\n",
    "    undesirable\n",
    "\n",
    "```\n",
    "   >>> a = [1, 2, 3]\n",
    "   >>> b = a\n",
    "\n",
    "   >>> a is b\n",
    "   True\n",
    "\n",
    "   >>> b[0] = 5\n",
    "   >>> a\n",
    "   [5, 2, 3]\n",
    "```\n",
    "![aliases](images/09/lists2.png)"
   ]
  },
  {
   "cell_type": "markdown",
   "metadata": {
    "colab_type": "text",
    "id": "oNkR6p9a2Ik1"
   },
   "source": [
    "- Because the same list has two different names, `a` and `b`, we say that it is **aliased**. \n",
    "- Changes made with one alias affect the other:"
   ]
  },
  {
   "cell_type": "code",
   "execution_count": null,
   "metadata": {
    "colab": {},
    "colab_type": "code",
    "id": "lNMLH9nK2ULT"
   },
   "outputs": [],
   "source": [
    "a = [81, 82, 83]\n",
    "b = a\n",
    "print(b is a)\n",
    "b[0] = 85\n",
    "a"
   ]
  },
  {
   "cell_type": "markdown",
   "metadata": {
    "colab_type": "text",
    "id": "9JMjWESdGpDE"
   },
   "source": [
    "![alias](images/09/alias.png)"
   ]
  },
  {
   "cell_type": "markdown",
   "metadata": {
    "colab_type": "text",
    "id": "WSUtXtyXoxi1"
   },
   "source": [
    "### The use of aliases\n",
    "\n",
    "Why would you want to refer to one and the same variable by two different names? \n",
    "\n",
    "- Ordinarily, you don't. \n",
    "\n",
    "- However, some Python programming constructs automatically make use of aliases. \n",
    "\n",
    "- Actually, function argument identifiers are actually an alias to the variable they represent outside the function, with some consequences.\n"
   ]
  },
  {
   "cell_type": "markdown",
   "metadata": {
    "colab_type": "text",
    "id": "bO-JlJUXSVQn"
   },
   "source": [
    "## 5.11 Cloning lists"
   ]
  },
  {
   "cell_type": "markdown",
   "metadata": {
    "colab_type": "text",
    "id": "xFlvXvekTwC5"
   },
   "source": [
    "### Cloning lists\n",
    "\n",
    "- If we want to modify a list and also keep a copy of the original\n",
    "\n",
    "- The easiest way to **clone** a list is to use the slice operator\n",
    "\n",
    "```\n",
    "   >>> a = [1, 2, 3]\n",
    "   >>> b = a[:]     # considered bad practice\n",
    "   >>> c = a.copy() # better in Python3\n",
    "   \n",
    "   >>> b\n",
    "   [1, 2, 3]\n",
    "\n",
    "   >>> b[0] = 5\n",
    "\n",
    "   >>> a\n",
    "   [1, 2, 3]\n",
    "```"
   ]
  },
  {
   "cell_type": "markdown",
   "metadata": {
    "colab_type": "text",
    "id": "7HuEiSwP2nj1"
   },
   "source": [
    "Let's try it:"
   ]
  },
  {
   "cell_type": "code",
   "execution_count": null,
   "metadata": {
    "colab": {},
    "colab_type": "code",
    "id": "Z4F8ZZl32qEh"
   },
   "outputs": [],
   "source": [
    "a = [1, 2, 3]\n",
    "b = a.copy()\n",
    "print(b is a)\n",
    "b"
   ]
  },
  {
   "cell_type": "markdown",
   "metadata": {
    "colab_type": "text",
    "id": "aBqqPS7A25Ns"
   },
   "source": [
    "Now we are free to make changes to b without worrying that we’ll inadvertently be changing a:"
   ]
  },
  {
   "cell_type": "code",
   "execution_count": null,
   "metadata": {
    "colab": {},
    "colab_type": "code",
    "id": "5CG3sd1s27TE"
   },
   "outputs": [],
   "source": [
    "b[0] = 5\n",
    "a\n"
   ]
  },
  {
   "cell_type": "markdown",
   "metadata": {
    "colab_type": "text",
    "id": "wJHg8Bf1SlGl"
   },
   "source": [
    "## Using `zip()`"
   ]
  },
  {
   "cell_type": "markdown",
   "metadata": {
    "colab_type": "text",
    "id": "JIv668tJhXdI"
   },
   "source": [
    "### `zip()`\n",
    "\n",
    "- `zip()` is available in the built-in namespace\n",
    "\n",
    "- According to [the official documentation](https://docs.python.org/3/library/functions.html#zip), Python’s `zip()` function behaves as follows:\n",
    "\n",
    "> Returns an iterator of tuples, where the i-th tuple contains the i-th element \n",
    "> from each of the argument sequences or iterables. \n",
    "> \n",
    "> The iterator stops when the shortest input iterable is exhausted. \n",
    "> \n",
    "> With a single iterable argument, it returns an iterator of 1-tuples. \n",
    "> With no arguments, it returns an empty iterator. \n",
    "\n",
    "\n",
    "[Understanding the Python zip() Function](https://realpython.com/python-zip-function/#understanding-the-python-zip-function)"
   ]
  },
  {
   "cell_type": "markdown",
   "metadata": {
    "colab_type": "text",
    "id": "sPbUPw7ZT12U"
   },
   "source": [
    "### Using `zip()`\n",
    "\n",
    "\n",
    "```\n",
    "    coordinate = ['x', 'y', 'z']\n",
    "    value = [1, 2, 3, 4, 5]\n",
    "\n",
    "    result = zip(coordinate, value)\n",
    "    result_list = list(result)\n",
    "    print(result_list)\n",
    "\n",
    "    c, v =  zip(*result_list)\n",
    "    print(\"c =\", c)\n",
    "    print(\"v =\", v)\n",
    "```"
   ]
  },
  {
   "cell_type": "markdown",
   "metadata": {
    "colab_type": "text",
    "id": "r93ZkAVTkV6H"
   },
   "source": [
    "Try these:"
   ]
  },
  {
   "cell_type": "code",
   "execution_count": null,
   "metadata": {
    "colab": {},
    "colab_type": "code",
    "id": "ai37hyE03RPL"
   },
   "outputs": [],
   "source": [
    "l1 = ['a', 'b', 'c']\n",
    "l2 = [1, 2, 3, 4]\n",
    "\n",
    "z1 = zip(l1, l2)\n",
    "print(z1)\n",
    "print(type(z1))\n",
    "\n",
    "l3 = list(z1)\n",
    "print(l3)\n",
    "print(type(l3))"
   ]
  },
  {
   "cell_type": "code",
   "execution_count": null,
   "metadata": {
    "colab": {},
    "colab_type": "code",
    "id": "BBG6jDzN4eOY"
   },
   "outputs": [],
   "source": [
    "c, n =  zip(*l3)\n",
    "print(\"c =\", c)\n",
    "print(\"n =\", n)"
   ]
  },
  {
   "cell_type": "markdown",
   "metadata": {
    "colab_type": "text",
    "id": "TcLnGXLRkRP_"
   },
   "source": [
    "One more example:"
   ]
  },
  {
   "cell_type": "code",
   "execution_count": null,
   "metadata": {
    "colab": {},
    "colab_type": "code",
    "id": "EfEQOdHTkGpR"
   },
   "outputs": [],
   "source": [
    "letters = ['a', 'b', 'c']\n",
    "numbers = [0, 1, 2]\n",
    "for l, n in zip(letters, numbers):\n",
    "    print(f'Letter: {l}')\n",
    "    print(f'Number: {n}')"
   ]
  },
  {
   "cell_type": "markdown",
   "metadata": {
    "colab_type": "text",
    "id": "-88zpLeGUG3t"
   },
   "source": [
    "## List Operations"
   ]
  },
  {
   "cell_type": "markdown",
   "metadata": {
    "colab_type": "text",
    "id": "WHb8omgGUDg1"
   },
   "source": [
    "### List Operations\n",
    "\n",
    "- See the Python Standard Library for:\n",
    "\n",
    "  - a comprehensive list of \"Common Sequence Operations\":\n",
    "    [[PSL](https://docs.python.org/3.7/library/stdtypes.html#common-sequence-operations)]\n",
    "\n",
    "  - a comprehensive list of operations on \"Mutable Sequence Types\":\n",
    "    [[PSL](https://docs.python.org/3.7/library/stdtypes.html#mutable-sequence-types)]"
   ]
  },
  {
   "cell_type": "markdown",
   "metadata": {
    "colab_type": "text",
    "id": "9tZKDON_IwFg",
    "slideshow": {
     "slide_type": "skip"
    }
   },
   "source": [
    "## 5.12 Lists and for loops"
   ]
  },
  {
   "cell_type": "markdown",
   "metadata": {
    "colab_type": "text",
    "id": "vTCz3m6inp7g",
    "slideshow": {
     "slide_type": "subslide"
    }
   },
   "source": [
    "### Lists and `for` loops\n",
    "\n",
    "- The `for` loop also works with lists, as we've already seen\n",
    "\n",
    "- The generalized syntax of a `for` loop is:\n",
    "\n",
    "```\n",
    "   for <VARIABLE> in <LIST>:\n",
    "       <BODY>\n",
    "```"
   ]
  },
  {
   "cell_type": "markdown",
   "metadata": {
    "colab_type": "text",
    "id": "iuQclvxaBOG8",
    "slideshow": {
     "slide_type": "fragment"
    }
   },
   "source": [
    "\"For (every) friend in (the list of) friends, print (the name of the) friend\":"
   ]
  },
  {
   "cell_type": "code",
   "execution_count": null,
   "metadata": {
    "colab": {},
    "colab_type": "code",
    "id": "gVSlhxo2BDA7",
    "slideshow": {
     "slide_type": "slide"
    }
   },
   "outputs": [],
   "source": [
    "friends = [\"Joe\", \"Zoe\", \"Brad\", \"Angelina\", \"Zuki\", \"Thandi\", \"Paris\"]\n",
    "for friend in friends:\n",
    "    print(friend)"
   ]
  },
  {
   "cell_type": "markdown",
   "metadata": {
    "colab_type": "text",
    "id": "wx5xbc8Vn4ha",
    "slideshow": {
     "slide_type": "subslide"
    }
   },
   "source": [
    "### List expressions in for loops\n",
    "\n",
    "\n",
    "- Any list expression can be used in a `for` loop\n",
    "\n",
    "- `enumerate` generates pairs of both *(index, value)* during the list\n",
    "    traversal\n",
    "\n",
    "```\n",
    "   xs = [1, 2, 3, 4, 5]\n",
    "\n",
    "   for (i, val) in enumerate(xs):\n",
    "       xs[i] = val**2\n",
    "```\n"
   ]
  },
  {
   "cell_type": "markdown",
   "metadata": {
    "colab_type": "text",
    "id": "u69dF0B6yCrS",
    "slideshow": {
     "slide_type": "subslide"
    }
   },
   "source": [
    "Any list expression can be used in a for loop:"
   ]
  },
  {
   "cell_type": "code",
   "execution_count": null,
   "metadata": {
    "colab": {},
    "colab_type": "code",
    "id": "Kv91rTEbx7eH",
    "slideshow": {
     "slide_type": "fragment"
    }
   },
   "outputs": [],
   "source": [
    "for fruit in [\"banana\", \"apple\", \"quince\"]:\n",
    "    print(\"I like to eat \" + fruit + \"s!\")"
   ]
  },
  {
   "cell_type": "markdown",
   "metadata": {
    "colab_type": "text",
    "id": "7t0yPDhGyNq8",
    "slideshow": {
     "slide_type": "subslide"
    }
   },
   "source": [
    "Since lists are mutable, we often want to traverse a list, changing each of its elements"
   ]
  },
  {
   "cell_type": "code",
   "execution_count": null,
   "metadata": {
    "colab": {},
    "colab_type": "code",
    "id": "TK9FhCCTyTRe",
    "slideshow": {
     "slide_type": "fragment"
    }
   },
   "outputs": [],
   "source": [
    "xs = [1, 2, 3, 4, 5]\n",
    "\n",
    "for i in range(len(xs)):\n",
    "    xs[i] = xs[i]**2\n",
    "\n",
    "print(xs)"
   ]
  },
  {
   "cell_type": "markdown",
   "metadata": {
    "colab_type": "text",
    "id": "OCWQ0sXEyfa7",
    "slideshow": {
     "slide_type": "subslide"
    }
   },
   "source": [
    "Often we are interested in the value and also in the index; there's a *pattern* in Python for that"
   ]
  },
  {
   "cell_type": "code",
   "execution_count": null,
   "metadata": {
    "colab": {},
    "colab_type": "code",
    "id": "6j2fZYO6yaaj",
    "slideshow": {
     "slide_type": "fragment"
    }
   },
   "outputs": [],
   "source": [
    "xs = [1, 2, 3, 4, 5]\n",
    "\n",
    "for (i, val) in enumerate(xs):\n",
    "    xs[i] = val**2\n",
    "\n",
    "print(xs)"
   ]
  },
  {
   "cell_type": "markdown",
   "metadata": {
    "colab_type": "text",
    "id": "rgRJaKLQyrJ6",
    "slideshow": {
     "slide_type": "subslide"
    }
   },
   "source": [
    "Enumerate generates pairs of both (index, value) during the list traversal"
   ]
  },
  {
   "cell_type": "code",
   "execution_count": null,
   "metadata": {
    "colab": {},
    "colab_type": "code",
    "id": "ImXaYiSoyxCC",
    "slideshow": {
     "slide_type": "fragment"
    }
   },
   "outputs": [],
   "source": [
    "for (i, v) in enumerate([\"banana\", \"apple\", \"pear\", \"lemon\"]):\n",
    "    print(i, v)"
   ]
  },
  {
   "cell_type": "markdown",
   "metadata": {
    "colab_type": "text",
    "id": "84_9qGxnI0LH",
    "slideshow": {
     "slide_type": "skip"
    }
   },
   "source": [
    "## 5.13 List parameters"
   ]
  },
  {
   "cell_type": "markdown",
   "metadata": {
    "colab_type": "text",
    "id": "LsWiW_k2oET7",
    "slideshow": {
     "slide_type": "subslide"
    }
   },
   "source": [
    "### List parameters\n",
    "\n",
    "- Passing a list as an argument actually passes a *reference* to the\n",
    "    list, **not a copy** or clone of the list\n",
    "\n",
    "- So parameter passing creates an alias<sup>1</sup>\n",
    "\n",
    "```\n",
    "  def double_stuff(things):\n",
    "      \"\"\" Overwrite each element in a_list with double its value. \"\"\"\n",
    "      ...\n",
    "  a_list = [2, 5, 9]\n",
    "  double_stuff(a_list)\n",
    "```\n",
    "\n",
    "<sup>1</sup> The caller has one variable referencing the list, and the called\n",
    "    function has an alias, but there is only one underlying list object"
   ]
  },
  {
   "cell_type": "markdown",
   "metadata": {
    "slideshow": {
     "slide_type": "subslide"
    }
   },
   "source": [
    "\n",
    "![double_stuff](images/09/double_stuff.png)"
   ]
  },
  {
   "cell_type": "code",
   "execution_count": null,
   "metadata": {
    "colab": {},
    "colab_type": "code",
    "id": "G9lw6mlvzAFT",
    "slideshow": {
     "slide_type": "subslide"
    }
   },
   "outputs": [],
   "source": [
    "# A modifier or impure function (see later)\n",
    "def double_stuff(a_list):\n",
    "    \"\"\" Overwrite each element in a_list with double its value. \"\"\"\n",
    "    for (index, stuff) in enumerate(a_list):\n",
    "        a_list[index] = 2 * stuff\n",
    "\n",
    "things = [2, 5, 9]\n",
    "print(things)\n",
    "\n",
    "double_stuff(things)\n",
    "print(things)"
   ]
  },
  {
   "cell_type": "markdown",
   "metadata": {
    "colab_type": "text",
    "id": "whdHu_ClI3uP",
    "slideshow": {
     "slide_type": "skip"
    }
   },
   "source": [
    "## 5.14 List methods"
   ]
  },
  {
   "cell_type": "markdown",
   "metadata": {
    "colab_type": "text",
    "id": "rjC_4AQvue81",
    "slideshow": {
     "slide_type": "subslide"
    }
   },
   "source": [
    "### List methods\n",
    "\n",
    "- The dot operator can also be used to access built-in methods of list\n",
    "    objects\n",
    "\n",
    "```\n",
    "    >>> mylist = []\n",
    "    >>> mylist.append(5)      # Add 5 onto the end of mylist\n",
    "    >>> mylist.append(12)\n",
    "    >>> mylist\n",
    "    [5, 12]\n",
    "\n",
    "    >>> mylist.insert(1, 12)  # Insert 12 at pos 1, shift others\n",
    "    >>> mylist.count(12)      # How many times is 12 in mylist?\n",
    "\n",
    "    >>> mylist.extend([5, 9, 5, 11])\n",
    "    >>> mylist.index(9)       # Find index of first 9 in mylist\n",
    "    >>> mylist.reverse()\n",
    "    >>> mylist.sort()\n",
    "    >>> mylist.remove(12)     # Remove the first 12 in mylist\n",
    "```"
   ]
  },
  {
   "cell_type": "markdown",
   "metadata": {
    "colab_type": "text",
    "id": "GnDR_NxF8BrV",
    "slideshow": {
     "slide_type": "subslide"
    }
   },
   "source": [
    "### List Methods (summary)\n",
    "\n",
    "| Method  | Parameters      | Result   | Description  |\n",
    "|:--------|:----------------|:---------|:-------------|\n",
    "| append  | item            | mutator  | Adds a new item to the end of a list  |\n",
    "| insert  | position, item  | mutator  | Inserts a new item at the position given  |\n",
    "| pop     | none            | hybrid   | Removes and returns the last item  |\n",
    "| pop     | position        | hybrid   | Removes and returns the item at position  |\n",
    "| sort    | none            | mutator  | Modifies a list to be sorted  |\n",
    "| reverse | none            | mutator  | Modifies a list to be in reverse order  |\n",
    "| index   | item            | return idx | Returns the position of first occurrence of item  |\n",
    "| count   | item            | return ct  | Returns the number of occurrences of item  |\n",
    "| remove  | item            | mutator  | Removes the first occurrence of item  |\n",
    "\n",
    "- **mutator** means that the list is changed by the method but nothing is returned (actually None is returned)\n",
    "- **hybrid** method is one that not only changes the list but also returns a value as its result. \n",
    "- if the result is simply a **return**, then the list is unchanged by the method.\n"
   ]
  },
  {
   "cell_type": "markdown",
   "metadata": {
    "colab_type": "text",
    "id": "SJjOm5VBI8d2",
    "slideshow": {
     "slide_type": "skip"
    }
   },
   "source": [
    "## 5.15 Pure functions and modifiers (make *side-effects*)"
   ]
  },
  {
   "cell_type": "markdown",
   "metadata": {
    "colab_type": "text",
    "id": "k0GEbt0HuoE6",
    "slideshow": {
     "slide_type": "subslide"
    }
   },
   "source": [
    "### Pure functions and modifiers\n",
    "\n",
    "\n",
    "- As seen before, *there is a difference between a pure function and\n",
    "    one with side-effects*\n",
    "\n",
    "- Functions which take lists as arguments and change them during\n",
    "    execution are called **modifiers** and the changes they make are\n",
    "    called **side effects**\n",
    "\n",
    "- A **pure function** does not produce side effects\n",
    "\n",
    "    - It communicates with the calling program only through\n",
    "        parameters, which it does not modify, and a return value\n",
    "\n"
   ]
  },
  {
   "cell_type": "markdown",
   "metadata": {
    "colab_type": "text",
    "id": "YO6bfKASzRSq",
    "slideshow": {
     "slide_type": "subslide"
    }
   },
   "source": [
    "A version of `double_stuff()` as pure function (does not change its arguments):"
   ]
  },
  {
   "cell_type": "code",
   "execution_count": null,
   "metadata": {
    "colab": {},
    "colab_type": "code",
    "id": "tPEeRoXozVKX",
    "slideshow": {
     "slide_type": "fragment"
    }
   },
   "outputs": [],
   "source": [
    "def double_stuff2(a_list):\n",
    "    \"\"\" Return a new list which contains doubles of the elements in a_list. \"\"\"\n",
    "    new_list = []\n",
    "    for value in a_list:\n",
    "        new_elem = 2 * value\n",
    "        new_list.append(new_elem)\n",
    "    return new_list\n",
    "\n",
    "things = [2, 5, 9]\n",
    "print(things)\n",
    "\n",
    "double_stuff2(things)\n",
    "print(things)\n",
    "\n",
    "things2 = double_stuff2(things)\n",
    "print(things2)"
   ]
  },
  {
   "cell_type": "markdown",
   "metadata": {
    "colab_type": "text",
    "id": "BNdgVyqPEA1u",
    "slideshow": {
     "slide_type": "subslide"
    }
   },
   "source": [
    "### Functional Programming (style)\n",
    "\n",
    "- Anything that can be done with modifiers can also be done with pure functions. \n",
    "- In fact, some programming languages only allow pure functions (                               [Scheme](https://en.wikipedia.org/wiki/Scheme_(programming_language) ), [Haskel](https://en.wikipedia.org/wiki/Haskell_(programming_language) )). \n",
    "- There is some evidence that programs that use pure functions are faster to develop and less error-prone than programs that use modifiers. \n",
    "- Nevertheless, modifiers are convenient at times, and in some cases, functional programs are less efficient.\n",
    "\n",
    "\n",
    "> In general, it is recommended that you write pure functions whenever it is reasonable to do so and resort to modifiers only if there is a compelling advantage."
   ]
  },
  {
   "cell_type": "markdown",
   "metadata": {
    "colab_type": "text",
    "id": "R8FxF3b5I_8N",
    "slideshow": {
     "slide_type": "skip"
    }
   },
   "source": [
    "## 5.16 Functions that produce lists"
   ]
  },
  {
   "cell_type": "markdown",
   "metadata": {
    "colab_type": "text",
    "id": "7jnRns3sEnEw",
    "slideshow": {
     "slide_type": "subslide"
    }
   },
   "source": [
    "### Functions that produce lists\n",
    "\n",
    "- Whenever you need to write a function that creates and returns a\n",
    "    list, the *pattern* is usually:\n",
    "\n",
    "```\n",
    "   initialize a result variable to be an empty list\n",
    "   loop\n",
    "      create a new element\n",
    "      append it to result\n",
    "   return the result\n",
    "```"
   ]
  },
  {
   "cell_type": "markdown",
   "metadata": {
    "colab_type": "text",
    "id": "TYLk2f-mvAD8",
    "slideshow": {
     "slide_type": "fragment"
    }
   },
   "source": [
    "```\n",
    "   def primes_lessthan(n):\n",
    "       \"\"\" Return a list of all prime numbers less than n. \"\"\"\n",
    "       result = []\n",
    "       for i in range(2, n):\n",
    "           if is_prime(i):\n",
    "               result.append(i)\n",
    "   return result\n",
    "```"
   ]
  },
  {
   "cell_type": "markdown",
   "metadata": {
    "colab_type": "text",
    "id": "-iQA2axnJCrb",
    "slideshow": {
     "slide_type": "skip"
    }
   },
   "source": [
    "## 5.17 Strings and lists"
   ]
  },
  {
   "cell_type": "markdown",
   "metadata": {
    "colab_type": "text",
    "id": "ud3yYphvvWIJ",
    "slideshow": {
     "slide_type": "subslide"
    }
   },
   "source": [
    "### Strings and lists\n",
    "\n",
    "\n",
    "- Two of the most useful methods on strings involve conversion to and\n",
    "    from lists of substrings\n",
    "\n",
    "- The `split` method breaks a string into a list of words\n",
    "\n",
    "- By default, any number of whitespace characters is considered a word\n",
    "    boundary\n",
    "\n",
    "- An optional argument called a **delimiter** can be used to specify\n",
    "    which string to use as the boundary marker between substrings\n",
    "\n",
    "- The inverse of the `split` method is `join`\n",
    "\n",
    "- You choose a desired **separator** string and join the list with the\n",
    "    glue between each of the elements\n"
   ]
  },
  {
   "cell_type": "markdown",
   "metadata": {
    "colab_type": "text",
    "id": "Js_VF_Njzl62",
    "slideshow": {
     "slide_type": "subslide"
    }
   },
   "source": [
    "split:"
   ]
  },
  {
   "cell_type": "code",
   "execution_count": null,
   "metadata": {
    "colab": {},
    "colab_type": "code",
    "id": "gIe-sa4Lzo0C",
    "slideshow": {
     "slide_type": "fragment"
    }
   },
   "outputs": [],
   "source": [
    "song = \"The rain in Spain stays mainly in the plain!\"\n",
    "words = song.split()\n",
    "print(words)\n",
    "\n",
    "words = song.split(\"ai\")\n",
    "print(words)"
   ]
  },
  {
   "cell_type": "markdown",
   "metadata": {
    "colab_type": "text",
    "id": "aBgl5B2P0KlT",
    "slideshow": {
     "slide_type": "subslide"
    }
   },
   "source": [
    "join:"
   ]
  },
  {
   "cell_type": "code",
   "execution_count": null,
   "metadata": {
    "colab": {},
    "colab_type": "code",
    "id": "iPN_soRM0HmF",
    "slideshow": {
     "slide_type": "fragment"
    }
   },
   "outputs": [],
   "source": [
    "words = song.split()\n",
    "glue = \";\"\n",
    "phrase = glue.join(words)\n",
    "print(phrase)\n",
    "\n",
    "print(\" --- \".join(words))\n",
    "print(\"\".join(words))"
   ]
  },
  {
   "cell_type": "markdown",
   "metadata": {
    "colab_type": "text",
    "id": "6kh_ynd8Ff9q",
    "slideshow": {
     "slide_type": "subslide"
    }
   },
   "source": [
    "What is printed by the following statements?"
   ]
  },
  {
   "cell_type": "code",
   "execution_count": null,
   "metadata": {
    "colab": {},
    "colab_type": "code",
    "id": "HFY8P4RBFiI5",
    "slideshow": {
     "slide_type": "fragment"
    }
   },
   "outputs": [],
   "source": [
    "myname = \"Edgar Allan Poe\"\n",
    "namelist = myname.split()\n",
    "init = \"\"\n",
    "\n",
    "for aname in namelist:\n",
    "    init = init + aname[0]\n",
    "\n",
    "print(init)"
   ]
  },
  {
   "cell_type": "markdown",
   "metadata": {
    "colab_type": "text",
    "id": "fthNH83pJGM7",
    "slideshow": {
     "slide_type": "subslide"
    }
   },
   "source": [
    "## 5.18 Type conversions: list and range"
   ]
  },
  {
   "cell_type": "markdown",
   "metadata": {
    "colab_type": "text",
    "id": "S7VSrJtov4hu",
    "slideshow": {
     "slide_type": "slide"
    }
   },
   "source": [
    "### `list`\n",
    "\n",
    "- Python has a built-in type conversion function called `list` that\n",
    "    tries to turn whatever you give it into a list\n",
    "\n",
    "```\n",
    "   >>> letters = list(\"Crunchy Frog\")\n",
    "   >>> letters\n",
    "   [\"C\", \"r\", \"u\", \"n\", \"c\", \"h\", \"y\", \" \", \"F\", \"r\", \"o\", \"g\"]\n",
    "   >>> \"\".join(letters)\n",
    "   'Crunchy Frog'\n",
    "```"
   ]
  },
  {
   "cell_type": "markdown",
   "metadata": {
    "colab_type": "text",
    "id": "539Wtkv2wAUa",
    "slideshow": {
     "slide_type": "subslide"
    }
   },
   "source": [
    "### `list` and `range`\n",
    "\n",
    "- You'll sometimes find the lazy range wrapped in a call to list\n",
    "\n",
    "- This forces Python to turn the *lazy promise* into an actual list\n",
    "\n",
    "```\n",
    "   >>> range(10)          # Create a lazy promise\n",
    "   range(0, 10)\n",
    "\n",
    "   >>> list(range(10))    # Call in the promise, to produce a list\n",
    "   [0, 1, 2, 3, 4, 5, 6, 7, 8, 9]\n",
    "```"
   ]
  },
  {
   "cell_type": "markdown",
   "metadata": {
    "colab_type": "text",
    "id": "R8ai-U6TJIeg",
    "slideshow": {
     "slide_type": "skip"
    }
   },
   "source": [
    "## 5.19 Looping and lists"
   ]
  },
  {
   "cell_type": "markdown",
   "metadata": {
    "colab_type": "text",
    "id": "gcqczAxUwEnd",
    "slideshow": {
     "slide_type": "subslide"
    }
   },
   "source": [
    "### Looping and lists\n",
    "\n",
    "\n",
    "- Computers are useful because they can repeat computation, accurately\n",
    "    and fast\n",
    "\n",
    "- So loops are going to be a central feature of almost all programs\n",
    "    you encounter\n",
    "\n",
    "Tip: Don't create unnecessary lists\n",
    "\n",
    "> Lists are useful if you need to keep data for later computation.\n",
    ">\n",
    "> But if you don't need lists, it is probably better not to generate them.\n"
   ]
  },
  {
   "cell_type": "markdown",
   "metadata": {
    "colab_type": "text",
    "id": "HDl7okZzJK0X",
    "slideshow": {
     "slide_type": "skip"
    }
   },
   "source": [
    "## 5.20 Nested lists"
   ]
  },
  {
   "cell_type": "markdown",
   "metadata": {
    "colab_type": "text",
    "id": "dCTGYCorw5_5",
    "slideshow": {
     "slide_type": "subslide"
    }
   },
   "source": [
    "### Nested lists\n",
    "\n",
    "- A nested list is a list that appears as an element in another list\n",
    "\n",
    "```\n",
    "   >>> nested = [\"hello\", 2.0, 5, [10, 20]]\n",
    "   >>> print(nested[3])\n",
    "   [10, 20]\n",
    "\n",
    "   >>>  nested[3][1]\n",
    "   20\n",
    "```"
   ]
  },
  {
   "cell_type": "markdown",
   "metadata": {
    "colab_type": "text",
    "id": "LzWbnqGTFJVX",
    "slideshow": {
     "slide_type": "subslide"
    }
   },
   "source": [
    " What is printed by the following statements?"
   ]
  },
  {
   "cell_type": "code",
   "execution_count": null,
   "metadata": {
    "colab": {},
    "colab_type": "code",
    "id": "bZiBJmmiFGpA",
    "slideshow": {
     "slide_type": "fragment"
    }
   },
   "outputs": [],
   "source": [
    "alist = [ [4, [True, False], 6, 8], [888, 999] ]\n",
    "if alist[0][1][0]:\n",
    "   print(alist[1][0])\n",
    "else:\n",
    "   print(alist[1][1])"
   ]
  },
  {
   "cell_type": "markdown",
   "metadata": {
    "colab_type": "text",
    "id": "z6afUhKcJNFj",
    "slideshow": {
     "slide_type": "skip"
    }
   },
   "source": [
    "## 5.21 Matrices"
   ]
  },
  {
   "cell_type": "markdown",
   "metadata": {
    "colab_type": "text",
    "id": "FFafDUVWw--a",
    "slideshow": {
     "slide_type": "subslide"
    },
    "tags": []
   },
   "source": [
    "### Matrices\n",
    "\n",
    "- Nested lists are often used to represent matrices\n",
    "\n",
    "- For example, the matrix:\n",
    "\n",
    "$$ \\left[\n",
    "    \\begin{array}{ccc}\n",
    "    1  & 2  & 3 \\\\\n",
    "    4  & 5  & 6 \\\\\n",
    "    7  & 8  & 9\n",
    "    \\end{array}\n",
    "  \\right] $$\n",
    "\n",
    "```\n",
    "   >>> mx = [[1, 2, 3], [4, 5, 6], [7, 8, 9]]\n",
    "\n",
    "   >>> mx[1]       # select a row\n",
    "   [4, 5, 6]\n",
    "\n",
    "   >>> mx[1][2]    # extract a single element\n",
    "   6\n",
    "```\n"
   ]
  }
 ],
 "metadata": {
  "colab": {
   "collapsed_sections": [],
   "name": "03-flow-conditional.ipynb",
   "private_outputs": true,
   "provenance": [],
   "toc_visible": true
  },
  "kernelspec": {
   "display_name": "Python 3 (ipykernel)",
   "language": "python",
   "name": "python3"
  },
  "language_info": {
   "codemirror_mode": {
    "name": "ipython",
    "version": 3
   },
   "file_extension": ".py",
   "mimetype": "text/x-python",
   "name": "python",
   "nbconvert_exporter": "python",
   "pygments_lexer": "ipython3",
   "version": "3.12.7"
  }
 },
 "nbformat": 4,
 "nbformat_minor": 4
}
